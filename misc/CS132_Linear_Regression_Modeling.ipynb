{
  "cells": [
    {
      "attachments": {},
      "cell_type": "markdown",
      "metadata": {
        "id": "McY8-IUqrGBE"
      },
      "source": [
        "# Regression Analysis\n",
        "\n",
        "In this document, we perform Regression Analysis, particularly Linear Regression, for the data modeling portion of our project."
      ]
    },
    {
      "attachments": {},
      "cell_type": "markdown",
      "metadata": {
        "id": "V4SESwliso4a"
      },
      "source": [
        "# Loading the data\n",
        "\n",
        "First, we load the data from our [dataset](https://docs.google.com/spreadsheets/d/1jzNEJWQMvfK6aJeG28JSXecrLZfjeFOCYp-gtW0Q7LQ/edit#gid=1456408654) which we have made available online.\n",
        "\n",
        "We display the last three records as shown in the output to ensure that we have obtained all data properly."
      ]
    },
    {
      "cell_type": "code",
      "execution_count": 1,
      "metadata": {
        "colab": {
          "base_uri": "https://localhost:8080/",
          "height": 584
        },
        "id": "EU18__n3i3kv",
        "outputId": "7523e4f7-804a-407c-dd2f-99c27405d450"
      },
      "outputs": [
        {
          "data": {
            "text/html": [
              "<div>\n",
              "<style scoped>\n",
              "    .dataframe tbody tr th:only-of-type {\n",
              "        vertical-align: middle;\n",
              "    }\n",
              "\n",
              "    .dataframe tbody tr th {\n",
              "        vertical-align: top;\n",
              "    }\n",
              "\n",
              "    .dataframe thead th {\n",
              "        text-align: right;\n",
              "    }\n",
              "</style>\n",
              "<table border=\"1\" class=\"dataframe\">\n",
              "  <thead>\n",
              "    <tr style=\"text-align: right;\">\n",
              "      <th></th>\n",
              "      <th>ID</th>\n",
              "      <th>Timestamp</th>\n",
              "      <th>Tweet URL</th>\n",
              "      <th>Group</th>\n",
              "      <th>Collector</th>\n",
              "      <th>Category</th>\n",
              "      <th>Topic</th>\n",
              "      <th>Keywords</th>\n",
              "      <th>Account handle</th>\n",
              "      <th>Account name</th>\n",
              "      <th>...</th>\n",
              "      <th>Quote Tweets</th>\n",
              "      <th>Views</th>\n",
              "      <th>Rating</th>\n",
              "      <th>Reasoning</th>\n",
              "      <th>Remarks</th>\n",
              "      <th>Thread/Tweet Language</th>\n",
              "      <th>Add columns here</th>\n",
              "      <th>Add columns here</th>\n",
              "      <th>Reviewer</th>\n",
              "      <th>Review</th>\n",
              "    </tr>\n",
              "  </thead>\n",
              "  <tbody>\n",
              "    <tr>\n",
              "      <th>149</th>\n",
              "      <td>28-149</td>\n",
              "      <td>18/04/2023 23:47:41</td>\n",
              "      <td>https://twitter.com/fenum9/status/137914056758...</td>\n",
              "      <td>28</td>\n",
              "      <td>Pardiñas, Miguel</td>\n",
              "      <td>HLTH</td>\n",
              "      <td>COVID-19 vaccines contain microchip, magnetic ...</td>\n",
              "      <td>\"covid\" \"vaccine\" \"metal\"</td>\n",
              "      <td>@fenum9</td>\n",
              "      <td>h♤yd$n 🧙‍♂️ 𓅃</td>\n",
              "      <td>...</td>\n",
              "      <td>0</td>\n",
              "      <td>NaN</td>\n",
              "      <td>NaN</td>\n",
              "      <td>Tells that nurse on duty during vaccine appoin...</td>\n",
              "      <td>No location</td>\n",
              "      <td>Foreign</td>\n",
              "      <td>NaN</td>\n",
              "      <td>NaN</td>\n",
              "      <td>NaN</td>\n",
              "      <td>NaN</td>\n",
              "    </tr>\n",
              "    <tr>\n",
              "      <th>150</th>\n",
              "      <td>28-150</td>\n",
              "      <td>18/04/2023 23:54:57</td>\n",
              "      <td>https://twitter.com/Wengsterrr_/status/1371652...</td>\n",
              "      <td>28</td>\n",
              "      <td>Pardiñas, Miguel</td>\n",
              "      <td>HLTH</td>\n",
              "      <td>COVID-19 vaccines contain microchip, magnetic ...</td>\n",
              "      <td>\"bakuna\" \"tubig\"</td>\n",
              "      <td>@Wengsterrr_</td>\n",
              "      <td>𝕃𝕦𝕒𝕟𝕟 𝕃𝕚 👅</td>\n",
              "      <td>...</td>\n",
              "      <td>0</td>\n",
              "      <td>NaN</td>\n",
              "      <td>NaN</td>\n",
              "      <td>Complains why cases went up, and points that p...</td>\n",
              "      <td>Location might be fake</td>\n",
              "      <td>Filipino</td>\n",
              "      <td>NaN</td>\n",
              "      <td>NaN</td>\n",
              "      <td>NaN</td>\n",
              "      <td>NaN</td>\n",
              "    </tr>\n",
              "    <tr>\n",
              "      <th>151</th>\n",
              "      <td>28-151</td>\n",
              "      <td>18/04/2023 23:59:24</td>\n",
              "      <td>https://twitter.com/AdrianSBanal/status/141888...</td>\n",
              "      <td>28</td>\n",
              "      <td>Pardiñas, Miguel</td>\n",
              "      <td>HLTH</td>\n",
              "      <td>COVID-19 vaccines contain microchip, magnetic ...</td>\n",
              "      <td>\"bakuna\" \"tubig\"</td>\n",
              "      <td>@AdrianSBanal</td>\n",
              "      <td>Nabs</td>\n",
              "      <td>...</td>\n",
              "      <td>0</td>\n",
              "      <td>NaN</td>\n",
              "      <td>NaN</td>\n",
              "      <td>Complains that vaccine might not be working, a...</td>\n",
              "      <td>NaN</td>\n",
              "      <td>Filipino</td>\n",
              "      <td>NaN</td>\n",
              "      <td>NaN</td>\n",
              "      <td>NaN</td>\n",
              "      <td>NaN</td>\n",
              "    </tr>\n",
              "  </tbody>\n",
              "</table>\n",
              "<p>3 rows × 35 columns</p>\n",
              "</div>"
            ],
            "text/plain": [
              "0        ID            Timestamp  \\\n",
              "149  28-149  18/04/2023 23:47:41   \n",
              "150  28-150  18/04/2023 23:54:57   \n",
              "151  28-151  18/04/2023 23:59:24   \n",
              "\n",
              "0                                            Tweet URL Group  \\\n",
              "149  https://twitter.com/fenum9/status/137914056758...    28   \n",
              "150  https://twitter.com/Wengsterrr_/status/1371652...    28   \n",
              "151  https://twitter.com/AdrianSBanal/status/141888...    28   \n",
              "\n",
              "0           Collector Category  \\\n",
              "149  Pardiñas, Miguel     HLTH   \n",
              "150  Pardiñas, Miguel     HLTH   \n",
              "151  Pardiñas, Miguel     HLTH   \n",
              "\n",
              "0                                                Topic  \\\n",
              "149  COVID-19 vaccines contain microchip, magnetic ...   \n",
              "150  COVID-19 vaccines contain microchip, magnetic ...   \n",
              "151  COVID-19 vaccines contain microchip, magnetic ...   \n",
              "\n",
              "0                     Keywords Account handle   Account name  ...  \\\n",
              "149  \"covid\" \"vaccine\" \"metal\"        @fenum9  h♤yd$n 🧙‍♂️ 𓅃  ...   \n",
              "150           \"bakuna\" \"tubig\"   @Wengsterrr_     𝕃𝕦𝕒𝕟𝕟 𝕃𝕚 👅  ...   \n",
              "151           \"bakuna\" \"tubig\"  @AdrianSBanal           Nabs  ...   \n",
              "\n",
              "0   Quote Tweets Views Rating  \\\n",
              "149            0   NaN    NaN   \n",
              "150            0   NaN    NaN   \n",
              "151            0   NaN    NaN   \n",
              "\n",
              "0                                            Reasoning  \\\n",
              "149  Tells that nurse on duty during vaccine appoin...   \n",
              "150  Complains why cases went up, and points that p...   \n",
              "151  Complains that vaccine might not be working, a...   \n",
              "\n",
              "0                   Remarks Thread/Tweet Language Add columns here  \\\n",
              "149             No location               Foreign              NaN   \n",
              "150  Location might be fake              Filipino              NaN   \n",
              "151                     NaN              Filipino              NaN   \n",
              "\n",
              "0   Add columns here Reviewer Review  \n",
              "149              NaN      NaN    NaN  \n",
              "150              NaN      NaN    NaN  \n",
              "151              NaN      NaN    NaN  \n",
              "\n",
              "[3 rows x 35 columns]"
            ]
          },
          "execution_count": 1,
          "metadata": {},
          "output_type": "execute_result"
        }
      ],
      "source": [
        "# Load datasets\n",
        "import pandas as pd\n",
        "import gspread\n",
        "import numpy as np\n",
        "import scipy as sp\n",
        "\n",
        "import matplotlib.pyplot as plt\n",
        "import seaborn as sns\n",
        "\n",
        "custom_params = {\"axes.spines.right\": False, \"axes.spines.top\": False}\n",
        "sns.set_theme(style=\"darkgrid\", rc=custom_params, palette=\"pastel\")\n",
        "\n",
        "from IPython.display import display\n",
        "from scipy.stats import zscore\n",
        "\n",
        "sa = gspread.service_account(filename=\"group-28-dataset-7233caedfe09.json\")\n",
        "sheet = sa.open(\"Dataset - Group 28\")\n",
        "work_sheet = sheet.worksheet(\"Fixed Data\")\n",
        "\n",
        "df = pd.DataFrame(work_sheet.get_all_values())\n",
        "\n",
        "new_header = df.iloc[0]\n",
        "df = df[1:152]\n",
        "df.columns = new_header\n",
        "df = df.replace(r'^\\s*$', np.nan, regex=True)\n",
        "\n",
        "df.tail(3)"
      ]
    },
    {
      "attachments": {},
      "cell_type": "markdown",
      "metadata": {
        "id": "VNK1AhxFv4b3"
      },
      "source": [
        "Shown here are all the current features of the dataset.\n",
        "\n",
        "This may include features with missing values."
      ]
    },
    {
      "cell_type": "code",
      "execution_count": 2,
      "metadata": {
        "colab": {
          "base_uri": "https://localhost:8080/"
        },
        "id": "uIKnx_HUv5I5",
        "outputId": "9ec9df98-3e72-4ebc-94be-0c7b5258d0f7"
      },
      "outputs": [
        {
          "name": "stdout",
          "output_type": "stream",
          "text": [
            "List all current features:\n"
          ]
        },
        {
          "data": {
            "text/plain": [
              "Index(['ID', 'Timestamp', 'Tweet URL', 'Group', 'Collector', 'Category',\n",
              "       'Topic', 'Keywords', 'Account handle', 'Account name', 'Account bio',\n",
              "       'Account type', 'Joined', 'Following', 'Followers', 'Location', 'Tweet',\n",
              "       'Tweet Translated', 'Tweet Type', 'Date posted', 'Screenshot',\n",
              "       'Content type', 'Likes', 'Replies', 'Retweets', 'Quote Tweets', 'Views',\n",
              "       'Rating', 'Reasoning', 'Remarks', 'Thread/Tweet Language',\n",
              "       'Add columns here', 'Add columns here', 'Reviewer', 'Review'],\n",
              "      dtype='object', name=0)"
            ]
          },
          "execution_count": 2,
          "metadata": {},
          "output_type": "execute_result"
        }
      ],
      "source": [
        "print(\"List all current features:\")\n",
        "df.columns"
      ]
    },
    {
      "cell_type": "code",
      "execution_count": 3,
      "metadata": {
        "colab": {
          "base_uri": "https://localhost:8080/"
        },
        "id": "k0Q-2s3Rv7gs",
        "outputId": "3e099bb8-8e32-48a0-d2ae-8a74eb60d27b"
      },
      "outputs": [
        {
          "name": "stdout",
          "output_type": "stream",
          "text": [
            "Display the number of records and features:\n"
          ]
        },
        {
          "data": {
            "text/plain": [
              "(151, 35)"
            ]
          },
          "execution_count": 3,
          "metadata": {},
          "output_type": "execute_result"
        }
      ],
      "source": [
        "print(\"Display the number of records and features:\")\n",
        "df.shape"
      ]
    },
    {
      "attachments": {},
      "cell_type": "markdown",
      "metadata": {
        "id": "25erBVqfwCKz"
      },
      "source": [
        "# Checking for missing values\n",
        "\n",
        "Now, we check which features has no missing values.\n",
        "\n",
        "From, here we can see that there are missing value on Account Bio, Location, Screenshot, etc."
      ]
    },
    {
      "cell_type": "code",
      "execution_count": 4,
      "metadata": {
        "colab": {
          "base_uri": "https://localhost:8080/"
        },
        "id": "047FJBOqwFyk",
        "outputId": "665ac424-0789-4fcc-9d4d-dda30e08f989"
      },
      "outputs": [
        {
          "name": "stdout",
          "output_type": "stream",
          "text": [
            "Check for features with missing values:\n"
          ]
        },
        {
          "data": {
            "text/plain": [
              "['Account bio',\n",
              " 'Location',\n",
              " 'Screenshot',\n",
              " 'Quote Tweets',\n",
              " 'Views',\n",
              " 'Rating',\n",
              " 'Remarks',\n",
              " 'Add columns here',\n",
              " 'Add columns here',\n",
              " 'Reviewer',\n",
              " 'Review']"
            ]
          },
          "execution_count": 4,
          "metadata": {},
          "output_type": "execute_result"
        }
      ],
      "source": [
        "print(\"Check for features with missing values:\")\n",
        "df.columns[df.isna().any()].tolist()"
      ]
    },
    {
      "attachments": {},
      "cell_type": "markdown",
      "metadata": {
        "id": "oC74mXIAwRBd"
      },
      "source": [
        "Upon checking, the collectors deemed that the only necessary features for this project are as follows:\n",
        "\n",
        "`['ID', 'Timestamp', 'Tweet URL', 'Group', 'Keywords', 'Account handle', 'Account name', 'Account bio', 'Account type',\n",
        "'Tweet', 'Tweet Translated', 'Tweet Type', 'Date posted',\n",
        "'Content type', 'Reasoning', 'Thread/Tweet Language',]`"
      ]
    },
    {
      "attachments": {},
      "cell_type": "markdown",
      "metadata": {
        "id": "fe0VwcOgwX8w"
      },
      "source": [
        "From the previous output, we can verify that all of these features have no missing value."
      ]
    },
    {
      "cell_type": "code",
      "execution_count": 5,
      "metadata": {
        "colab": {
          "base_uri": "https://localhost:8080/",
          "height": 655
        },
        "id": "lVmaOEg9wZET",
        "outputId": "4eab51ea-9bff-4c06-d3be-9e36aff1ceb1"
      },
      "outputs": [
        {
          "name": "stdout",
          "output_type": "stream",
          "text": [
            "Dataset summary:\n"
          ]
        },
        {
          "data": {
            "text/html": [
              "<div>\n",
              "<style scoped>\n",
              "    .dataframe tbody tr th:only-of-type {\n",
              "        vertical-align: middle;\n",
              "    }\n",
              "\n",
              "    .dataframe tbody tr th {\n",
              "        vertical-align: top;\n",
              "    }\n",
              "\n",
              "    .dataframe thead th {\n",
              "        text-align: right;\n",
              "    }\n",
              "</style>\n",
              "<table border=\"1\" class=\"dataframe\">\n",
              "  <thead>\n",
              "    <tr style=\"text-align: right;\">\n",
              "      <th></th>\n",
              "      <th>ID</th>\n",
              "      <th>Timestamp</th>\n",
              "      <th>Tweet URL</th>\n",
              "      <th>Group</th>\n",
              "      <th>Keywords</th>\n",
              "      <th>Account handle</th>\n",
              "      <th>Account name</th>\n",
              "      <th>Account bio</th>\n",
              "      <th>Account type</th>\n",
              "      <th>Tweet</th>\n",
              "      <th>Tweet Translated</th>\n",
              "      <th>Tweet Type</th>\n",
              "      <th>Date posted</th>\n",
              "      <th>Content type</th>\n",
              "      <th>Reasoning</th>\n",
              "      <th>Thread/Tweet Language</th>\n",
              "    </tr>\n",
              "  </thead>\n",
              "  <tbody>\n",
              "    <tr>\n",
              "      <th>148</th>\n",
              "      <td>28-148</td>\n",
              "      <td>18/04/2023 23:43:56</td>\n",
              "      <td>https://twitter.com/HatzPurp/status/1385080074...</td>\n",
              "      <td>28</td>\n",
              "      <td>\"covid\" \"vaccine\" \"metal\"</td>\n",
              "      <td>@HatzPurp</td>\n",
              "      <td>Hatz Purp</td>\n",
              "      <td>Versatile</td>\n",
              "      <td>Anonymous</td>\n",
              "      <td>Covid-19 is a man-made Virus released on the p...</td>\n",
              "      <td>Covid-19 is a man-made Virus released on the p...</td>\n",
              "      <td>Text, Reply</td>\n",
              "      <td>22/04/21 11:56</td>\n",
              "      <td>Rational</td>\n",
              "      <td>Says that covid is man-made to make the public...</td>\n",
              "      <td>Foreign</td>\n",
              "    </tr>\n",
              "    <tr>\n",
              "      <th>149</th>\n",
              "      <td>28-149</td>\n",
              "      <td>18/04/2023 23:47:41</td>\n",
              "      <td>https://twitter.com/fenum9/status/137914056758...</td>\n",
              "      <td>28</td>\n",
              "      <td>\"covid\" \"vaccine\" \"metal\"</td>\n",
              "      <td>@fenum9</td>\n",
              "      <td>h♤yd$n 🧙‍♂️ 𓅃</td>\n",
              "      <td>tall glass of yogurt</td>\n",
              "      <td>Anonymous</td>\n",
              "      <td>Was just waiting to get COVID vaccine and the ...</td>\n",
              "      <td>Was just waiting to get COVID vaccine and the ...</td>\n",
              "      <td>Text</td>\n",
              "      <td>6/4/21 2:35</td>\n",
              "      <td>Emotional</td>\n",
              "      <td>Tells that nurse on duty during vaccine appoin...</td>\n",
              "      <td>Foreign</td>\n",
              "    </tr>\n",
              "    <tr>\n",
              "      <th>150</th>\n",
              "      <td>28-150</td>\n",
              "      <td>18/04/2023 23:54:57</td>\n",
              "      <td>https://twitter.com/Wengsterrr_/status/1371652...</td>\n",
              "      <td>28</td>\n",
              "      <td>\"bakuna\" \"tubig\"</td>\n",
              "      <td>@Wengsterrr_</td>\n",
              "      <td>𝕃𝕦𝕒𝕟𝕟 𝕃𝕚 👅</td>\n",
              "      <td>— ɪ’ᴍ ᴀ ᴘᴀʀᴀᴅᴏx.</td>\n",
              "      <td>Anonymous</td>\n",
              "      <td>Kung kelan nagkaroon ng bakuna kontra COVID, t...</td>\n",
              "      <td>When there was a vaccine against COVID, positi...</td>\n",
              "      <td>Text</td>\n",
              "      <td>16/03/21 10:41</td>\n",
              "      <td>Emotional</td>\n",
              "      <td>Complains why cases went up, and points that p...</td>\n",
              "      <td>Filipino</td>\n",
              "    </tr>\n",
              "    <tr>\n",
              "      <th>151</th>\n",
              "      <td>28-151</td>\n",
              "      <td>18/04/2023 23:59:24</td>\n",
              "      <td>https://twitter.com/AdrianSBanal/status/141888...</td>\n",
              "      <td>28</td>\n",
              "      <td>\"bakuna\" \"tubig\"</td>\n",
              "      <td>@AdrianSBanal</td>\n",
              "      <td>Nabs</td>\n",
              "      <td>Malas lang</td>\n",
              "      <td>Anonymous</td>\n",
              "      <td>Taenang bakuna walang epekto tubig baha lang a...</td>\n",
              "      <td>Taenang vaccine has no effect, it's just flood...</td>\n",
              "      <td>Text</td>\n",
              "      <td>24/07/21 19:01</td>\n",
              "      <td>Emotional</td>\n",
              "      <td>Complains that vaccine might not be working, a...</td>\n",
              "      <td>Filipino</td>\n",
              "    </tr>\n",
              "  </tbody>\n",
              "</table>\n",
              "</div>"
            ],
            "text/plain": [
              "0        ID            Timestamp  \\\n",
              "148  28-148  18/04/2023 23:43:56   \n",
              "149  28-149  18/04/2023 23:47:41   \n",
              "150  28-150  18/04/2023 23:54:57   \n",
              "151  28-151  18/04/2023 23:59:24   \n",
              "\n",
              "0                                            Tweet URL Group  \\\n",
              "148  https://twitter.com/HatzPurp/status/1385080074...    28   \n",
              "149  https://twitter.com/fenum9/status/137914056758...    28   \n",
              "150  https://twitter.com/Wengsterrr_/status/1371652...    28   \n",
              "151  https://twitter.com/AdrianSBanal/status/141888...    28   \n",
              "\n",
              "0                     Keywords Account handle   Account name  \\\n",
              "148  \"covid\" \"vaccine\" \"metal\"      @HatzPurp      Hatz Purp   \n",
              "149  \"covid\" \"vaccine\" \"metal\"        @fenum9  h♤yd$n 🧙‍♂️ 𓅃   \n",
              "150           \"bakuna\" \"tubig\"   @Wengsterrr_     𝕃𝕦𝕒𝕟𝕟 𝕃𝕚 👅   \n",
              "151           \"bakuna\" \"tubig\"  @AdrianSBanal           Nabs   \n",
              "\n",
              "0             Account bio Account type  \\\n",
              "148             Versatile    Anonymous   \n",
              "149  tall glass of yogurt    Anonymous   \n",
              "150      — ɪ’ᴍ ᴀ ᴘᴀʀᴀᴅᴏx.    Anonymous   \n",
              "151            Malas lang    Anonymous   \n",
              "\n",
              "0                                                Tweet  \\\n",
              "148  Covid-19 is a man-made Virus released on the p...   \n",
              "149  Was just waiting to get COVID vaccine and the ...   \n",
              "150  Kung kelan nagkaroon ng bakuna kontra COVID, t...   \n",
              "151  Taenang bakuna walang epekto tubig baha lang a...   \n",
              "\n",
              "0                                     Tweet Translated   Tweet Type  \\\n",
              "148  Covid-19 is a man-made Virus released on the p...  Text, Reply   \n",
              "149  Was just waiting to get COVID vaccine and the ...         Text   \n",
              "150  When there was a vaccine against COVID, positi...         Text   \n",
              "151  Taenang vaccine has no effect, it's just flood...         Text   \n",
              "\n",
              "0       Date posted Content type  \\\n",
              "148  22/04/21 11:56     Rational   \n",
              "149     6/4/21 2:35    Emotional   \n",
              "150  16/03/21 10:41    Emotional   \n",
              "151  24/07/21 19:01    Emotional   \n",
              "\n",
              "0                                            Reasoning Thread/Tweet Language  \n",
              "148  Says that covid is man-made to make the public...               Foreign  \n",
              "149  Tells that nurse on duty during vaccine appoin...               Foreign  \n",
              "150  Complains why cases went up, and points that p...              Filipino  \n",
              "151  Complains that vaccine might not be working, a...              Filipino  "
            ]
          },
          "execution_count": 5,
          "metadata": {},
          "output_type": "execute_result"
        }
      ],
      "source": [
        "print(\"Dataset summary:\")\n",
        "df_clean = df[['ID', 'Timestamp', 'Tweet URL', 'Group', 'Keywords',\n",
        "         'Account handle', 'Account name', 'Account bio', 'Account type',\n",
        "         'Tweet', 'Tweet Translated', 'Tweet Type', 'Date posted',\n",
        "         'Content type', 'Reasoning', 'Thread/Tweet Language',]]\n",
        "df_clean.tail(4)"
      ]
    },
    {
      "attachments": {},
      "cell_type": "markdown",
      "metadata": {
        "id": "8PLcHUrlwnXD"
      },
      "source": [
        "The table shows a simple summary of our clean dataset. Some notable observations are as follows:\n",
        "\n",
        "\n",
        "*   ID, Tweet URL, Tweet, and Tweet Translated have unique values.\n",
        "*   82 out of 151 tweets are of Emotional content type.\n",
        "*   There are 78 Foreign Tweets. This also implies that the remaining 73 tweets are Filipino Tweets.\n",
        "*   Ven Cuenca has four tweets on this dataset."
      ]
    },
    {
      "attachments": {},
      "cell_type": "markdown",
      "metadata": {
        "id": "NP7JSpV7w3HU"
      },
      "source": [
        "# Ensuring formatting consistency\n",
        "\n",
        "For this subsection, we will check formatting consistency of some features.\n",
        "\n",
        "For timestamp, we ensured that the data type is datetime. By default, the format of datetime in Pandas is YYYY-MM-DD HH:MM:SS."
      ]
    },
    {
      "cell_type": "code",
      "execution_count": 6,
      "metadata": {
        "colab": {
          "base_uri": "https://localhost:8080/"
        },
        "id": "waL3hVCJw6pg",
        "outputId": "ca80d3fc-dd6d-4c52-e395-25146cd2aeaf"
      },
      "outputs": [
        {
          "data": {
            "text/plain": [
              "1     2023-02-27 13:34:22\n",
              "2     2023-02-27 13:40:42\n",
              "3     2023-03-03 03:23:13\n",
              "4     2023-03-03 03:31:35\n",
              "5     2023-03-03 03:43:09\n",
              "              ...        \n",
              "147   2023-04-18 23:41:34\n",
              "148   2023-04-18 23:43:56\n",
              "149   2023-04-18 23:47:41\n",
              "150   2023-04-18 23:54:57\n",
              "151   2023-04-18 23:59:24\n",
              "Name: Timestamp, Length: 151, dtype: datetime64[ns]"
            ]
          },
          "execution_count": 6,
          "metadata": {},
          "output_type": "execute_result"
        }
      ],
      "source": [
        "df_clean.loc[0:151, \"Timestamp\"] = pd.to_datetime(df_clean[\"Timestamp\"], format='%d/%m/%Y %H:%M:%S').copy()\n",
        "df_clean[\"Timestamp\"].apply(pd.to_datetime)"
      ]
    },
    {
      "attachments": {},
      "cell_type": "markdown",
      "metadata": {
        "id": "Q6AdlmHdw8vC"
      },
      "source": [
        "For date posted, we ensured that the data type is datetime. By default, the format of datetime in Pandas is YYYY-MM-DD HH:MM:SS."
      ]
    },
    {
      "cell_type": "code",
      "execution_count": 7,
      "metadata": {
        "colab": {
          "base_uri": "https://localhost:8080/"
        },
        "id": "nvl9rIuJw940",
        "outputId": "8a0e7624-2571-4561-afca-da8d34090424"
      },
      "outputs": [
        {
          "data": {
            "text/plain": [
              "1     2021-08-24 19:34:00\n",
              "2     2021-08-20 13:59:00\n",
              "3     2021-08-14 21:35:00\n",
              "4     2021-08-09 20:12:00\n",
              "5     2021-08-04 15:54:00\n",
              "              ...        \n",
              "147   2021-03-02 19:07:00\n",
              "148   2021-04-22 11:56:00\n",
              "149   2021-04-06 02:35:00\n",
              "150   2021-03-16 10:41:00\n",
              "151   2021-07-24 19:01:00\n",
              "Name: Date posted, Length: 151, dtype: datetime64[ns]"
            ]
          },
          "execution_count": 7,
          "metadata": {},
          "output_type": "execute_result"
        }
      ],
      "source": [
        "df_clean.loc[0:151, \"Date posted\"] = pd.to_datetime(df_clean[\"Date posted\"], format='%d/%m/%y %H:%M').copy()\n",
        "df_clean[\"Date posted\"].apply(pd.to_datetime)"
      ]
    },
    {
      "attachments": {},
      "cell_type": "markdown",
      "metadata": {
        "id": "StCuUARTw_sg"
      },
      "source": [
        "# Linear Regression\n",
        "\n",
        "For linear regression, the group intends to observe what timeframes have high frequencies of posted tweets.\n",
        "\n",
        "To obtain this, we create a new featured named `Count` as a part of our data.\n",
        "\n",
        "`Count` is the number of tweets posted in a given time."
      ]
    },
    {
      "cell_type": "code",
      "execution_count": 8,
      "metadata": {
        "colab": {
          "base_uri": "https://localhost:8080/",
          "height": 424
        },
        "id": "dWB9elzpyjUb",
        "outputId": "a2a5f141-ff11-4651-9077-3a34fbe4c1e9"
      },
      "outputs": [
        {
          "data": {
            "text/html": [
              "<div>\n",
              "<style scoped>\n",
              "    .dataframe tbody tr th:only-of-type {\n",
              "        vertical-align: middle;\n",
              "    }\n",
              "\n",
              "    .dataframe tbody tr th {\n",
              "        vertical-align: top;\n",
              "    }\n",
              "\n",
              "    .dataframe thead th {\n",
              "        text-align: right;\n",
              "    }\n",
              "</style>\n",
              "<table border=\"1\" class=\"dataframe\">\n",
              "  <thead>\n",
              "    <tr style=\"text-align: right;\">\n",
              "      <th></th>\n",
              "      <th>Date</th>\n",
              "      <th>Count</th>\n",
              "    </tr>\n",
              "  </thead>\n",
              "  <tbody>\n",
              "    <tr>\n",
              "      <th>1</th>\n",
              "      <td>2021-08-24 19:34:00</td>\n",
              "      <td>1</td>\n",
              "    </tr>\n",
              "    <tr>\n",
              "      <th>2</th>\n",
              "      <td>2021-08-20 13:59:00</td>\n",
              "      <td>1</td>\n",
              "    </tr>\n",
              "    <tr>\n",
              "      <th>3</th>\n",
              "      <td>2021-08-14 21:35:00</td>\n",
              "      <td>1</td>\n",
              "    </tr>\n",
              "    <tr>\n",
              "      <th>4</th>\n",
              "      <td>2021-08-09 20:12:00</td>\n",
              "      <td>1</td>\n",
              "    </tr>\n",
              "    <tr>\n",
              "      <th>5</th>\n",
              "      <td>2021-08-04 15:54:00</td>\n",
              "      <td>1</td>\n",
              "    </tr>\n",
              "    <tr>\n",
              "      <th>...</th>\n",
              "      <td>...</td>\n",
              "      <td>...</td>\n",
              "    </tr>\n",
              "    <tr>\n",
              "      <th>147</th>\n",
              "      <td>2021-03-02 19:07:00</td>\n",
              "      <td>1</td>\n",
              "    </tr>\n",
              "    <tr>\n",
              "      <th>148</th>\n",
              "      <td>2021-04-22 11:56:00</td>\n",
              "      <td>1</td>\n",
              "    </tr>\n",
              "    <tr>\n",
              "      <th>149</th>\n",
              "      <td>2021-04-06 02:35:00</td>\n",
              "      <td>1</td>\n",
              "    </tr>\n",
              "    <tr>\n",
              "      <th>150</th>\n",
              "      <td>2021-03-16 10:41:00</td>\n",
              "      <td>1</td>\n",
              "    </tr>\n",
              "    <tr>\n",
              "      <th>151</th>\n",
              "      <td>2021-07-24 19:01:00</td>\n",
              "      <td>1</td>\n",
              "    </tr>\n",
              "  </tbody>\n",
              "</table>\n",
              "<p>151 rows × 2 columns</p>\n",
              "</div>"
            ],
            "text/plain": [
              "                   Date  Count\n",
              "1   2021-08-24 19:34:00      1\n",
              "2   2021-08-20 13:59:00      1\n",
              "3   2021-08-14 21:35:00      1\n",
              "4   2021-08-09 20:12:00      1\n",
              "5   2021-08-04 15:54:00      1\n",
              "..                  ...    ...\n",
              "147 2021-03-02 19:07:00      1\n",
              "148 2021-04-22 11:56:00      1\n",
              "149 2021-04-06 02:35:00      1\n",
              "150 2021-03-16 10:41:00      1\n",
              "151 2021-07-24 19:01:00      1\n",
              "\n",
              "[151 rows x 2 columns]"
            ]
          },
          "execution_count": 8,
          "metadata": {},
          "output_type": "execute_result"
        }
      ],
      "source": [
        "df_dates = pd.DataFrame({\"Date\": df_clean[\"Date posted\"].apply(pd.to_datetime), \"Count\":1})\n",
        "df_dates"
      ]
    },
    {
      "attachments": {},
      "cell_type": "markdown",
      "metadata": {
        "id": "JfzDPtma2wSb"
      },
      "source": [
        "Here, we employ the binning technique via grouping, to sum counts in a semimonthly manner.\n",
        "\n",
        "We can also confirm that `Count` sums to 151 tweets in total."
      ]
    },
    {
      "cell_type": "code",
      "execution_count": 9,
      "metadata": {
        "colab": {
          "base_uri": "https://localhost:8080/",
          "height": 441
        },
        "id": "OcvRWkKj2ONB",
        "outputId": "b0dece28-2202-4524-ece7-4413d0d6de0c"
      },
      "outputs": [
        {
          "data": {
            "text/html": [
              "<div>\n",
              "<style scoped>\n",
              "    .dataframe tbody tr th:only-of-type {\n",
              "        vertical-align: middle;\n",
              "    }\n",
              "\n",
              "    .dataframe tbody tr th {\n",
              "        vertical-align: top;\n",
              "    }\n",
              "\n",
              "    .dataframe thead th {\n",
              "        text-align: right;\n",
              "    }\n",
              "</style>\n",
              "<table border=\"1\" class=\"dataframe\">\n",
              "  <thead>\n",
              "    <tr style=\"text-align: right;\">\n",
              "      <th></th>\n",
              "      <th>Date</th>\n",
              "      <th>Count</th>\n",
              "    </tr>\n",
              "  </thead>\n",
              "  <tbody>\n",
              "    <tr>\n",
              "      <th>0</th>\n",
              "      <td>2020-01-15</td>\n",
              "      <td>1</td>\n",
              "    </tr>\n",
              "    <tr>\n",
              "      <th>1</th>\n",
              "      <td>2020-02-01</td>\n",
              "      <td>0</td>\n",
              "    </tr>\n",
              "    <tr>\n",
              "      <th>2</th>\n",
              "      <td>2020-02-15</td>\n",
              "      <td>0</td>\n",
              "    </tr>\n",
              "    <tr>\n",
              "      <th>3</th>\n",
              "      <td>2020-03-01</td>\n",
              "      <td>1</td>\n",
              "    </tr>\n",
              "    <tr>\n",
              "      <th>4</th>\n",
              "      <td>2020-03-15</td>\n",
              "      <td>1</td>\n",
              "    </tr>\n",
              "    <tr>\n",
              "      <th>...</th>\n",
              "      <td>...</td>\n",
              "      <td>...</td>\n",
              "    </tr>\n",
              "    <tr>\n",
              "      <th>66</th>\n",
              "      <td>2022-10-15</td>\n",
              "      <td>1</td>\n",
              "    </tr>\n",
              "    <tr>\n",
              "      <th>67</th>\n",
              "      <td>2022-11-01</td>\n",
              "      <td>0</td>\n",
              "    </tr>\n",
              "    <tr>\n",
              "      <th>68</th>\n",
              "      <td>2022-11-15</td>\n",
              "      <td>1</td>\n",
              "    </tr>\n",
              "    <tr>\n",
              "      <th>69</th>\n",
              "      <td>2022-12-01</td>\n",
              "      <td>8</td>\n",
              "    </tr>\n",
              "    <tr>\n",
              "      <th>70</th>\n",
              "      <td>2022-12-15</td>\n",
              "      <td>12</td>\n",
              "    </tr>\n",
              "  </tbody>\n",
              "</table>\n",
              "<p>71 rows × 2 columns</p>\n",
              "</div>"
            ],
            "text/plain": [
              "         Date  Count\n",
              "0  2020-01-15      1\n",
              "1  2020-02-01      0\n",
              "2  2020-02-15      0\n",
              "3  2020-03-01      1\n",
              "4  2020-03-15      1\n",
              "..        ...    ...\n",
              "66 2022-10-15      1\n",
              "67 2022-11-01      0\n",
              "68 2022-11-15      1\n",
              "69 2022-12-01      8\n",
              "70 2022-12-15     12\n",
              "\n",
              "[71 rows x 2 columns]"
            ]
          },
          "metadata": {},
          "output_type": "display_data"
        },
        {
          "name": "stdout",
          "output_type": "stream",
          "text": [
            "Sum of 'Count': 151\n"
          ]
        }
      ],
      "source": [
        "df_dates_binned = df_dates.groupby(pd.Grouper(key=\"Date\", freq=\"SMS\")).sum()\n",
        "\n",
        "df_dates_binned.reset_index(inplace=True)\n",
        "df_dates_binned.columns = ['Date', 'Count']\n",
        "\n",
        "display(df_dates_binned)\n",
        "\n",
        "print(f\"Sum of 'Count': {df_dates_binned['Count'].sum()}\")"
      ]
    },
    {
      "attachments": {},
      "cell_type": "markdown",
      "metadata": {
        "id": "kAeofV980_xZ"
      },
      "source": [
        "Here, let us describe our `df_dates_binned` dataset"
      ]
    },
    {
      "cell_type": "code",
      "execution_count": 10,
      "metadata": {
        "colab": {
          "base_uri": "https://localhost:8080/",
          "height": 300
        },
        "id": "pSLR8hdt0HCN",
        "outputId": "487def70-32d4-48f1-933a-15fa1c8d3d7b"
      },
      "outputs": [
        {
          "data": {
            "text/html": [
              "<div>\n",
              "<style scoped>\n",
              "    .dataframe tbody tr th:only-of-type {\n",
              "        vertical-align: middle;\n",
              "    }\n",
              "\n",
              "    .dataframe tbody tr th {\n",
              "        vertical-align: top;\n",
              "    }\n",
              "\n",
              "    .dataframe thead th {\n",
              "        text-align: right;\n",
              "    }\n",
              "</style>\n",
              "<table border=\"1\" class=\"dataframe\">\n",
              "  <thead>\n",
              "    <tr style=\"text-align: right;\">\n",
              "      <th></th>\n",
              "      <th>Date</th>\n",
              "      <th>Count</th>\n",
              "    </tr>\n",
              "  </thead>\n",
              "  <tbody>\n",
              "    <tr>\n",
              "      <th>count</th>\n",
              "      <td>71</td>\n",
              "      <td>71.000000</td>\n",
              "    </tr>\n",
              "    <tr>\n",
              "      <th>mean</th>\n",
              "      <td>2021-07-01 01:00:50.704225280</td>\n",
              "      <td>2.126761</td>\n",
              "    </tr>\n",
              "    <tr>\n",
              "      <th>min</th>\n",
              "      <td>2020-01-15 00:00:00</td>\n",
              "      <td>0.000000</td>\n",
              "    </tr>\n",
              "    <tr>\n",
              "      <th>25%</th>\n",
              "      <td>2020-10-08 00:00:00</td>\n",
              "      <td>0.000000</td>\n",
              "    </tr>\n",
              "    <tr>\n",
              "      <th>50%</th>\n",
              "      <td>2021-07-01 00:00:00</td>\n",
              "      <td>1.000000</td>\n",
              "    </tr>\n",
              "    <tr>\n",
              "      <th>75%</th>\n",
              "      <td>2022-03-23 12:00:00</td>\n",
              "      <td>2.500000</td>\n",
              "    </tr>\n",
              "    <tr>\n",
              "      <th>max</th>\n",
              "      <td>2022-12-15 00:00:00</td>\n",
              "      <td>14.000000</td>\n",
              "    </tr>\n",
              "    <tr>\n",
              "      <th>std</th>\n",
              "      <td>NaN</td>\n",
              "      <td>2.975757</td>\n",
              "    </tr>\n",
              "  </tbody>\n",
              "</table>\n",
              "</div>"
            ],
            "text/plain": [
              "                                Date      Count\n",
              "count                             71  71.000000\n",
              "mean   2021-07-01 01:00:50.704225280   2.126761\n",
              "min              2020-01-15 00:00:00   0.000000\n",
              "25%              2020-10-08 00:00:00   0.000000\n",
              "50%              2021-07-01 00:00:00   1.000000\n",
              "75%              2022-03-23 12:00:00   2.500000\n",
              "max              2022-12-15 00:00:00  14.000000\n",
              "std                              NaN   2.975757"
            ]
          },
          "execution_count": 10,
          "metadata": {},
          "output_type": "execute_result"
        }
      ],
      "source": [
        "df_dates_binned.describe()"
      ]
    },
    {
      "attachments": {},
      "cell_type": "markdown",
      "metadata": {
        "id": "YAZj-zPX1Ekd"
      },
      "source": [
        "Now, we add additional columns to track year, month, and date to our `df_dates_binned` dataset.\n",
        "\n"
      ]
    },
    {
      "cell_type": "code",
      "execution_count": 11,
      "metadata": {
        "colab": {
          "base_uri": "https://localhost:8080/",
          "height": 206
        },
        "id": "1yru59BM0YTQ",
        "outputId": "06ffb19e-7392-4fe0-aad3-ecd38ddd8992"
      },
      "outputs": [
        {
          "data": {
            "text/html": [
              "<div>\n",
              "<style scoped>\n",
              "    .dataframe tbody tr th:only-of-type {\n",
              "        vertical-align: middle;\n",
              "    }\n",
              "\n",
              "    .dataframe tbody tr th {\n",
              "        vertical-align: top;\n",
              "    }\n",
              "\n",
              "    .dataframe thead th {\n",
              "        text-align: right;\n",
              "    }\n",
              "</style>\n",
              "<table border=\"1\" class=\"dataframe\">\n",
              "  <thead>\n",
              "    <tr style=\"text-align: right;\">\n",
              "      <th></th>\n",
              "      <th>Date</th>\n",
              "      <th>Count</th>\n",
              "      <th>Year</th>\n",
              "      <th>Month</th>\n",
              "      <th>Day</th>\n",
              "    </tr>\n",
              "  </thead>\n",
              "  <tbody>\n",
              "    <tr>\n",
              "      <th>0</th>\n",
              "      <td>2020-01-15</td>\n",
              "      <td>1</td>\n",
              "      <td>2020</td>\n",
              "      <td>1</td>\n",
              "      <td>15</td>\n",
              "    </tr>\n",
              "    <tr>\n",
              "      <th>1</th>\n",
              "      <td>2020-02-01</td>\n",
              "      <td>0</td>\n",
              "      <td>2020</td>\n",
              "      <td>2</td>\n",
              "      <td>1</td>\n",
              "    </tr>\n",
              "    <tr>\n",
              "      <th>2</th>\n",
              "      <td>2020-02-15</td>\n",
              "      <td>0</td>\n",
              "      <td>2020</td>\n",
              "      <td>2</td>\n",
              "      <td>15</td>\n",
              "    </tr>\n",
              "    <tr>\n",
              "      <th>3</th>\n",
              "      <td>2020-03-01</td>\n",
              "      <td>1</td>\n",
              "      <td>2020</td>\n",
              "      <td>3</td>\n",
              "      <td>1</td>\n",
              "    </tr>\n",
              "    <tr>\n",
              "      <th>4</th>\n",
              "      <td>2020-03-15</td>\n",
              "      <td>1</td>\n",
              "      <td>2020</td>\n",
              "      <td>3</td>\n",
              "      <td>15</td>\n",
              "    </tr>\n",
              "  </tbody>\n",
              "</table>\n",
              "</div>"
            ],
            "text/plain": [
              "        Date  Count  Year  Month  Day\n",
              "0 2020-01-15      1  2020      1   15\n",
              "1 2020-02-01      0  2020      2    1\n",
              "2 2020-02-15      0  2020      2   15\n",
              "3 2020-03-01      1  2020      3    1\n",
              "4 2020-03-15      1  2020      3   15"
            ]
          },
          "execution_count": 11,
          "metadata": {},
          "output_type": "execute_result"
        }
      ],
      "source": [
        "df_dates_binned['Date'] = pd.to_datetime(df_dates_binned['Date'])\n",
        "df_dates_binned['Year'] = df_dates_binned['Date'].dt.year\n",
        "df_dates_binned['Month'] = df_dates_binned['Date'].dt.month\n",
        "df_dates_binned['Day'] = df_dates_binned['Date'].dt.day\n",
        "df_dates_binned.head()"
      ]
    },
    {
      "attachments": {},
      "cell_type": "markdown",
      "metadata": {
        "id": "o_dDj3-p1NIX"
      },
      "source": [
        "# Visualize Data\n",
        "\n",
        "We now visualize our `df_dates_binned` dataset"
      ]
    },
    {
      "cell_type": "code",
      "execution_count": 12,
      "metadata": {
        "colab": {
          "base_uri": "https://localhost:8080/",
          "height": 744
        },
        "id": "0Env5q9U1ReP",
        "outputId": "b88b0110-a5d6-429c-d21d-afd78f758c84"
      },
      "outputs": [
        {
          "data": {
            "image/png": "[encoded data removed]",
            "text/plain": [
              "<Figure size 1600x800 with 1 Axes>"
            ]
          },
          "metadata": {},
          "output_type": "display_data"
        }
      ],
      "source": [
        "# Plot data (entire)\n",
        "plt.figure(figsize=(16, 8))\n",
        "sns.lineplot(data=df_dates_binned, x=\"Date\", y=\"Count\")\n",
        "\n",
        "# Format plot\n",
        "plt.ticklabel_format(style='plain', axis='y')\n",
        "plt.xlabel('Date')\n",
        "plt.ylabel('Number of Tweets')\n",
        "plt.title('Trend of COVID-19 Vaccine Tweets Implying its containts Implants', size=18, y=1.02)\n",
        "\n",
        "# Show the plot\n",
        "plt.show()"
      ]
    },
    {
      "cell_type": "code",
      "execution_count": 13,
      "metadata": {
        "colab": {
          "base_uri": "https://localhost:8080/",
          "height": 744
        },
        "id": "IWW2Iaf06AoQ",
        "outputId": "a1602293-d980-4587-e9b4-2897336a1f71"
      },
      "outputs": [
        {
          "data": {
            "image/png": "[encoded data removed]",
            "text/plain": [
              "<Figure size 1600x800 with 1 Axes>"
            ]
          },
          "metadata": {},
          "output_type": "display_data"
        }
      ],
      "source": [
        "# Plot data (monthly)\n",
        "import calendar\n",
        "d = dict(enumerate(calendar.month_abbr))\n",
        "df_dates_binned_m = df_dates_binned.groupby(['Year','Month'])['Count'].mean().reset_index()\n",
        "df_dates_binned_m['Month'] = df_dates_binned_m['Month'].map(d)\n",
        "\n",
        "plt.figure(figsize=(16, 8))\n",
        "g = sns.lineplot(data=df_dates_binned_m, x='Year', y='Count', hue='Month',\n",
        "                 marker=\"o\")\n",
        "\n",
        "# Format plot\n",
        "plt.ticklabel_format(style='plain', axis='y')\n",
        "g.set_xticks([2020, 2021, 2022])\n",
        "\n",
        "plt.xlabel('Date')\n",
        "plt.ylabel('Number of Tweets (Mean)')\n",
        "plt.title('Monthly Trend of COVID-19 Vaccine Tweets Implying its containts Implants', size=18, y=1.02)\n",
        "\n",
        "# Show the plot\n",
        "plt.show()"
      ]
    },
    {
      "attachments": {},
      "cell_type": "markdown",
      "metadata": {
        "id": "DiXGaiEv6lop"
      },
      "source": [
        "# Perform Linear Regression"
      ]
    },
    {
      "cell_type": "code",
      "execution_count": 98,
      "metadata": {
        "colab": {
          "base_uri": "https://localhost:8080/",
          "height": 721
        },
        "id": "EXoR1B926nkt",
        "outputId": "4e914fb8-12af-48e1-d646-768edc7dbe3c"
      },
      "outputs": [
        {
          "name": "stdout",
          "output_type": "stream",
          "text": [
            "Model Evaluation - Machine Learning\n",
            "Linear Regression - Before Release : RMSE=1.20, R2=0.15\n",
            "Linear Regression - Vaccine Release : RMSE=2.79, R2=0.29\n",
            "Linear Regression - 70% Vaxxed in MM : RMSE=2.38, R2=0.01\n",
            "\n",
            "Model Evaluation - Linear Regression\n",
            "Before Release - P(x1): 0.060853885146373424\n",
            "There is no significant relationship between the predictor and the response\n",
            "\n",
            "Vaccine Release - P(x1): 0.03082298452329453\n",
            "There is a significant relationship between the predictor and the response\n",
            "\n",
            "70% Vaxxed in MM - P(x1): 0.5040974613627096\n",
            "There is no significant relationship between the predictor and the response\n",
            "\n"
          ]
        },
        {
          "data": {
            "application/vnd.plotly.v1+json": {
              "config": {
                "plotlyServerURL": "https://plot.ly"
              },
              "data": [
                {
                  "marker": {
                    "color": "blue",
                    "opacity": 0.3
                  },
                  "mode": "markers",
                  "name": "Actual",
                  "type": "scatter",
                  "x": [
                    "2020-01-15",
                    "2020-02-01",
                    "2020-02-15",
                    "2020-03-01",
                    "2020-03-15",
                    "2020-04-01",
                    "2020-04-15",
                    "2020-05-01",
                    "2020-05-15",
                    "2020-06-01",
                    "2020-06-15",
                    "2020-07-01",
                    "2020-07-15",
                    "2020-08-01",
                    "2020-08-15",
                    "2020-09-01",
                    "2020-09-15",
                    "2020-10-01",
                    "2020-10-15",
                    "2020-11-01",
                    "2020-11-15",
                    "2020-12-01",
                    "2020-12-15",
                    "2021-01-01",
                    "2021-01-15",
                    "2021-02-01",
                    "2021-02-15",
                    "2021-03-01",
                    "2021-03-15",
                    "2021-04-01",
                    "2021-04-15",
                    "2021-05-01",
                    "2021-05-15",
                    "2021-06-01",
                    "2021-06-15",
                    "2021-07-01",
                    "2021-07-15",
                    "2021-08-01",
                    "2021-08-15",
                    "2021-09-01",
                    "2021-09-15",
                    "2021-10-01",
                    "2021-10-15",
                    "2021-11-01",
                    "2021-11-15",
                    "2021-12-01",
                    "2021-12-15",
                    "2022-01-01",
                    "2022-01-15",
                    "2022-02-01",
                    "2022-02-15",
                    "2022-03-01",
                    "2022-03-15",
                    "2022-04-01",
                    "2022-04-15",
                    "2022-05-01",
                    "2022-05-15",
                    "2022-06-01",
                    "2022-06-15",
                    "2022-07-01",
                    "2022-07-15",
                    "2022-08-01",
                    "2022-08-15",
                    "2022-09-01",
                    "2022-09-15",
                    "2022-10-01",
                    "2022-10-15",
                    "2022-11-01",
                    "2022-11-15",
                    "2022-12-01"
                  ],
                  "y": [
                    1,
                    0,
                    0,
                    1,
                    1,
                    2,
                    2,
                    0,
                    2,
                    0,
                    1,
                    1,
                    1,
                    1,
                    1,
                    0,
                    2,
                    2,
                    0,
                    0,
                    1,
                    6,
                    3,
                    2,
                    1,
                    3,
                    2,
                    3,
                    6,
                    9,
                    3,
                    6,
                    14,
                    4,
                    5,
                    4,
                    6,
                    10,
                    7,
                    1,
                    1,
                    0,
                    1,
                    0,
                    0,
                    2,
                    0,
                    0,
                    1,
                    0,
                    0,
                    0,
                    0,
                    0,
                    1,
                    0,
                    1,
                    1,
                    0,
                    0,
                    0,
                    1,
                    1,
                    4,
                    0,
                    1,
                    1,
                    0,
                    1,
                    8
                  ]
                },
                {
                  "line": {
                    "color": "red",
                    "dash": "dash"
                  },
                  "mode": "lines",
                  "name": "LR Before Release",
                  "type": "scatter",
                  "x": [
                    "2020-01-15",
                    "2020-02-01",
                    "2020-02-15",
                    "2020-03-01",
                    "2020-03-15",
                    "2020-04-01",
                    "2020-04-15",
                    "2020-05-01",
                    "2020-05-15",
                    "2020-06-01",
                    "2020-06-15",
                    "2020-07-01",
                    "2020-07-15",
                    "2020-08-01",
                    "2020-08-15",
                    "2020-09-01",
                    "2020-09-15",
                    "2020-10-01",
                    "2020-10-15",
                    "2020-11-01",
                    "2020-11-15",
                    "2020-12-01",
                    "2020-12-15",
                    "2021-01-01"
                  ],
                  "y": [
                    0.41178725610208744,
                    0.4929431174002161,
                    0.559777356116328,
                    0.6313854690264549,
                    0.6982197077425667,
                    0.7793755690407096,
                    0.8462098077568214,
                    0.9225917948609492,
                    0.989426033577061,
                    1.070581894875204,
                    1.1374161335913158,
                    1.2137981206954436,
                    1.2806323594115554,
                    1.3617882207096983,
                    1.4286224594258101,
                    1.5097783207239388,
                    1.5766125594400648,
                    1.6529945465441926,
                    1.7198287852603045,
                    1.8009846465584332,
                    1.8678188852745592,
                    1.944200872378687,
                    2.011035111094799,
                    2.0921909723929275
                  ]
                },
                {
                  "line": {
                    "color": "green",
                    "dash": "dash"
                  },
                  "mode": "lines",
                  "name": "LR Vaccine Release",
                  "type": "scatter",
                  "x": [
                    "2021-01-01",
                    "2021-01-15",
                    "2021-02-01",
                    "2021-02-15",
                    "2021-03-01",
                    "2021-03-15",
                    "2021-04-01",
                    "2021-04-15",
                    "2021-05-01",
                    "2021-05-15",
                    "2021-06-01",
                    "2021-06-15",
                    "2021-07-01",
                    "2021-07-15",
                    "2021-08-01",
                    "2021-08-15"
                  ],
                  "y": [
                    2.4237396257539103,
                    2.783229805660085,
                    3.2197535955461944,
                    3.579243775452369,
                    3.9387339553585434,
                    4.298224135264718,
                    4.734747925150771,
                    5.094238105056945,
                    5.505084024949724,
                    5.8645742048559555,
                    6.301097994742008,
                    6.660588174648183,
                    7.071434094540962,
                    7.430924274447136,
                    7.867448064333246,
                    8.22693824423942
                  ]
                },
                {
                  "line": {
                    "color": "orange",
                    "dash": "dash"
                  },
                  "mode": "lines",
                  "name": "LR 70% Vaxxed in MM",
                  "type": "scatter",
                  "x": [
                    "2021-08-01",
                    "2021-08-15",
                    "2021-09-01",
                    "2021-09-15",
                    "2021-10-01",
                    "2021-10-15",
                    "2021-11-01",
                    "2021-11-15",
                    "2021-12-01",
                    "2021-12-15",
                    "2022-01-01",
                    "2022-01-15",
                    "2022-02-01",
                    "2022-02-15",
                    "2022-03-01",
                    "2022-03-15",
                    "2022-04-01",
                    "2022-04-15",
                    "2022-05-01",
                    "2022-05-15",
                    "2022-06-01",
                    "2022-06-15",
                    "2022-07-01",
                    "2022-07-15",
                    "2022-08-01",
                    "2022-08-15",
                    "2022-09-01",
                    "2022-09-15",
                    "2022-10-01",
                    "2022-10-15",
                    "2022-11-01",
                    "2022-11-15",
                    "2022-12-01"
                  ],
                  "y": [
                    1.7871118526903587,
                    1.7592154231103478,
                    1.7253411871917592,
                    1.6974447576117484,
                    1.6655631238060238,
                    1.637666694226013,
                    1.6037924583074314,
                    1.5758960287274206,
                    1.544014394921696,
                    1.5161179653416852,
                    1.4822437294230966,
                    1.4543472998430858,
                    1.4204730639245042,
                    1.3925766343444934,
                    1.3646802047644826,
                    1.3367837751844718,
                    1.3029095392658903,
                    1.2750131096858794,
                    1.2431314758801548,
                    1.215235046300144,
                    1.1813608103815554,
                    1.1534643808015446,
                    1.12158274699582,
                    1.0936863174158091,
                    1.0598120814972276,
                    1.0319156519172168,
                    0.9980414159986282,
                    0.9701449864186245,
                    0.9382633526128927,
                    0.9103669230328819,
                    0.8764926871143004,
                    0.8485962575342896,
                    0.816714623728565
                  ]
                }
              ],
              "layout": {
                "height": 600,
                "showlegend": true,
                "template": {
                  "data": {
                    "bar": [
                      {
                        "error_x": {
                          "color": "#2a3f5f"
                        },
                        "error_y": {
                          "color": "#2a3f5f"
                        },
                        "marker": {
                          "line": {
                            "color": "#E5ECF6",
                            "width": 0.5
                          },
                          "pattern": {
                            "fillmode": "overlay",
                            "size": 10,
                            "solidity": 0.2
                          }
                        },
                        "type": "bar"
                      }
                    ],
                    "barpolar": [
                      {
                        "marker": {
                          "line": {
                            "color": "#E5ECF6",
                            "width": 0.5
                          },
                          "pattern": {
                            "fillmode": "overlay",
                            "size": 10,
                            "solidity": 0.2
                          }
                        },
                        "type": "barpolar"
                      }
                    ],
                    "carpet": [
                      {
                        "aaxis": {
                          "endlinecolor": "#2a3f5f",
                          "gridcolor": "white",
                          "linecolor": "white",
                          "minorgridcolor": "white",
                          "startlinecolor": "#2a3f5f"
                        },
                        "baxis": {
                          "endlinecolor": "#2a3f5f",
                          "gridcolor": "white",
                          "linecolor": "white",
                          "minorgridcolor": "white",
                          "startlinecolor": "#2a3f5f"
                        },
                        "type": "carpet"
                      }
                    ],
                    "choropleth": [
                      {
                        "colorbar": {
                          "outlinewidth": 0,
                          "ticks": ""
                        },
                        "type": "choropleth"
                      }
                    ],
                    "contour": [
                      {
                        "colorbar": {
                          "outlinewidth": 0,
                          "ticks": ""
                        },
                        "colorscale": [
                          [
                            0,
                            "#0d0887"
                          ],
                          [
                            0.1111111111111111,
                            "#46039f"
                          ],
                          [
                            0.2222222222222222,
                            "#7201a8"
                          ],
                          [
                            0.3333333333333333,
                            "#9c179e"
                          ],
                          [
                            0.4444444444444444,
                            "#bd3786"
                          ],
                          [
                            0.5555555555555556,
                            "#d8576b"
                          ],
                          [
                            0.6666666666666666,
                            "#ed7953"
                          ],
                          [
                            0.7777777777777778,
                            "#fb9f3a"
                          ],
                          [
                            0.8888888888888888,
                            "#fdca26"
                          ],
                          [
                            1,
                            "#f0f921"
                          ]
                        ],
                        "type": "contour"
                      }
                    ],
                    "contourcarpet": [
                      {
                        "colorbar": {
                          "outlinewidth": 0,
                          "ticks": ""
                        },
                        "type": "contourcarpet"
                      }
                    ],
                    "heatmap": [
                      {
                        "colorbar": {
                          "outlinewidth": 0,
                          "ticks": ""
                        },
                        "colorscale": [
                          [
                            0,
                            "#0d0887"
                          ],
                          [
                            0.1111111111111111,
                            "#46039f"
                          ],
                          [
                            0.2222222222222222,
                            "#7201a8"
                          ],
                          [
                            0.3333333333333333,
                            "#9c179e"
                          ],
                          [
                            0.4444444444444444,
                            "#bd3786"
                          ],
                          [
                            0.5555555555555556,
                            "#d8576b"
                          ],
                          [
                            0.6666666666666666,
                            "#ed7953"
                          ],
                          [
                            0.7777777777777778,
                            "#fb9f3a"
                          ],
                          [
                            0.8888888888888888,
                            "#fdca26"
                          ],
                          [
                            1,
                            "#f0f921"
                          ]
                        ],
                        "type": "heatmap"
                      }
                    ],
                    "heatmapgl": [
                      {
                        "colorbar": {
                          "outlinewidth": 0,
                          "ticks": ""
                        },
                        "colorscale": [
                          [
                            0,
                            "#0d0887"
                          ],
                          [
                            0.1111111111111111,
                            "#46039f"
                          ],
                          [
                            0.2222222222222222,
                            "#7201a8"
                          ],
                          [
                            0.3333333333333333,
                            "#9c179e"
                          ],
                          [
                            0.4444444444444444,
                            "#bd3786"
                          ],
                          [
                            0.5555555555555556,
                            "#d8576b"
                          ],
                          [
                            0.6666666666666666,
                            "#ed7953"
                          ],
                          [
                            0.7777777777777778,
                            "#fb9f3a"
                          ],
                          [
                            0.8888888888888888,
                            "#fdca26"
                          ],
                          [
                            1,
                            "#f0f921"
                          ]
                        ],
                        "type": "heatmapgl"
                      }
                    ],
                    "histogram": [
                      {
                        "marker": {
                          "pattern": {
                            "fillmode": "overlay",
                            "size": 10,
                            "solidity": 0.2
                          }
                        },
                        "type": "histogram"
                      }
                    ],
                    "histogram2d": [
                      {
                        "colorbar": {
                          "outlinewidth": 0,
                          "ticks": ""
                        },
                        "colorscale": [
                          [
                            0,
                            "#0d0887"
                          ],
                          [
                            0.1111111111111111,
                            "#46039f"
                          ],
                          [
                            0.2222222222222222,
                            "#7201a8"
                          ],
                          [
                            0.3333333333333333,
                            "#9c179e"
                          ],
                          [
                            0.4444444444444444,
                            "#bd3786"
                          ],
                          [
                            0.5555555555555556,
                            "#d8576b"
                          ],
                          [
                            0.6666666666666666,
                            "#ed7953"
                          ],
                          [
                            0.7777777777777778,
                            "#fb9f3a"
                          ],
                          [
                            0.8888888888888888,
                            "#fdca26"
                          ],
                          [
                            1,
                            "#f0f921"
                          ]
                        ],
                        "type": "histogram2d"
                      }
                    ],
                    "histogram2dcontour": [
                      {
                        "colorbar": {
                          "outlinewidth": 0,
                          "ticks": ""
                        },
                        "colorscale": [
                          [
                            0,
                            "#0d0887"
                          ],
                          [
                            0.1111111111111111,
                            "#46039f"
                          ],
                          [
                            0.2222222222222222,
                            "#7201a8"
                          ],
                          [
                            0.3333333333333333,
                            "#9c179e"
                          ],
                          [
                            0.4444444444444444,
                            "#bd3786"
                          ],
                          [
                            0.5555555555555556,
                            "#d8576b"
                          ],
                          [
                            0.6666666666666666,
                            "#ed7953"
                          ],
                          [
                            0.7777777777777778,
                            "#fb9f3a"
                          ],
                          [
                            0.8888888888888888,
                            "#fdca26"
                          ],
                          [
                            1,
                            "#f0f921"
                          ]
                        ],
                        "type": "histogram2dcontour"
                      }
                    ],
                    "mesh3d": [
                      {
                        "colorbar": {
                          "outlinewidth": 0,
                          "ticks": ""
                        },
                        "type": "mesh3d"
                      }
                    ],
                    "parcoords": [
                      {
                        "line": {
                          "colorbar": {
                            "outlinewidth": 0,
                            "ticks": ""
                          }
                        },
                        "type": "parcoords"
                      }
                    ],
                    "pie": [
                      {
                        "automargin": true,
                        "type": "pie"
                      }
                    ],
                    "scatter": [
                      {
                        "fillpattern": {
                          "fillmode": "overlay",
                          "size": 10,
                          "solidity": 0.2
                        },
                        "type": "scatter"
                      }
                    ],
                    "scatter3d": [
                      {
                        "line": {
                          "colorbar": {
                            "outlinewidth": 0,
                            "ticks": ""
                          }
                        },
                        "marker": {
                          "colorbar": {
                            "outlinewidth": 0,
                            "ticks": ""
                          }
                        },
                        "type": "scatter3d"
                      }
                    ],
                    "scattercarpet": [
                      {
                        "marker": {
                          "colorbar": {
                            "outlinewidth": 0,
                            "ticks": ""
                          }
                        },
                        "type": "scattercarpet"
                      }
                    ],
                    "scattergeo": [
                      {
                        "marker": {
                          "colorbar": {
                            "outlinewidth": 0,
                            "ticks": ""
                          }
                        },
                        "type": "scattergeo"
                      }
                    ],
                    "scattergl": [
                      {
                        "marker": {
                          "colorbar": {
                            "outlinewidth": 0,
                            "ticks": ""
                          }
                        },
                        "type": "scattergl"
                      }
                    ],
                    "scattermapbox": [
                      {
                        "marker": {
                          "colorbar": {
                            "outlinewidth": 0,
                            "ticks": ""
                          }
                        },
                        "type": "scattermapbox"
                      }
                    ],
                    "scatterpolar": [
                      {
                        "marker": {
                          "colorbar": {
                            "outlinewidth": 0,
                            "ticks": ""
                          }
                        },
                        "type": "scatterpolar"
                      }
                    ],
                    "scatterpolargl": [
                      {
                        "marker": {
                          "colorbar": {
                            "outlinewidth": 0,
                            "ticks": ""
                          }
                        },
                        "type": "scatterpolargl"
                      }
                    ],
                    "scatterternary": [
                      {
                        "marker": {
                          "colorbar": {
                            "outlinewidth": 0,
                            "ticks": ""
                          }
                        },
                        "type": "scatterternary"
                      }
                    ],
                    "surface": [
                      {
                        "colorbar": {
                          "outlinewidth": 0,
                          "ticks": ""
                        },
                        "colorscale": [
                          [
                            0,
                            "#0d0887"
                          ],
                          [
                            0.1111111111111111,
                            "#46039f"
                          ],
                          [
                            0.2222222222222222,
                            "#7201a8"
                          ],
                          [
                            0.3333333333333333,
                            "#9c179e"
                          ],
                          [
                            0.4444444444444444,
                            "#bd3786"
                          ],
                          [
                            0.5555555555555556,
                            "#d8576b"
                          ],
                          [
                            0.6666666666666666,
                            "#ed7953"
                          ],
                          [
                            0.7777777777777778,
                            "#fb9f3a"
                          ],
                          [
                            0.8888888888888888,
                            "#fdca26"
                          ],
                          [
                            1,
                            "#f0f921"
                          ]
                        ],
                        "type": "surface"
                      }
                    ],
                    "table": [
                      {
                        "cells": {
                          "fill": {
                            "color": "#EBF0F8"
                          },
                          "line": {
                            "color": "white"
                          }
                        },
                        "header": {
                          "fill": {
                            "color": "#C8D4E3"
                          },
                          "line": {
                            "color": "white"
                          }
                        },
                        "type": "table"
                      }
                    ]
                  },
                  "layout": {
                    "annotationdefaults": {
                      "arrowcolor": "#2a3f5f",
                      "arrowhead": 0,
                      "arrowwidth": 1
                    },
                    "autotypenumbers": "strict",
                    "coloraxis": {
                      "colorbar": {
                        "outlinewidth": 0,
                        "ticks": ""
                      }
                    },
                    "colorscale": {
                      "diverging": [
                        [
                          0,
                          "#8e0152"
                        ],
                        [
                          0.1,
                          "#c51b7d"
                        ],
                        [
                          0.2,
                          "#de77ae"
                        ],
                        [
                          0.3,
                          "#f1b6da"
                        ],
                        [
                          0.4,
                          "#fde0ef"
                        ],
                        [
                          0.5,
                          "#f7f7f7"
                        ],
                        [
                          0.6,
                          "#e6f5d0"
                        ],
                        [
                          0.7,
                          "#b8e186"
                        ],
                        [
                          0.8,
                          "#7fbc41"
                        ],
                        [
                          0.9,
                          "#4d9221"
                        ],
                        [
                          1,
                          "#276419"
                        ]
                      ],
                      "sequential": [
                        [
                          0,
                          "#0d0887"
                        ],
                        [
                          0.1111111111111111,
                          "#46039f"
                        ],
                        [
                          0.2222222222222222,
                          "#7201a8"
                        ],
                        [
                          0.3333333333333333,
                          "#9c179e"
                        ],
                        [
                          0.4444444444444444,
                          "#bd3786"
                        ],
                        [
                          0.5555555555555556,
                          "#d8576b"
                        ],
                        [
                          0.6666666666666666,
                          "#ed7953"
                        ],
                        [
                          0.7777777777777778,
                          "#fb9f3a"
                        ],
                        [
                          0.8888888888888888,
                          "#fdca26"
                        ],
                        [
                          1,
                          "#f0f921"
                        ]
                      ],
                      "sequentialminus": [
                        [
                          0,
                          "#0d0887"
                        ],
                        [
                          0.1111111111111111,
                          "#46039f"
                        ],
                        [
                          0.2222222222222222,
                          "#7201a8"
                        ],
                        [
                          0.3333333333333333,
                          "#9c179e"
                        ],
                        [
                          0.4444444444444444,
                          "#bd3786"
                        ],
                        [
                          0.5555555555555556,
                          "#d8576b"
                        ],
                        [
                          0.6666666666666666,
                          "#ed7953"
                        ],
                        [
                          0.7777777777777778,
                          "#fb9f3a"
                        ],
                        [
                          0.8888888888888888,
                          "#fdca26"
                        ],
                        [
                          1,
                          "#f0f921"
                        ]
                      ]
                    },
                    "colorway": [
                      "#636efa",
                      "#EF553B",
                      "#00cc96",
                      "#ab63fa",
                      "#FFA15A",
                      "#19d3f3",
                      "#FF6692",
                      "#B6E880",
                      "#FF97FF",
                      "#FECB52"
                    ],
                    "font": {
                      "color": "#2a3f5f"
                    },
                    "geo": {
                      "bgcolor": "white",
                      "lakecolor": "white",
                      "landcolor": "#E5ECF6",
                      "showlakes": true,
                      "showland": true,
                      "subunitcolor": "white"
                    },
                    "hoverlabel": {
                      "align": "left"
                    },
                    "hovermode": "closest",
                    "mapbox": {
                      "style": "light"
                    },
                    "paper_bgcolor": "white",
                    "plot_bgcolor": "#E5ECF6",
                    "polar": {
                      "angularaxis": {
                        "gridcolor": "white",
                        "linecolor": "white",
                        "ticks": ""
                      },
                      "bgcolor": "#E5ECF6",
                      "radialaxis": {
                        "gridcolor": "white",
                        "linecolor": "white",
                        "ticks": ""
                      }
                    },
                    "scene": {
                      "xaxis": {
                        "backgroundcolor": "#E5ECF6",
                        "gridcolor": "white",
                        "gridwidth": 2,
                        "linecolor": "white",
                        "showbackground": true,
                        "ticks": "",
                        "zerolinecolor": "white"
                      },
                      "yaxis": {
                        "backgroundcolor": "#E5ECF6",
                        "gridcolor": "white",
                        "gridwidth": 2,
                        "linecolor": "white",
                        "showbackground": true,
                        "ticks": "",
                        "zerolinecolor": "white"
                      },
                      "zaxis": {
                        "backgroundcolor": "#E5ECF6",
                        "gridcolor": "white",
                        "gridwidth": 2,
                        "linecolor": "white",
                        "showbackground": true,
                        "ticks": "",
                        "zerolinecolor": "white"
                      }
                    },
                    "shapedefaults": {
                      "line": {
                        "color": "#2a3f5f"
                      }
                    },
                    "ternary": {
                      "aaxis": {
                        "gridcolor": "white",
                        "linecolor": "white",
                        "ticks": ""
                      },
                      "baxis": {
                        "gridcolor": "white",
                        "linecolor": "white",
                        "ticks": ""
                      },
                      "bgcolor": "#E5ECF6",
                      "caxis": {
                        "gridcolor": "white",
                        "linecolor": "white",
                        "ticks": ""
                      }
                    },
                    "title": {
                      "x": 0.05
                    },
                    "xaxis": {
                      "automargin": true,
                      "gridcolor": "white",
                      "linecolor": "white",
                      "ticks": "",
                      "title": {
                        "standoff": 15
                      },
                      "zerolinecolor": "white",
                      "zerolinewidth": 2
                    },
                    "yaxis": {
                      "automargin": true,
                      "gridcolor": "white",
                      "linecolor": "white",
                      "ticks": "",
                      "title": {
                        "standoff": 15
                      },
                      "zerolinecolor": "white",
                      "zerolinewidth": 2
                    }
                  }
                },
                "title": {
                  "text": "Linear Regression Model for Twitter COVID-19 Vaccine Tweets Containg Implants"
                },
                "xaxis": {
                  "title": {
                    "text": "Date"
                  }
                },
                "yaxis": {
                  "title": {
                    "text": "Tweet Count"
                  }
                }
              }
            }
          },
          "metadata": {},
          "output_type": "display_data"
        }
      ],
      "source": [
        "## Perform regression modeling\n",
        "from sklearn.linear_model import LinearRegression\n",
        "from sklearn.metrics import r2_score, mean_squared_error\n",
        "\n",
        "import statsmodels.api as sm\n",
        "\n",
        "# Convert datetime to int\n",
        "x = df_dates_binned['Date'].astype('int64') / 10**9  # Convert to seconds (UNIX epoch start)\n",
        "x_before_vaccine = x.loc[:23].tail(24)\n",
        "x_during_release = x.loc[:38].tail(16)\n",
        "x_after_release = x.loc[:69].tail(33)\n",
        "\n",
        "x = x.values.reshape(-1, 1)\n",
        "x_before_vaccine = x_before_vaccine.values.reshape(-1, 1)\n",
        "x_during_release = x_during_release.values.reshape(-1, 1)\n",
        "x_after_release = x_after_release.values.reshape(-1, 1)\n",
        "\n",
        "y = df_dates_binned['Count'].loc[:69]\n",
        "y_b = df_dates_binned['Count'].loc[:23].tail(24)\n",
        "y_d = df_dates_binned['Count'].loc[:38].tail(16)\n",
        "y_a = df_dates_binned['Count'].loc[:69].tail(33)\n",
        "#--------------------------------------------------------------\n",
        "# Linear regression model\n",
        "#--------------------------------------------------------------\n",
        "# Stastical approach\n",
        "x_b = sm.add_constant(x_before_vaccine)\n",
        "x_d = sm.add_constant(x_during_release)\n",
        "x_a = sm.add_constant(x_after_release)\n",
        "\n",
        "linear_model_stat_b = sm.OLS(y_b, x_b)\n",
        "linear_model_stat_d = sm.OLS(y_d, x_d)\n",
        "linear_model_stat_a = sm.OLS(y_a, x_a)\n",
        "\n",
        "lms_results_b = linear_model_stat_b.fit()\n",
        "lms_results_d = linear_model_stat_d.fit()\n",
        "lms_results_a = linear_model_stat_a.fit()\n",
        "\n",
        "p_values_b = lms_results_b.pvalues[1:]\n",
        "p_values_d = lms_results_d.pvalues[1:]\n",
        "p_values_a = lms_results_a.pvalues[1:]\n",
        "\n",
        "# Machine learning approach (no p-values)\n",
        "\n",
        "linear_model_b = LinearRegression()\n",
        "linear_model_b.fit(x_b, y_b)\n",
        "y_linear_pred_b = linear_model_b.predict(x_b)\n",
        "\n",
        "linear_model_d = LinearRegression()\n",
        "linear_model_d.fit(x_d, y_d)\n",
        "y_linear_pred_d = linear_model_d.predict(x_d)\n",
        "\n",
        "linear_model_a = LinearRegression()\n",
        "linear_model_a.fit(x_a, y_a)\n",
        "y_linear_pred_a = linear_model_a.predict(x_a)\n",
        "\n",
        "# Calculate R2 and RMSE for linear regression model\n",
        "linear_r2_b = r2_score(y_b, y_linear_pred_b)\n",
        "linear_rmse_b = np.sqrt(mean_squared_error(y_b, y_linear_pred_b))\n",
        "\n",
        "linear_r2_d = r2_score(y_d, y_linear_pred_d)\n",
        "linear_rmse_d = np.sqrt(mean_squared_error(y_d, y_linear_pred_d))\n",
        "\n",
        "linear_r2_a = r2_score(y_a, y_linear_pred_a)\n",
        "linear_rmse_a = np.sqrt(mean_squared_error(y_a, y_linear_pred_a))\n",
        "\n",
        "print(\"Model Evaluation - Machine Learning\")\n",
        "print(\"Linear Regression - Before Release : RMSE=%.2f, R2=%.2f\" % (linear_rmse_b, linear_r2_b))\n",
        "print(\"Linear Regression - Vaccine Release : RMSE=%.2f, R2=%.2f\" % (linear_rmse_d, linear_r2_d))\n",
        "print(\"Linear Regression - 70%% Vaxxed in MM : RMSE=%.2f, R2=%.2f\" % (linear_rmse_a, linear_r2_a))\n",
        "\n",
        "print(\"\\nModel Evaluation - Linear Regression\")\n",
        "for i, p_value_b in enumerate(p_values_b.index): print(f'Before Release - P({p_value_b}): {p_values_b[i]}')\n",
        "if any(p_values_b <= 0.05): print(\"There is a significant relationship between the predictor and the response\\n\")\n",
        "else: print(\"There is no significant relationship between the predictor and the response\\n\")\n",
        "\n",
        "for i, p_value_d in enumerate(p_values_d.index): print(f'Vaccine Release - P({p_value_d}): {p_values_d[i]}')\n",
        "if any(p_values_d <= 0.05): print(\"There is a significant relationship between the predictor and the response\\n\")\n",
        "else: print(\"There is no significant relationship between the predictor and the response\\n\")\n",
        "\n",
        "for i, p_value_a in enumerate(p_values_a.index): print(f'70% Vaxxed in MM - P({p_value_a}): {p_values_a[i]}')\n",
        "if any(p_values_a <= 0.05): print(\"There is a significant relationship between the predictor and the response\\n\")\n",
        "else: print(\"There is no significant relationship between the predictor and the response\\n\")\n",
        "\n",
        "\n",
        "# Plot the model\n",
        "import plotly.graph_objects as go\n",
        "\n",
        "xtt = df_dates_binned['Date'].loc[:69].dt.strftime('%Y-%m-%d')\n",
        "scatter_actual = go.Scatter(x=xtt, y=y, mode='markers', name='Actual', marker=dict(color='blue', opacity=0.3))\n",
        "\n",
        "xb = df_dates_binned['Date'].loc[:23].tail(24).dt.strftime('%Y-%m-%d')\n",
        "line_regression_b = go.Scatter(x=xb, y=y_linear_pred_b, mode='lines', name='LR Before Release', line=dict(color='red', dash='dash'))\n",
        "\n",
        "xd = df_dates_binned['Date'].loc[:38].tail(16).dt.strftime('%Y-%m-%d')\n",
        "line_regression_d = go.Scatter(x=xd, y=y_linear_pred_d, mode='lines', name='LR Vaccine Release', line=dict(color='green', dash='dash'))\n",
        "\n",
        "xa = df_dates_binned['Date'].loc[:69].tail(33).dt.strftime('%Y-%m-%d')\n",
        "line_regression_a = go.Scatter(x=xa, y=y_linear_pred_a, mode='lines', name='LR 70% Vaxxed in MM', line=dict(color='orange', dash='dash'))\n",
        "\n",
        "data = [scatter_actual, line_regression_b, line_regression_d, line_regression_a]\n",
        "\n",
        "layout = go.Layout(xaxis=dict(title='Date'),\n",
        "                   yaxis=dict(title='Tweet Count'),\n",
        "                   title='Linear Regression Model for Twitter COVID-19 Vaccine Tweets Containg Implants',\n",
        "                   showlegend=True,\n",
        "                   height=600)\n",
        "\n",
        "fig = go.Figure(data=data, layout=layout)\n",
        "fig.show()"
      ]
    },
    {
      "attachments": {},
      "cell_type": "markdown",
      "metadata": {
        "id": "r-QOXJri7Fxe"
      },
      "source": [
        "# Support Vector Regression"
      ]
    },
    {
      "cell_type": "code",
      "execution_count": 101,
      "metadata": {
        "colab": {
          "base_uri": "https://localhost:8080/",
          "height": 704
        },
        "id": "My-prR3Y7Ic0",
        "outputId": "ad2bac16-87ba-410d-97ec-5f07b210b7c8"
      },
      "outputs": [
        {
          "name": "stdout",
          "output_type": "stream",
          "text": [
            "Model Evaluation\n",
            "\n",
            "Support Vector Regression: RMSE=1.46, R2=0.24\n",
            "Hyperparameters: Pipeline(steps=[('scaler', StandardScaler()),\n",
            "                ('svr', SVR(C=10000, gamma=1000))]) \n",
            "\n"
          ]
        },
        {
          "data": {
            "application/vnd.plotly.v1+json": {
              "config": {
                "plotlyServerURL": "https://plot.ly"
              },
              "data": [
                {
                  "marker": {
                    "color": "blue",
                    "opacity": 0.3
                  },
                  "mode": "markers",
                  "name": "Actual",
                  "type": "scatter",
                  "x": [
                    "2020-01-15",
                    "2020-02-01",
                    "2020-02-15",
                    "2020-03-01",
                    "2020-03-15",
                    "2020-04-01",
                    "2020-04-15",
                    "2020-05-01",
                    "2020-05-15",
                    "2020-06-01",
                    "2020-06-15",
                    "2020-07-01",
                    "2020-07-15",
                    "2020-08-01",
                    "2020-08-15",
                    "2020-09-01",
                    "2020-09-15",
                    "2020-10-01",
                    "2020-10-15",
                    "2020-11-01",
                    "2020-11-15",
                    "2020-12-01",
                    "2020-12-15",
                    "2021-01-01",
                    "2021-01-15",
                    "2021-02-01",
                    "2021-02-15",
                    "2021-03-01",
                    "2021-03-15",
                    "2021-04-01",
                    "2021-04-15",
                    "2021-05-01",
                    "2021-05-15",
                    "2021-06-01",
                    "2021-06-15",
                    "2021-07-01",
                    "2021-07-15",
                    "2021-08-01",
                    "2021-08-15",
                    "2021-09-01",
                    "2021-09-15",
                    "2021-10-01",
                    "2021-10-15",
                    "2021-11-01",
                    "2021-11-15",
                    "2021-12-01",
                    "2021-12-15",
                    "2022-01-01",
                    "2022-01-15",
                    "2022-02-01",
                    "2022-02-15",
                    "2022-03-01",
                    "2022-03-15",
                    "2022-04-01",
                    "2022-04-15",
                    "2022-05-01",
                    "2022-05-15",
                    "2022-06-01",
                    "2022-06-15",
                    "2022-07-01",
                    "2022-07-15",
                    "2022-08-01",
                    "2022-08-15",
                    "2022-09-01",
                    "2022-09-15",
                    "2022-10-01",
                    "2022-10-15",
                    "2022-11-01",
                    "2022-11-15",
                    "2022-12-01"
                  ],
                  "y": [
                    1,
                    0,
                    0,
                    1,
                    1,
                    2,
                    2,
                    0,
                    2,
                    0,
                    1,
                    1,
                    1,
                    1,
                    1,
                    0,
                    2,
                    2,
                    0,
                    0,
                    1,
                    6,
                    3,
                    2,
                    1,
                    3,
                    2,
                    3,
                    6,
                    9,
                    3,
                    6,
                    14,
                    4,
                    5,
                    4,
                    6,
                    10,
                    7,
                    1,
                    1,
                    0,
                    1,
                    0,
                    0,
                    2,
                    0,
                    0,
                    1,
                    0,
                    0,
                    0,
                    0,
                    0,
                    1,
                    0,
                    1,
                    1,
                    0,
                    0,
                    0,
                    1,
                    1,
                    4,
                    0,
                    1,
                    1,
                    0,
                    1,
                    8
                  ]
                },
                {
                  "line": {
                    "color": "violet"
                  },
                  "mode": "lines",
                  "name": "SVR",
                  "type": "scatter",
                  "x": [
                    "2020-01-15",
                    "2020-02-01",
                    "2020-02-15",
                    "2020-03-01",
                    "2020-03-15",
                    "2020-04-01",
                    "2020-04-15",
                    "2020-05-01",
                    "2020-05-15",
                    "2020-06-01",
                    "2020-06-15",
                    "2020-07-01",
                    "2020-07-15",
                    "2020-08-01",
                    "2020-08-15",
                    "2020-09-01",
                    "2020-09-15",
                    "2020-10-01",
                    "2020-10-15",
                    "2020-11-01",
                    "2020-11-15",
                    "2020-12-01",
                    "2020-12-15",
                    "2021-01-01",
                    "2021-01-15",
                    "2021-02-01",
                    "2021-02-15",
                    "2021-03-01",
                    "2021-03-15",
                    "2021-04-01",
                    "2021-04-15",
                    "2021-05-01",
                    "2021-05-15",
                    "2021-06-01",
                    "2021-06-15",
                    "2021-07-01",
                    "2021-07-15",
                    "2021-08-01",
                    "2021-08-15",
                    "2021-09-01",
                    "2021-09-15",
                    "2021-10-01",
                    "2021-10-15",
                    "2021-11-01",
                    "2021-11-15",
                    "2021-12-01",
                    "2021-12-15",
                    "2022-01-01",
                    "2022-01-15",
                    "2022-02-01",
                    "2022-02-15",
                    "2022-03-01",
                    "2022-03-15",
                    "2022-04-01",
                    "2022-04-15",
                    "2022-05-01",
                    "2022-05-15",
                    "2022-06-01",
                    "2022-06-15",
                    "2022-07-01",
                    "2022-07-15",
                    "2022-08-01",
                    "2022-08-15",
                    "2022-09-01",
                    "2022-09-15",
                    "2022-10-01",
                    "2022-10-15",
                    "2022-11-01",
                    "2022-11-15",
                    "2022-12-01"
                  ],
                  "y": [
                    2.0961248474634053,
                    0.1001304531958489,
                    0.10013933959283206,
                    1.1000701910884116,
                    2.066275397486453,
                    2.1667189208772504,
                    2.0534356710368766,
                    0.10002436717587848,
                    1.9429313166453914,
                    2.166734784590132,
                    2.108296353209294,
                    1.1000826135662465,
                    2.0146146282463873,
                    1.1001001357189972,
                    1.100466508834533,
                    0.09986018338188885,
                    1.9428435129233133,
                    2.099784479534408,
                    2.085891386435098,
                    0.09976414565025093,
                    1.1000826127346721,
                    5.899840243406949,
                    2.5774524002894763,
                    2.0480946623784075,
                    1.1000767409823449,
                    2.8997682831132128,
                    2.100204711605668,
                    2.899925828654579,
                    5.900014105478643,
                    8.900143573292134,
                    2.8998074906385876,
                    3.4389596074152733,
                    13.899794177066537,
                    2.898265377241607,
                    4.899629275095464,
                    3.900143635724307,
                    5.900499728618369,
                    9.900143587229664,
                    6.899817773662089,
                    1.100070121865181,
                    1.099690903892037,
                    0.10014363042079522,
                    1.0997891476921775,
                    0.10006906032996943,
                    0.10000804357229898,
                    1.848098810276256,
                    0.09978923144079666,
                    0.10019352373938073,
                    1.0998996482433951,
                    1.9297906234587567,
                    0.10034028756055946,
                    0.09966353698925978,
                    0.09988174122584903,
                    0.10013045169780543,
                    1.8418119651668572,
                    0.10025372899602703,
                    1.0998952170423142,
                    1.0998039082548492,
                    0.09974744278071856,
                    0.09984883882468809,
                    0.10052398840503551,
                    1.0998173731494063,
                    1.0998454616487676,
                    3.9001539449842864,
                    0.1000690755670326,
                    1.1004047116261413,
                    1.09979968464902,
                    1.9801126743770179,
                    1.1000852569260775,
                    7.899767858710822
                  ]
                }
              ],
              "layout": {
                "height": 600,
                "showlegend": true,
                "template": {
                  "data": {
                    "bar": [
                      {
                        "error_x": {
                          "color": "#2a3f5f"
                        },
                        "error_y": {
                          "color": "#2a3f5f"
                        },
                        "marker": {
                          "line": {
                            "color": "#E5ECF6",
                            "width": 0.5
                          },
                          "pattern": {
                            "fillmode": "overlay",
                            "size": 10,
                            "solidity": 0.2
                          }
                        },
                        "type": "bar"
                      }
                    ],
                    "barpolar": [
                      {
                        "marker": {
                          "line": {
                            "color": "#E5ECF6",
                            "width": 0.5
                          },
                          "pattern": {
                            "fillmode": "overlay",
                            "size": 10,
                            "solidity": 0.2
                          }
                        },
                        "type": "barpolar"
                      }
                    ],
                    "carpet": [
                      {
                        "aaxis": {
                          "endlinecolor": "#2a3f5f",
                          "gridcolor": "white",
                          "linecolor": "white",
                          "minorgridcolor": "white",
                          "startlinecolor": "#2a3f5f"
                        },
                        "baxis": {
                          "endlinecolor": "#2a3f5f",
                          "gridcolor": "white",
                          "linecolor": "white",
                          "minorgridcolor": "white",
                          "startlinecolor": "#2a3f5f"
                        },
                        "type": "carpet"
                      }
                    ],
                    "choropleth": [
                      {
                        "colorbar": {
                          "outlinewidth": 0,
                          "ticks": ""
                        },
                        "type": "choropleth"
                      }
                    ],
                    "contour": [
                      {
                        "colorbar": {
                          "outlinewidth": 0,
                          "ticks": ""
                        },
                        "colorscale": [
                          [
                            0,
                            "#0d0887"
                          ],
                          [
                            0.1111111111111111,
                            "#46039f"
                          ],
                          [
                            0.2222222222222222,
                            "#7201a8"
                          ],
                          [
                            0.3333333333333333,
                            "#9c179e"
                          ],
                          [
                            0.4444444444444444,
                            "#bd3786"
                          ],
                          [
                            0.5555555555555556,
                            "#d8576b"
                          ],
                          [
                            0.6666666666666666,
                            "#ed7953"
                          ],
                          [
                            0.7777777777777778,
                            "#fb9f3a"
                          ],
                          [
                            0.8888888888888888,
                            "#fdca26"
                          ],
                          [
                            1,
                            "#f0f921"
                          ]
                        ],
                        "type": "contour"
                      }
                    ],
                    "contourcarpet": [
                      {
                        "colorbar": {
                          "outlinewidth": 0,
                          "ticks": ""
                        },
                        "type": "contourcarpet"
                      }
                    ],
                    "heatmap": [
                      {
                        "colorbar": {
                          "outlinewidth": 0,
                          "ticks": ""
                        },
                        "colorscale": [
                          [
                            0,
                            "#0d0887"
                          ],
                          [
                            0.1111111111111111,
                            "#46039f"
                          ],
                          [
                            0.2222222222222222,
                            "#7201a8"
                          ],
                          [
                            0.3333333333333333,
                            "#9c179e"
                          ],
                          [
                            0.4444444444444444,
                            "#bd3786"
                          ],
                          [
                            0.5555555555555556,
                            "#d8576b"
                          ],
                          [
                            0.6666666666666666,
                            "#ed7953"
                          ],
                          [
                            0.7777777777777778,
                            "#fb9f3a"
                          ],
                          [
                            0.8888888888888888,
                            "#fdca26"
                          ],
                          [
                            1,
                            "#f0f921"
                          ]
                        ],
                        "type": "heatmap"
                      }
                    ],
                    "heatmapgl": [
                      {
                        "colorbar": {
                          "outlinewidth": 0,
                          "ticks": ""
                        },
                        "colorscale": [
                          [
                            0,
                            "#0d0887"
                          ],
                          [
                            0.1111111111111111,
                            "#46039f"
                          ],
                          [
                            0.2222222222222222,
                            "#7201a8"
                          ],
                          [
                            0.3333333333333333,
                            "#9c179e"
                          ],
                          [
                            0.4444444444444444,
                            "#bd3786"
                          ],
                          [
                            0.5555555555555556,
                            "#d8576b"
                          ],
                          [
                            0.6666666666666666,
                            "#ed7953"
                          ],
                          [
                            0.7777777777777778,
                            "#fb9f3a"
                          ],
                          [
                            0.8888888888888888,
                            "#fdca26"
                          ],
                          [
                            1,
                            "#f0f921"
                          ]
                        ],
                        "type": "heatmapgl"
                      }
                    ],
                    "histogram": [
                      {
                        "marker": {
                          "pattern": {
                            "fillmode": "overlay",
                            "size": 10,
                            "solidity": 0.2
                          }
                        },
                        "type": "histogram"
                      }
                    ],
                    "histogram2d": [
                      {
                        "colorbar": {
                          "outlinewidth": 0,
                          "ticks": ""
                        },
                        "colorscale": [
                          [
                            0,
                            "#0d0887"
                          ],
                          [
                            0.1111111111111111,
                            "#46039f"
                          ],
                          [
                            0.2222222222222222,
                            "#7201a8"
                          ],
                          [
                            0.3333333333333333,
                            "#9c179e"
                          ],
                          [
                            0.4444444444444444,
                            "#bd3786"
                          ],
                          [
                            0.5555555555555556,
                            "#d8576b"
                          ],
                          [
                            0.6666666666666666,
                            "#ed7953"
                          ],
                          [
                            0.7777777777777778,
                            "#fb9f3a"
                          ],
                          [
                            0.8888888888888888,
                            "#fdca26"
                          ],
                          [
                            1,
                            "#f0f921"
                          ]
                        ],
                        "type": "histogram2d"
                      }
                    ],
                    "histogram2dcontour": [
                      {
                        "colorbar": {
                          "outlinewidth": 0,
                          "ticks": ""
                        },
                        "colorscale": [
                          [
                            0,
                            "#0d0887"
                          ],
                          [
                            0.1111111111111111,
                            "#46039f"
                          ],
                          [
                            0.2222222222222222,
                            "#7201a8"
                          ],
                          [
                            0.3333333333333333,
                            "#9c179e"
                          ],
                          [
                            0.4444444444444444,
                            "#bd3786"
                          ],
                          [
                            0.5555555555555556,
                            "#d8576b"
                          ],
                          [
                            0.6666666666666666,
                            "#ed7953"
                          ],
                          [
                            0.7777777777777778,
                            "#fb9f3a"
                          ],
                          [
                            0.8888888888888888,
                            "#fdca26"
                          ],
                          [
                            1,
                            "#f0f921"
                          ]
                        ],
                        "type": "histogram2dcontour"
                      }
                    ],
                    "mesh3d": [
                      {
                        "colorbar": {
                          "outlinewidth": 0,
                          "ticks": ""
                        },
                        "type": "mesh3d"
                      }
                    ],
                    "parcoords": [
                      {
                        "line": {
                          "colorbar": {
                            "outlinewidth": 0,
                            "ticks": ""
                          }
                        },
                        "type": "parcoords"
                      }
                    ],
                    "pie": [
                      {
                        "automargin": true,
                        "type": "pie"
                      }
                    ],
                    "scatter": [
                      {
                        "fillpattern": {
                          "fillmode": "overlay",
                          "size": 10,
                          "solidity": 0.2
                        },
                        "type": "scatter"
                      }
                    ],
                    "scatter3d": [
                      {
                        "line": {
                          "colorbar": {
                            "outlinewidth": 0,
                            "ticks": ""
                          }
                        },
                        "marker": {
                          "colorbar": {
                            "outlinewidth": 0,
                            "ticks": ""
                          }
                        },
                        "type": "scatter3d"
                      }
                    ],
                    "scattercarpet": [
                      {
                        "marker": {
                          "colorbar": {
                            "outlinewidth": 0,
                            "ticks": ""
                          }
                        },
                        "type": "scattercarpet"
                      }
                    ],
                    "scattergeo": [
                      {
                        "marker": {
                          "colorbar": {
                            "outlinewidth": 0,
                            "ticks": ""
                          }
                        },
                        "type": "scattergeo"
                      }
                    ],
                    "scattergl": [
                      {
                        "marker": {
                          "colorbar": {
                            "outlinewidth": 0,
                            "ticks": ""
                          }
                        },
                        "type": "scattergl"
                      }
                    ],
                    "scattermapbox": [
                      {
                        "marker": {
                          "colorbar": {
                            "outlinewidth": 0,
                            "ticks": ""
                          }
                        },
                        "type": "scattermapbox"
                      }
                    ],
                    "scatterpolar": [
                      {
                        "marker": {
                          "colorbar": {
                            "outlinewidth": 0,
                            "ticks": ""
                          }
                        },
                        "type": "scatterpolar"
                      }
                    ],
                    "scatterpolargl": [
                      {
                        "marker": {
                          "colorbar": {
                            "outlinewidth": 0,
                            "ticks": ""
                          }
                        },
                        "type": "scatterpolargl"
                      }
                    ],
                    "scatterternary": [
                      {
                        "marker": {
                          "colorbar": {
                            "outlinewidth": 0,
                            "ticks": ""
                          }
                        },
                        "type": "scatterternary"
                      }
                    ],
                    "surface": [
                      {
                        "colorbar": {
                          "outlinewidth": 0,
                          "ticks": ""
                        },
                        "colorscale": [
                          [
                            0,
                            "#0d0887"
                          ],
                          [
                            0.1111111111111111,
                            "#46039f"
                          ],
                          [
                            0.2222222222222222,
                            "#7201a8"
                          ],
                          [
                            0.3333333333333333,
                            "#9c179e"
                          ],
                          [
                            0.4444444444444444,
                            "#bd3786"
                          ],
                          [
                            0.5555555555555556,
                            "#d8576b"
                          ],
                          [
                            0.6666666666666666,
                            "#ed7953"
                          ],
                          [
                            0.7777777777777778,
                            "#fb9f3a"
                          ],
                          [
                            0.8888888888888888,
                            "#fdca26"
                          ],
                          [
                            1,
                            "#f0f921"
                          ]
                        ],
                        "type": "surface"
                      }
                    ],
                    "table": [
                      {
                        "cells": {
                          "fill": {
                            "color": "#EBF0F8"
                          },
                          "line": {
                            "color": "white"
                          }
                        },
                        "header": {
                          "fill": {
                            "color": "#C8D4E3"
                          },
                          "line": {
                            "color": "white"
                          }
                        },
                        "type": "table"
                      }
                    ]
                  },
                  "layout": {
                    "annotationdefaults": {
                      "arrowcolor": "#2a3f5f",
                      "arrowhead": 0,
                      "arrowwidth": 1
                    },
                    "autotypenumbers": "strict",
                    "coloraxis": {
                      "colorbar": {
                        "outlinewidth": 0,
                        "ticks": ""
                      }
                    },
                    "colorscale": {
                      "diverging": [
                        [
                          0,
                          "#8e0152"
                        ],
                        [
                          0.1,
                          "#c51b7d"
                        ],
                        [
                          0.2,
                          "#de77ae"
                        ],
                        [
                          0.3,
                          "#f1b6da"
                        ],
                        [
                          0.4,
                          "#fde0ef"
                        ],
                        [
                          0.5,
                          "#f7f7f7"
                        ],
                        [
                          0.6,
                          "#e6f5d0"
                        ],
                        [
                          0.7,
                          "#b8e186"
                        ],
                        [
                          0.8,
                          "#7fbc41"
                        ],
                        [
                          0.9,
                          "#4d9221"
                        ],
                        [
                          1,
                          "#276419"
                        ]
                      ],
                      "sequential": [
                        [
                          0,
                          "#0d0887"
                        ],
                        [
                          0.1111111111111111,
                          "#46039f"
                        ],
                        [
                          0.2222222222222222,
                          "#7201a8"
                        ],
                        [
                          0.3333333333333333,
                          "#9c179e"
                        ],
                        [
                          0.4444444444444444,
                          "#bd3786"
                        ],
                        [
                          0.5555555555555556,
                          "#d8576b"
                        ],
                        [
                          0.6666666666666666,
                          "#ed7953"
                        ],
                        [
                          0.7777777777777778,
                          "#fb9f3a"
                        ],
                        [
                          0.8888888888888888,
                          "#fdca26"
                        ],
                        [
                          1,
                          "#f0f921"
                        ]
                      ],
                      "sequentialminus": [
                        [
                          0,
                          "#0d0887"
                        ],
                        [
                          0.1111111111111111,
                          "#46039f"
                        ],
                        [
                          0.2222222222222222,
                          "#7201a8"
                        ],
                        [
                          0.3333333333333333,
                          "#9c179e"
                        ],
                        [
                          0.4444444444444444,
                          "#bd3786"
                        ],
                        [
                          0.5555555555555556,
                          "#d8576b"
                        ],
                        [
                          0.6666666666666666,
                          "#ed7953"
                        ],
                        [
                          0.7777777777777778,
                          "#fb9f3a"
                        ],
                        [
                          0.8888888888888888,
                          "#fdca26"
                        ],
                        [
                          1,
                          "#f0f921"
                        ]
                      ]
                    },
                    "colorway": [
                      "#636efa",
                      "#EF553B",
                      "#00cc96",
                      "#ab63fa",
                      "#FFA15A",
                      "#19d3f3",
                      "#FF6692",
                      "#B6E880",
                      "#FF97FF",
                      "#FECB52"
                    ],
                    "font": {
                      "color": "#2a3f5f"
                    },
                    "geo": {
                      "bgcolor": "white",
                      "lakecolor": "white",
                      "landcolor": "#E5ECF6",
                      "showlakes": true,
                      "showland": true,
                      "subunitcolor": "white"
                    },
                    "hoverlabel": {
                      "align": "left"
                    },
                    "hovermode": "closest",
                    "mapbox": {
                      "style": "light"
                    },
                    "paper_bgcolor": "white",
                    "plot_bgcolor": "#E5ECF6",
                    "polar": {
                      "angularaxis": {
                        "gridcolor": "white",
                        "linecolor": "white",
                        "ticks": ""
                      },
                      "bgcolor": "#E5ECF6",
                      "radialaxis": {
                        "gridcolor": "white",
                        "linecolor": "white",
                        "ticks": ""
                      }
                    },
                    "scene": {
                      "xaxis": {
                        "backgroundcolor": "#E5ECF6",
                        "gridcolor": "white",
                        "gridwidth": 2,
                        "linecolor": "white",
                        "showbackground": true,
                        "ticks": "",
                        "zerolinecolor": "white"
                      },
                      "yaxis": {
                        "backgroundcolor": "#E5ECF6",
                        "gridcolor": "white",
                        "gridwidth": 2,
                        "linecolor": "white",
                        "showbackground": true,
                        "ticks": "",
                        "zerolinecolor": "white"
                      },
                      "zaxis": {
                        "backgroundcolor": "#E5ECF6",
                        "gridcolor": "white",
                        "gridwidth": 2,
                        "linecolor": "white",
                        "showbackground": true,
                        "ticks": "",
                        "zerolinecolor": "white"
                      }
                    },
                    "shapedefaults": {
                      "line": {
                        "color": "#2a3f5f"
                      }
                    },
                    "ternary": {
                      "aaxis": {
                        "gridcolor": "white",
                        "linecolor": "white",
                        "ticks": ""
                      },
                      "baxis": {
                        "gridcolor": "white",
                        "linecolor": "white",
                        "ticks": ""
                      },
                      "bgcolor": "#E5ECF6",
                      "caxis": {
                        "gridcolor": "white",
                        "linecolor": "white",
                        "ticks": ""
                      }
                    },
                    "title": {
                      "x": 0.05
                    },
                    "xaxis": {
                      "automargin": true,
                      "gridcolor": "white",
                      "linecolor": "white",
                      "ticks": "",
                      "title": {
                        "standoff": 15
                      },
                      "zerolinecolor": "white",
                      "zerolinewidth": 2
                    },
                    "yaxis": {
                      "automargin": true,
                      "gridcolor": "white",
                      "linecolor": "white",
                      "ticks": "",
                      "title": {
                        "standoff": 15
                      },
                      "zerolinecolor": "white",
                      "zerolinewidth": 2
                    }
                  }
                },
                "title": {
                  "text": "Linear Regression vs. SVR for Linear Regression Model for Twitter COVID-19 Vaccine Tweets Containg Implants"
                },
                "xaxis": {
                  "title": {
                    "text": "Date"
                  }
                },
                "yaxis": {
                  "title": {
                    "text": "Tweet Count"
                  }
                }
              }
            }
          },
          "metadata": {},
          "output_type": "display_data"
        }
      ],
      "source": [
        "## Perform regression modeling\n",
        "from sklearn.svm import SVR\n",
        "from sklearn.pipeline import Pipeline\n",
        "from sklearn.preprocessing import StandardScaler\n",
        "from sklearn.model_selection import train_test_split, GridSearchCV\n",
        "from sklearn.metrics import r2_score, mean_squared_error\n",
        "\n",
        "# Convert datetime to int\n",
        "x = df_dates_binned['Date'].loc[:69].astype('int64') / 10**9  # Convert to seconds (UNIX epoch start)\n",
        "x = x.values.reshape(-1, 1)\n",
        "\n",
        "y = df_dates_binned['Count'].loc[:69]\n",
        "\n",
        "#--------------------------------------------------------------\n",
        "# SVR model with hyperparameter optimization\n",
        "#--------------------------------------------------------------\n",
        "# Split the data into train and test sets\n",
        "x_train, x_test, y_train, y_test = train_test_split(x, y, test_size=0.2, random_state=42)\n",
        "\n",
        "# Create a pipeline with StandardScaler and SVR\n",
        "pipeline = Pipeline([('scaler', StandardScaler()),\n",
        "                     ('svr', SVR(kernel='rbf'))])\n",
        "\n",
        "# Define the parameter grid for hyperparameter optimization\n",
        "param_grid = {'svr__C': [10000, 1000000, 100],\n",
        "              'svr__gamma': [10, 1000, 100]}\n",
        "# param_grid = {'svr__C': [100, 1000, 100],\n",
        "#               'svr__gamma': [1, 1000, 100]}\n",
        "\n",
        "# Perform grid search with cross-validation on train data\n",
        "grid_search = GridSearchCV(pipeline, param_grid)\n",
        "grid_search.fit(x_train, y_train)\n",
        "\n",
        "# Predict using best model on test data\n",
        "best_svr = grid_search.best_estimator_\n",
        "y_svr_pred_test = best_svr.predict(x_test)\n",
        "\n",
        "# Calculate R2 and RMSE for SVR model\n",
        "svr_r2 = r2_score(y_test, y_svr_pred_test)\n",
        "svr_rmse = np.sqrt(mean_squared_error(y_test, y_svr_pred_test))\n",
        "\n",
        "print(\"Model Evaluation\")\n",
        "print(\"\\nSupport Vector Regression: RMSE=%.2f, R2=%.2f\" % (svr_rmse, svr_r2))\n",
        "print(\"Hyperparameters:\", best_svr, \"\\n\")\n",
        "\n",
        "# Plot the model\n",
        "import plotly.graph_objects as go\n",
        "\n",
        "xtt = df_dates_binned['Date'].loc[:69].dt.strftime('%Y-%m-%d')\n",
        "scatter_actual = go.Scatter(x=xtt, y=y, mode='markers', name='Actual', marker=dict(color='blue', opacity=0.3))\n",
        "\n",
        "y_svr_pred = best_svr.predict(x) # Plot on all data\n",
        "line_svr = go.Scatter(x=xtt, y=y_svr_pred, mode='lines', name='SVR', line=dict(color='violet'))\n",
        "\n",
        "data = [scatter_actual, line_svr]\n",
        "\n",
        "layout = go.Layout(xaxis=dict(title='Date'),\n",
        "                   yaxis=dict(title='Tweet Count'),\n",
        "                   title='Linear Regression vs. SVR for Linear Regression Model for Twitter COVID-19 Vaccine Tweets Containg Implants',\n",
        "                   showlegend=True,\n",
        "                   height=600)\n",
        "\n",
        "fig = go.Figure(data=data, layout=layout)\n",
        "fig.show()"
      ]
    },
    {
      "cell_type": "code",
      "execution_count": 102,
      "metadata": {},
      "outputs": [
        {
          "data": {
            "application/vnd.plotly.v1+json": {
              "config": {
                "plotlyServerURL": "https://plot.ly"
              },
              "data": [
                {
                  "marker": {
                    "color": "blue",
                    "opacity": 0.3
                  },
                  "mode": "markers",
                  "name": "Actual",
                  "type": "scatter",
                  "x": [
                    "2020-01-15",
                    "2020-02-01",
                    "2020-02-15",
                    "2020-03-01",
                    "2020-03-15",
                    "2020-04-01",
                    "2020-04-15",
                    "2020-05-01",
                    "2020-05-15",
                    "2020-06-01",
                    "2020-06-15",
                    "2020-07-01",
                    "2020-07-15",
                    "2020-08-01",
                    "2020-08-15",
                    "2020-09-01",
                    "2020-09-15",
                    "2020-10-01",
                    "2020-10-15",
                    "2020-11-01",
                    "2020-11-15",
                    "2020-12-01",
                    "2020-12-15",
                    "2021-01-01",
                    "2021-01-15",
                    "2021-02-01",
                    "2021-02-15",
                    "2021-03-01",
                    "2021-03-15",
                    "2021-04-01",
                    "2021-04-15",
                    "2021-05-01",
                    "2021-05-15",
                    "2021-06-01",
                    "2021-06-15",
                    "2021-07-01",
                    "2021-07-15",
                    "2021-08-01",
                    "2021-08-15",
                    "2021-09-01",
                    "2021-09-15",
                    "2021-10-01",
                    "2021-10-15",
                    "2021-11-01",
                    "2021-11-15",
                    "2021-12-01",
                    "2021-12-15",
                    "2022-01-01",
                    "2022-01-15",
                    "2022-02-01",
                    "2022-02-15",
                    "2022-03-01",
                    "2022-03-15",
                    "2022-04-01",
                    "2022-04-15",
                    "2022-05-01",
                    "2022-05-15",
                    "2022-06-01",
                    "2022-06-15",
                    "2022-07-01",
                    "2022-07-15",
                    "2022-08-01",
                    "2022-08-15",
                    "2022-09-01",
                    "2022-09-15",
                    "2022-10-01",
                    "2022-10-15",
                    "2022-11-01",
                    "2022-11-15",
                    "2022-12-01"
                  ],
                  "y": [
                    1,
                    0,
                    0,
                    1,
                    1,
                    2,
                    2,
                    0,
                    2,
                    0,
                    1,
                    1,
                    1,
                    1,
                    1,
                    0,
                    2,
                    2,
                    0,
                    0,
                    1,
                    6,
                    3,
                    2,
                    1,
                    3,
                    2,
                    3,
                    6,
                    9,
                    3,
                    6,
                    14,
                    4,
                    5,
                    4,
                    6,
                    10,
                    7,
                    1,
                    1,
                    0,
                    1,
                    0,
                    0,
                    2,
                    0,
                    0,
                    1,
                    0,
                    0,
                    0,
                    0,
                    0,
                    1,
                    0,
                    1,
                    1,
                    0,
                    0,
                    0,
                    1,
                    1,
                    4,
                    0,
                    1,
                    1,
                    0,
                    1,
                    8
                  ]
                },
                {
                  "line": {
                    "color": "red",
                    "dash": "dash"
                  },
                  "mode": "lines",
                  "name": "LR Before Release",
                  "type": "scatter",
                  "x": [
                    "2020-01-15",
                    "2020-02-01",
                    "2020-02-15",
                    "2020-03-01",
                    "2020-03-15",
                    "2020-04-01",
                    "2020-04-15",
                    "2020-05-01",
                    "2020-05-15",
                    "2020-06-01",
                    "2020-06-15",
                    "2020-07-01",
                    "2020-07-15",
                    "2020-08-01",
                    "2020-08-15",
                    "2020-09-01",
                    "2020-09-15",
                    "2020-10-01",
                    "2020-10-15",
                    "2020-11-01",
                    "2020-11-15",
                    "2020-12-01",
                    "2020-12-15",
                    "2021-01-01"
                  ],
                  "y": [
                    0.41178725610208744,
                    0.4929431174002161,
                    0.559777356116328,
                    0.6313854690264549,
                    0.6982197077425667,
                    0.7793755690407096,
                    0.8462098077568214,
                    0.9225917948609492,
                    0.989426033577061,
                    1.070581894875204,
                    1.1374161335913158,
                    1.2137981206954436,
                    1.2806323594115554,
                    1.3617882207096983,
                    1.4286224594258101,
                    1.5097783207239388,
                    1.5766125594400648,
                    1.6529945465441926,
                    1.7198287852603045,
                    1.8009846465584332,
                    1.8678188852745592,
                    1.944200872378687,
                    2.011035111094799,
                    2.0921909723929275
                  ]
                },
                {
                  "line": {
                    "color": "green",
                    "dash": "dash"
                  },
                  "mode": "lines",
                  "name": "LR Vaccine Release",
                  "type": "scatter",
                  "x": [
                    "2021-01-01",
                    "2021-01-15",
                    "2021-02-01",
                    "2021-02-15",
                    "2021-03-01",
                    "2021-03-15",
                    "2021-04-01",
                    "2021-04-15",
                    "2021-05-01",
                    "2021-05-15",
                    "2021-06-01",
                    "2021-06-15",
                    "2021-07-01",
                    "2021-07-15",
                    "2021-08-01",
                    "2021-08-15"
                  ],
                  "y": [
                    2.4237396257539103,
                    2.783229805660085,
                    3.2197535955461944,
                    3.579243775452369,
                    3.9387339553585434,
                    4.298224135264718,
                    4.734747925150771,
                    5.094238105056945,
                    5.505084024949724,
                    5.8645742048559555,
                    6.301097994742008,
                    6.660588174648183,
                    7.071434094540962,
                    7.430924274447136,
                    7.867448064333246,
                    8.22693824423942
                  ]
                },
                {
                  "line": {
                    "color": "orange",
                    "dash": "dash"
                  },
                  "mode": "lines",
                  "name": "LR 70% Vaxxed in MM",
                  "type": "scatter",
                  "x": [
                    "2021-08-01",
                    "2021-08-15",
                    "2021-09-01",
                    "2021-09-15",
                    "2021-10-01",
                    "2021-10-15",
                    "2021-11-01",
                    "2021-11-15",
                    "2021-12-01",
                    "2021-12-15",
                    "2022-01-01",
                    "2022-01-15",
                    "2022-02-01",
                    "2022-02-15",
                    "2022-03-01",
                    "2022-03-15",
                    "2022-04-01",
                    "2022-04-15",
                    "2022-05-01",
                    "2022-05-15",
                    "2022-06-01",
                    "2022-06-15",
                    "2022-07-01",
                    "2022-07-15",
                    "2022-08-01",
                    "2022-08-15",
                    "2022-09-01",
                    "2022-09-15",
                    "2022-10-01",
                    "2022-10-15",
                    "2022-11-01",
                    "2022-11-15",
                    "2022-12-01"
                  ],
                  "y": [
                    1.7871118526903587,
                    1.7592154231103478,
                    1.7253411871917592,
                    1.6974447576117484,
                    1.6655631238060238,
                    1.637666694226013,
                    1.6037924583074314,
                    1.5758960287274206,
                    1.544014394921696,
                    1.5161179653416852,
                    1.4822437294230966,
                    1.4543472998430858,
                    1.4204730639245042,
                    1.3925766343444934,
                    1.3646802047644826,
                    1.3367837751844718,
                    1.3029095392658903,
                    1.2750131096858794,
                    1.2431314758801548,
                    1.215235046300144,
                    1.1813608103815554,
                    1.1534643808015446,
                    1.12158274699582,
                    1.0936863174158091,
                    1.0598120814972276,
                    1.0319156519172168,
                    0.9980414159986282,
                    0.9701449864186245,
                    0.9382633526128927,
                    0.9103669230328819,
                    0.8764926871143004,
                    0.8485962575342896,
                    0.816714623728565
                  ]
                },
                {
                  "line": {
                    "color": "violet"
                  },
                  "mode": "lines",
                  "name": "SVR",
                  "type": "scatter",
                  "x": [
                    "2020-01-15",
                    "2020-02-01",
                    "2020-02-15",
                    "2020-03-01",
                    "2020-03-15",
                    "2020-04-01",
                    "2020-04-15",
                    "2020-05-01",
                    "2020-05-15",
                    "2020-06-01",
                    "2020-06-15",
                    "2020-07-01",
                    "2020-07-15",
                    "2020-08-01",
                    "2020-08-15",
                    "2020-09-01",
                    "2020-09-15",
                    "2020-10-01",
                    "2020-10-15",
                    "2020-11-01",
                    "2020-11-15",
                    "2020-12-01",
                    "2020-12-15",
                    "2021-01-01",
                    "2021-01-15",
                    "2021-02-01",
                    "2021-02-15",
                    "2021-03-01",
                    "2021-03-15",
                    "2021-04-01",
                    "2021-04-15",
                    "2021-05-01",
                    "2021-05-15",
                    "2021-06-01",
                    "2021-06-15",
                    "2021-07-01",
                    "2021-07-15",
                    "2021-08-01",
                    "2021-08-15",
                    "2021-09-01",
                    "2021-09-15",
                    "2021-10-01",
                    "2021-10-15",
                    "2021-11-01",
                    "2021-11-15",
                    "2021-12-01",
                    "2021-12-15",
                    "2022-01-01",
                    "2022-01-15",
                    "2022-02-01",
                    "2022-02-15",
                    "2022-03-01",
                    "2022-03-15",
                    "2022-04-01",
                    "2022-04-15",
                    "2022-05-01",
                    "2022-05-15",
                    "2022-06-01",
                    "2022-06-15",
                    "2022-07-01",
                    "2022-07-15",
                    "2022-08-01",
                    "2022-08-15",
                    "2022-09-01",
                    "2022-09-15",
                    "2022-10-01",
                    "2022-10-15",
                    "2022-11-01",
                    "2022-11-15",
                    "2022-12-01"
                  ],
                  "y": [
                    2.0961248474634053,
                    0.1001304531958489,
                    0.10013933959283206,
                    1.1000701910884116,
                    2.066275397486453,
                    2.1667189208772504,
                    2.0534356710368766,
                    0.10002436717587848,
                    1.9429313166453914,
                    2.166734784590132,
                    2.108296353209294,
                    1.1000826135662465,
                    2.0146146282463873,
                    1.1001001357189972,
                    1.100466508834533,
                    0.09986018338188885,
                    1.9428435129233133,
                    2.099784479534408,
                    2.085891386435098,
                    0.09976414565025093,
                    1.1000826127346721,
                    5.899840243406949,
                    2.5774524002894763,
                    2.0480946623784075,
                    1.1000767409823449,
                    2.8997682831132128,
                    2.100204711605668,
                    2.899925828654579,
                    5.900014105478643,
                    8.900143573292134,
                    2.8998074906385876,
                    3.4389596074152733,
                    13.899794177066537,
                    2.898265377241607,
                    4.899629275095464,
                    3.900143635724307,
                    5.900499728618369,
                    9.900143587229664,
                    6.899817773662089,
                    1.100070121865181,
                    1.099690903892037,
                    0.10014363042079522,
                    1.0997891476921775,
                    0.10006906032996943,
                    0.10000804357229898,
                    1.848098810276256,
                    0.09978923144079666,
                    0.10019352373938073,
                    1.0998996482433951,
                    1.9297906234587567,
                    0.10034028756055946,
                    0.09966353698925978,
                    0.09988174122584903,
                    0.10013045169780543,
                    1.8418119651668572,
                    0.10025372899602703,
                    1.0998952170423142,
                    1.0998039082548492,
                    0.09974744278071856,
                    0.09984883882468809,
                    0.10052398840503551,
                    1.0998173731494063,
                    1.0998454616487676,
                    3.9001539449842864,
                    0.1000690755670326,
                    1.1004047116261413,
                    1.09979968464902,
                    1.9801126743770179,
                    1.1000852569260775,
                    7.899767858710822
                  ]
                }
              ],
              "layout": {
                "height": 600,
                "showlegend": true,
                "template": {
                  "data": {
                    "bar": [
                      {
                        "error_x": {
                          "color": "#2a3f5f"
                        },
                        "error_y": {
                          "color": "#2a3f5f"
                        },
                        "marker": {
                          "line": {
                            "color": "#E5ECF6",
                            "width": 0.5
                          },
                          "pattern": {
                            "fillmode": "overlay",
                            "size": 10,
                            "solidity": 0.2
                          }
                        },
                        "type": "bar"
                      }
                    ],
                    "barpolar": [
                      {
                        "marker": {
                          "line": {
                            "color": "#E5ECF6",
                            "width": 0.5
                          },
                          "pattern": {
                            "fillmode": "overlay",
                            "size": 10,
                            "solidity": 0.2
                          }
                        },
                        "type": "barpolar"
                      }
                    ],
                    "carpet": [
                      {
                        "aaxis": {
                          "endlinecolor": "#2a3f5f",
                          "gridcolor": "white",
                          "linecolor": "white",
                          "minorgridcolor": "white",
                          "startlinecolor": "#2a3f5f"
                        },
                        "baxis": {
                          "endlinecolor": "#2a3f5f",
                          "gridcolor": "white",
                          "linecolor": "white",
                          "minorgridcolor": "white",
                          "startlinecolor": "#2a3f5f"
                        },
                        "type": "carpet"
                      }
                    ],
                    "choropleth": [
                      {
                        "colorbar": {
                          "outlinewidth": 0,
                          "ticks": ""
                        },
                        "type": "choropleth"
                      }
                    ],
                    "contour": [
                      {
                        "colorbar": {
                          "outlinewidth": 0,
                          "ticks": ""
                        },
                        "colorscale": [
                          [
                            0,
                            "#0d0887"
                          ],
                          [
                            0.1111111111111111,
                            "#46039f"
                          ],
                          [
                            0.2222222222222222,
                            "#7201a8"
                          ],
                          [
                            0.3333333333333333,
                            "#9c179e"
                          ],
                          [
                            0.4444444444444444,
                            "#bd3786"
                          ],
                          [
                            0.5555555555555556,
                            "#d8576b"
                          ],
                          [
                            0.6666666666666666,
                            "#ed7953"
                          ],
                          [
                            0.7777777777777778,
                            "#fb9f3a"
                          ],
                          [
                            0.8888888888888888,
                            "#fdca26"
                          ],
                          [
                            1,
                            "#f0f921"
                          ]
                        ],
                        "type": "contour"
                      }
                    ],
                    "contourcarpet": [
                      {
                        "colorbar": {
                          "outlinewidth": 0,
                          "ticks": ""
                        },
                        "type": "contourcarpet"
                      }
                    ],
                    "heatmap": [
                      {
                        "colorbar": {
                          "outlinewidth": 0,
                          "ticks": ""
                        },
                        "colorscale": [
                          [
                            0,
                            "#0d0887"
                          ],
                          [
                            0.1111111111111111,
                            "#46039f"
                          ],
                          [
                            0.2222222222222222,
                            "#7201a8"
                          ],
                          [
                            0.3333333333333333,
                            "#9c179e"
                          ],
                          [
                            0.4444444444444444,
                            "#bd3786"
                          ],
                          [
                            0.5555555555555556,
                            "#d8576b"
                          ],
                          [
                            0.6666666666666666,
                            "#ed7953"
                          ],
                          [
                            0.7777777777777778,
                            "#fb9f3a"
                          ],
                          [
                            0.8888888888888888,
                            "#fdca26"
                          ],
                          [
                            1,
                            "#f0f921"
                          ]
                        ],
                        "type": "heatmap"
                      }
                    ],
                    "heatmapgl": [
                      {
                        "colorbar": {
                          "outlinewidth": 0,
                          "ticks": ""
                        },
                        "colorscale": [
                          [
                            0,
                            "#0d0887"
                          ],
                          [
                            0.1111111111111111,
                            "#46039f"
                          ],
                          [
                            0.2222222222222222,
                            "#7201a8"
                          ],
                          [
                            0.3333333333333333,
                            "#9c179e"
                          ],
                          [
                            0.4444444444444444,
                            "#bd3786"
                          ],
                          [
                            0.5555555555555556,
                            "#d8576b"
                          ],
                          [
                            0.6666666666666666,
                            "#ed7953"
                          ],
                          [
                            0.7777777777777778,
                            "#fb9f3a"
                          ],
                          [
                            0.8888888888888888,
                            "#fdca26"
                          ],
                          [
                            1,
                            "#f0f921"
                          ]
                        ],
                        "type": "heatmapgl"
                      }
                    ],
                    "histogram": [
                      {
                        "marker": {
                          "pattern": {
                            "fillmode": "overlay",
                            "size": 10,
                            "solidity": 0.2
                          }
                        },
                        "type": "histogram"
                      }
                    ],
                    "histogram2d": [
                      {
                        "colorbar": {
                          "outlinewidth": 0,
                          "ticks": ""
                        },
                        "colorscale": [
                          [
                            0,
                            "#0d0887"
                          ],
                          [
                            0.1111111111111111,
                            "#46039f"
                          ],
                          [
                            0.2222222222222222,
                            "#7201a8"
                          ],
                          [
                            0.3333333333333333,
                            "#9c179e"
                          ],
                          [
                            0.4444444444444444,
                            "#bd3786"
                          ],
                          [
                            0.5555555555555556,
                            "#d8576b"
                          ],
                          [
                            0.6666666666666666,
                            "#ed7953"
                          ],
                          [
                            0.7777777777777778,
                            "#fb9f3a"
                          ],
                          [
                            0.8888888888888888,
                            "#fdca26"
                          ],
                          [
                            1,
                            "#f0f921"
                          ]
                        ],
                        "type": "histogram2d"
                      }
                    ],
                    "histogram2dcontour": [
                      {
                        "colorbar": {
                          "outlinewidth": 0,
                          "ticks": ""
                        },
                        "colorscale": [
                          [
                            0,
                            "#0d0887"
                          ],
                          [
                            0.1111111111111111,
                            "#46039f"
                          ],
                          [
                            0.2222222222222222,
                            "#7201a8"
                          ],
                          [
                            0.3333333333333333,
                            "#9c179e"
                          ],
                          [
                            0.4444444444444444,
                            "#bd3786"
                          ],
                          [
                            0.5555555555555556,
                            "#d8576b"
                          ],
                          [
                            0.6666666666666666,
                            "#ed7953"
                          ],
                          [
                            0.7777777777777778,
                            "#fb9f3a"
                          ],
                          [
                            0.8888888888888888,
                            "#fdca26"
                          ],
                          [
                            1,
                            "#f0f921"
                          ]
                        ],
                        "type": "histogram2dcontour"
                      }
                    ],
                    "mesh3d": [
                      {
                        "colorbar": {
                          "outlinewidth": 0,
                          "ticks": ""
                        },
                        "type": "mesh3d"
                      }
                    ],
                    "parcoords": [
                      {
                        "line": {
                          "colorbar": {
                            "outlinewidth": 0,
                            "ticks": ""
                          }
                        },
                        "type": "parcoords"
                      }
                    ],
                    "pie": [
                      {
                        "automargin": true,
                        "type": "pie"
                      }
                    ],
                    "scatter": [
                      {
                        "fillpattern": {
                          "fillmode": "overlay",
                          "size": 10,
                          "solidity": 0.2
                        },
                        "type": "scatter"
                      }
                    ],
                    "scatter3d": [
                      {
                        "line": {
                          "colorbar": {
                            "outlinewidth": 0,
                            "ticks": ""
                          }
                        },
                        "marker": {
                          "colorbar": {
                            "outlinewidth": 0,
                            "ticks": ""
                          }
                        },
                        "type": "scatter3d"
                      }
                    ],
                    "scattercarpet": [
                      {
                        "marker": {
                          "colorbar": {
                            "outlinewidth": 0,
                            "ticks": ""
                          }
                        },
                        "type": "scattercarpet"
                      }
                    ],
                    "scattergeo": [
                      {
                        "marker": {
                          "colorbar": {
                            "outlinewidth": 0,
                            "ticks": ""
                          }
                        },
                        "type": "scattergeo"
                      }
                    ],
                    "scattergl": [
                      {
                        "marker": {
                          "colorbar": {
                            "outlinewidth": 0,
                            "ticks": ""
                          }
                        },
                        "type": "scattergl"
                      }
                    ],
                    "scattermapbox": [
                      {
                        "marker": {
                          "colorbar": {
                            "outlinewidth": 0,
                            "ticks": ""
                          }
                        },
                        "type": "scattermapbox"
                      }
                    ],
                    "scatterpolar": [
                      {
                        "marker": {
                          "colorbar": {
                            "outlinewidth": 0,
                            "ticks": ""
                          }
                        },
                        "type": "scatterpolar"
                      }
                    ],
                    "scatterpolargl": [
                      {
                        "marker": {
                          "colorbar": {
                            "outlinewidth": 0,
                            "ticks": ""
                          }
                        },
                        "type": "scatterpolargl"
                      }
                    ],
                    "scatterternary": [
                      {
                        "marker": {
                          "colorbar": {
                            "outlinewidth": 0,
                            "ticks": ""
                          }
                        },
                        "type": "scatterternary"
                      }
                    ],
                    "surface": [
                      {
                        "colorbar": {
                          "outlinewidth": 0,
                          "ticks": ""
                        },
                        "colorscale": [
                          [
                            0,
                            "#0d0887"
                          ],
                          [
                            0.1111111111111111,
                            "#46039f"
                          ],
                          [
                            0.2222222222222222,
                            "#7201a8"
                          ],
                          [
                            0.3333333333333333,
                            "#9c179e"
                          ],
                          [
                            0.4444444444444444,
                            "#bd3786"
                          ],
                          [
                            0.5555555555555556,
                            "#d8576b"
                          ],
                          [
                            0.6666666666666666,
                            "#ed7953"
                          ],
                          [
                            0.7777777777777778,
                            "#fb9f3a"
                          ],
                          [
                            0.8888888888888888,
                            "#fdca26"
                          ],
                          [
                            1,
                            "#f0f921"
                          ]
                        ],
                        "type": "surface"
                      }
                    ],
                    "table": [
                      {
                        "cells": {
                          "fill": {
                            "color": "#EBF0F8"
                          },
                          "line": {
                            "color": "white"
                          }
                        },
                        "header": {
                          "fill": {
                            "color": "#C8D4E3"
                          },
                          "line": {
                            "color": "white"
                          }
                        },
                        "type": "table"
                      }
                    ]
                  },
                  "layout": {
                    "annotationdefaults": {
                      "arrowcolor": "#2a3f5f",
                      "arrowhead": 0,
                      "arrowwidth": 1
                    },
                    "autotypenumbers": "strict",
                    "coloraxis": {
                      "colorbar": {
                        "outlinewidth": 0,
                        "ticks": ""
                      }
                    },
                    "colorscale": {
                      "diverging": [
                        [
                          0,
                          "#8e0152"
                        ],
                        [
                          0.1,
                          "#c51b7d"
                        ],
                        [
                          0.2,
                          "#de77ae"
                        ],
                        [
                          0.3,
                          "#f1b6da"
                        ],
                        [
                          0.4,
                          "#fde0ef"
                        ],
                        [
                          0.5,
                          "#f7f7f7"
                        ],
                        [
                          0.6,
                          "#e6f5d0"
                        ],
                        [
                          0.7,
                          "#b8e186"
                        ],
                        [
                          0.8,
                          "#7fbc41"
                        ],
                        [
                          0.9,
                          "#4d9221"
                        ],
                        [
                          1,
                          "#276419"
                        ]
                      ],
                      "sequential": [
                        [
                          0,
                          "#0d0887"
                        ],
                        [
                          0.1111111111111111,
                          "#46039f"
                        ],
                        [
                          0.2222222222222222,
                          "#7201a8"
                        ],
                        [
                          0.3333333333333333,
                          "#9c179e"
                        ],
                        [
                          0.4444444444444444,
                          "#bd3786"
                        ],
                        [
                          0.5555555555555556,
                          "#d8576b"
                        ],
                        [
                          0.6666666666666666,
                          "#ed7953"
                        ],
                        [
                          0.7777777777777778,
                          "#fb9f3a"
                        ],
                        [
                          0.8888888888888888,
                          "#fdca26"
                        ],
                        [
                          1,
                          "#f0f921"
                        ]
                      ],
                      "sequentialminus": [
                        [
                          0,
                          "#0d0887"
                        ],
                        [
                          0.1111111111111111,
                          "#46039f"
                        ],
                        [
                          0.2222222222222222,
                          "#7201a8"
                        ],
                        [
                          0.3333333333333333,
                          "#9c179e"
                        ],
                        [
                          0.4444444444444444,
                          "#bd3786"
                        ],
                        [
                          0.5555555555555556,
                          "#d8576b"
                        ],
                        [
                          0.6666666666666666,
                          "#ed7953"
                        ],
                        [
                          0.7777777777777778,
                          "#fb9f3a"
                        ],
                        [
                          0.8888888888888888,
                          "#fdca26"
                        ],
                        [
                          1,
                          "#f0f921"
                        ]
                      ]
                    },
                    "colorway": [
                      "#636efa",
                      "#EF553B",
                      "#00cc96",
                      "#ab63fa",
                      "#FFA15A",
                      "#19d3f3",
                      "#FF6692",
                      "#B6E880",
                      "#FF97FF",
                      "#FECB52"
                    ],
                    "font": {
                      "color": "#2a3f5f"
                    },
                    "geo": {
                      "bgcolor": "white",
                      "lakecolor": "white",
                      "landcolor": "#E5ECF6",
                      "showlakes": true,
                      "showland": true,
                      "subunitcolor": "white"
                    },
                    "hoverlabel": {
                      "align": "left"
                    },
                    "hovermode": "closest",
                    "mapbox": {
                      "style": "light"
                    },
                    "paper_bgcolor": "white",
                    "plot_bgcolor": "#E5ECF6",
                    "polar": {
                      "angularaxis": {
                        "gridcolor": "white",
                        "linecolor": "white",
                        "ticks": ""
                      },
                      "bgcolor": "#E5ECF6",
                      "radialaxis": {
                        "gridcolor": "white",
                        "linecolor": "white",
                        "ticks": ""
                      }
                    },
                    "scene": {
                      "xaxis": {
                        "backgroundcolor": "#E5ECF6",
                        "gridcolor": "white",
                        "gridwidth": 2,
                        "linecolor": "white",
                        "showbackground": true,
                        "ticks": "",
                        "zerolinecolor": "white"
                      },
                      "yaxis": {
                        "backgroundcolor": "#E5ECF6",
                        "gridcolor": "white",
                        "gridwidth": 2,
                        "linecolor": "white",
                        "showbackground": true,
                        "ticks": "",
                        "zerolinecolor": "white"
                      },
                      "zaxis": {
                        "backgroundcolor": "#E5ECF6",
                        "gridcolor": "white",
                        "gridwidth": 2,
                        "linecolor": "white",
                        "showbackground": true,
                        "ticks": "",
                        "zerolinecolor": "white"
                      }
                    },
                    "shapedefaults": {
                      "line": {
                        "color": "#2a3f5f"
                      }
                    },
                    "ternary": {
                      "aaxis": {
                        "gridcolor": "white",
                        "linecolor": "white",
                        "ticks": ""
                      },
                      "baxis": {
                        "gridcolor": "white",
                        "linecolor": "white",
                        "ticks": ""
                      },
                      "bgcolor": "#E5ECF6",
                      "caxis": {
                        "gridcolor": "white",
                        "linecolor": "white",
                        "ticks": ""
                      }
                    },
                    "title": {
                      "x": 0.05
                    },
                    "xaxis": {
                      "automargin": true,
                      "gridcolor": "white",
                      "linecolor": "white",
                      "ticks": "",
                      "title": {
                        "standoff": 15
                      },
                      "zerolinecolor": "white",
                      "zerolinewidth": 2
                    },
                    "yaxis": {
                      "automargin": true,
                      "gridcolor": "white",
                      "linecolor": "white",
                      "ticks": "",
                      "title": {
                        "standoff": 15
                      },
                      "zerolinecolor": "white",
                      "zerolinewidth": 2
                    }
                  }
                },
                "title": {
                  "text": "Linear Regression vs. SVR for Linear Regression Model for Twitter COVID-19 Vaccine Tweets Containg Implants"
                },
                "xaxis": {
                  "title": {
                    "text": "Date"
                  }
                },
                "yaxis": {
                  "title": {
                    "text": "Tweet Count"
                  }
                }
              }
            }
          },
          "metadata": {},
          "output_type": "display_data"
        }
      ],
      "source": [
        "data = [scatter_actual, line_regression_b, line_regression_d, line_regression_a, line_svr]\n",
        "\n",
        "layout = go.Layout(xaxis=dict(title='Date'),\n",
        "                   yaxis=dict(title='Tweet Count'),\n",
        "                   title='Linear Regression vs. SVR for Linear Regression Model for Twitter COVID-19 Vaccine Tweets Containg Implants',\n",
        "                   showlegend=True,\n",
        "                   height=600)\n",
        "\n",
        "fig = go.Figure(data=data, layout=layout)\n",
        "fig.show()"
      ]
    }
  ],
  "metadata": {
    "colab": {
      "provenance": [],
      "toc_visible": true
    },
    "kernelspec": {
      "display_name": "Python 3",
      "name": "python3"
    },
    "language_info": {
      "codemirror_mode": {
        "name": "ipython",
        "version": 3
      },
      "file_extension": ".py",
      "mimetype": "text/x-python",
      "name": "python",
      "nbconvert_exporter": "python",
      "pygments_lexer": "ipython3",
      "version": "3.11.3"
    }
  },
  "nbformat": 4,
  "nbformat_minor": 0
}
