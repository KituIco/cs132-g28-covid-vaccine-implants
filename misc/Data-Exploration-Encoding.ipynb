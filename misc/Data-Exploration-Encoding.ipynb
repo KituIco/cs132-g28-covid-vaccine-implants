{
  "cells": [
    {
      "attachments": {},
      "cell_type": "markdown",
      "metadata": {
        "id": "F2-XzKnySqhi"
      },
      "source": [
        "# Preprocessing and Data Encoding\n",
        "\n",
        "In this document, we preprocess the dataset to make sure we only have clean data. \n",
        "\n",
        "Towards the end, we are going to perform categorical data encoding."
      ]
    },
    {
      "attachments": {},
      "cell_type": "markdown",
      "metadata": {},
      "source": [
        "## 1 Preprocessing for Clean Data"
      ]
    },
    {
      "attachments": {},
      "cell_type": "markdown",
      "metadata": {
        "id": "qa-EK2vPjcJH"
      },
      "source": [
        "### 1.1 Loading the data"
      ]
    },
    {
      "attachments": {},
      "cell_type": "markdown",
      "metadata": {
        "id": "0g8XuMC8-8k-"
      },
      "source": [
        "First, we load the data from our [dataset](https://docs.google.com/spreadsheets/d/1jzNEJWQMvfK6aJeG28JSXecrLZfjeFOCYp-gtW0Q7LQ/edit#gid=1456408654) which we have made available online. \n",
        "\n",
        "We display the last three records as shown in the output to ensure that we have obtained all data properly."
      ]
    },
    {
      "cell_type": "code",
      "execution_count": 84,
      "metadata": {
        "id": "O_30jbLBUUvI"
      },
      "outputs": [
        {
          "data": {
            "text/html": [
              "<div>\n",
              "<style scoped>\n",
              "    .dataframe tbody tr th:only-of-type {\n",
              "        vertical-align: middle;\n",
              "    }\n",
              "\n",
              "    .dataframe tbody tr th {\n",
              "        vertical-align: top;\n",
              "    }\n",
              "\n",
              "    .dataframe thead th {\n",
              "        text-align: right;\n",
              "    }\n",
              "</style>\n",
              "<table border=\"1\" class=\"dataframe\">\n",
              "  <thead>\n",
              "    <tr style=\"text-align: right;\">\n",
              "      <th></th>\n",
              "      <th>ID</th>\n",
              "      <th>Timestamp</th>\n",
              "      <th>Tweet URL</th>\n",
              "      <th>Group</th>\n",
              "      <th>Collector</th>\n",
              "      <th>Category</th>\n",
              "      <th>Topic</th>\n",
              "      <th>Keywords</th>\n",
              "      <th>Account handle</th>\n",
              "      <th>Account name</th>\n",
              "      <th>...</th>\n",
              "      <th>Quote Tweets</th>\n",
              "      <th>Views</th>\n",
              "      <th>Rating</th>\n",
              "      <th>Reasoning</th>\n",
              "      <th>Remarks</th>\n",
              "      <th>Thread/Tweet Language</th>\n",
              "      <th>Add columns here</th>\n",
              "      <th>Add columns here</th>\n",
              "      <th>Reviewer</th>\n",
              "      <th>Review</th>\n",
              "    </tr>\n",
              "  </thead>\n",
              "  <tbody>\n",
              "    <tr>\n",
              "      <th>149</th>\n",
              "      <td>28-149</td>\n",
              "      <td>18/04/2023 23:47:41</td>\n",
              "      <td>https://twitter.com/fenum9/status/137914056758...</td>\n",
              "      <td>28</td>\n",
              "      <td>Pardiñas, Miguel</td>\n",
              "      <td>HLTH</td>\n",
              "      <td>COVID-19 vaccines contain microchip, magnetic ...</td>\n",
              "      <td>\"covid\" \"vaccine\" \"metal\"</td>\n",
              "      <td>@fenum9</td>\n",
              "      <td>h♤yd$n 🧙‍♂️ 𓅃</td>\n",
              "      <td>...</td>\n",
              "      <td>0</td>\n",
              "      <td>NaN</td>\n",
              "      <td>NaN</td>\n",
              "      <td>Tells that nurse on duty during vaccine appoin...</td>\n",
              "      <td>No location</td>\n",
              "      <td>Foreign</td>\n",
              "      <td>NaN</td>\n",
              "      <td>NaN</td>\n",
              "      <td>NaN</td>\n",
              "      <td>NaN</td>\n",
              "    </tr>\n",
              "    <tr>\n",
              "      <th>150</th>\n",
              "      <td>28-150</td>\n",
              "      <td>18/04/2023 23:54:57</td>\n",
              "      <td>https://twitter.com/Wengsterrr_/status/1371652...</td>\n",
              "      <td>28</td>\n",
              "      <td>Pardiñas, Miguel</td>\n",
              "      <td>HLTH</td>\n",
              "      <td>COVID-19 vaccines contain microchip, magnetic ...</td>\n",
              "      <td>\"bakuna\" \"tubig\"</td>\n",
              "      <td>@Wengsterrr_</td>\n",
              "      <td>𝕃𝕦𝕒𝕟𝕟 𝕃𝕚 👅</td>\n",
              "      <td>...</td>\n",
              "      <td>0</td>\n",
              "      <td>NaN</td>\n",
              "      <td>NaN</td>\n",
              "      <td>Complains why cases went up, and points that p...</td>\n",
              "      <td>Location might be fake</td>\n",
              "      <td>Filipino</td>\n",
              "      <td>NaN</td>\n",
              "      <td>NaN</td>\n",
              "      <td>NaN</td>\n",
              "      <td>NaN</td>\n",
              "    </tr>\n",
              "    <tr>\n",
              "      <th>151</th>\n",
              "      <td>28-151</td>\n",
              "      <td>18/04/2023 23:59:24</td>\n",
              "      <td>https://twitter.com/AdrianSBanal/status/141888...</td>\n",
              "      <td>28</td>\n",
              "      <td>Pardiñas, Miguel</td>\n",
              "      <td>HLTH</td>\n",
              "      <td>COVID-19 vaccines contain microchip, magnetic ...</td>\n",
              "      <td>\"bakuna\" \"tubig\"</td>\n",
              "      <td>@AdrianSBanal</td>\n",
              "      <td>Nabs</td>\n",
              "      <td>...</td>\n",
              "      <td>0</td>\n",
              "      <td>NaN</td>\n",
              "      <td>NaN</td>\n",
              "      <td>Complains that vaccine might not be working, a...</td>\n",
              "      <td>NaN</td>\n",
              "      <td>Filipino</td>\n",
              "      <td>NaN</td>\n",
              "      <td>NaN</td>\n",
              "      <td>NaN</td>\n",
              "      <td>NaN</td>\n",
              "    </tr>\n",
              "  </tbody>\n",
              "</table>\n",
              "<p>3 rows × 35 columns</p>\n",
              "</div>"
            ],
            "text/plain": [
              "0        ID            Timestamp   \n",
              "149  28-149  18/04/2023 23:47:41  \\\n",
              "150  28-150  18/04/2023 23:54:57   \n",
              "151  28-151  18/04/2023 23:59:24   \n",
              "\n",
              "0                                            Tweet URL Group   \n",
              "149  https://twitter.com/fenum9/status/137914056758...    28  \\\n",
              "150  https://twitter.com/Wengsterrr_/status/1371652...    28   \n",
              "151  https://twitter.com/AdrianSBanal/status/141888...    28   \n",
              "\n",
              "0           Collector Category   \n",
              "149  Pardiñas, Miguel     HLTH  \\\n",
              "150  Pardiñas, Miguel     HLTH   \n",
              "151  Pardiñas, Miguel     HLTH   \n",
              "\n",
              "0                                                Topic   \n",
              "149  COVID-19 vaccines contain microchip, magnetic ...  \\\n",
              "150  COVID-19 vaccines contain microchip, magnetic ...   \n",
              "151  COVID-19 vaccines contain microchip, magnetic ...   \n",
              "\n",
              "0                     Keywords Account handle   Account name  ...   \n",
              "149  \"covid\" \"vaccine\" \"metal\"        @fenum9  h♤yd$n 🧙‍♂️ 𓅃  ...  \\\n",
              "150           \"bakuna\" \"tubig\"   @Wengsterrr_     𝕃𝕦𝕒𝕟𝕟 𝕃𝕚 👅  ...   \n",
              "151           \"bakuna\" \"tubig\"  @AdrianSBanal           Nabs  ...   \n",
              "\n",
              "0   Quote Tweets Views Rating   \n",
              "149            0   NaN    NaN  \\\n",
              "150            0   NaN    NaN   \n",
              "151            0   NaN    NaN   \n",
              "\n",
              "0                                            Reasoning   \n",
              "149  Tells that nurse on duty during vaccine appoin...  \\\n",
              "150  Complains why cases went up, and points that p...   \n",
              "151  Complains that vaccine might not be working, a...   \n",
              "\n",
              "0                   Remarks Thread/Tweet Language Add columns here   \n",
              "149             No location               Foreign              NaN  \\\n",
              "150  Location might be fake              Filipino              NaN   \n",
              "151                     NaN              Filipino              NaN   \n",
              "\n",
              "0   Add columns here Reviewer Review  \n",
              "149              NaN      NaN    NaN  \n",
              "150              NaN      NaN    NaN  \n",
              "151              NaN      NaN    NaN  \n",
              "\n",
              "[3 rows x 35 columns]"
            ]
          },
          "execution_count": 84,
          "metadata": {},
          "output_type": "execute_result"
        }
      ],
      "source": [
        "# Load datasets\n",
        "import pandas as pd\n",
        "import gspread\n",
        "import numpy as np\n",
        "\n",
        "sa = gspread.service_account(filename=\"group-28-dataset-7233caedfe09.json\")\n",
        "sheet = sa.open(\"Dataset - Group 28\")\n",
        "work_sheet = sheet.worksheet(\"Fixed Data\")\n",
        "\n",
        "df = pd.DataFrame(work_sheet.get_all_values())\n",
        "\n",
        "new_header = df.iloc[0] \n",
        "df = df[1:152] \n",
        "df.columns = new_header \n",
        "df = df.replace(r'^\\s*$', np.nan, regex=True)\n",
        "\n",
        "df.tail(3)\n"
      ]
    },
    {
      "attachments": {},
      "cell_type": "markdown",
      "metadata": {},
      "source": [
        "Shown here are all the current features of the dataset. \n",
        "\n",
        "This may include features with missing values."
      ]
    },
    {
      "cell_type": "code",
      "execution_count": 85,
      "metadata": {},
      "outputs": [
        {
          "name": "stdout",
          "output_type": "stream",
          "text": [
            "List all current features:\n"
          ]
        },
        {
          "data": {
            "text/plain": [
              "Index(['ID', 'Timestamp', 'Tweet URL', 'Group', 'Collector', 'Category',\n",
              "       'Topic', 'Keywords', 'Account handle', 'Account name', 'Account bio',\n",
              "       'Account type', 'Joined', 'Following', 'Followers', 'Location', 'Tweet',\n",
              "       'Tweet Translated', 'Tweet Type', 'Date posted', 'Screenshot',\n",
              "       'Content type', 'Likes', 'Replies', 'Retweets', 'Quote Tweets', 'Views',\n",
              "       'Rating', 'Reasoning', 'Remarks', 'Thread/Tweet Language',\n",
              "       'Add columns here', 'Add columns here', 'Reviewer', 'Review'],\n",
              "      dtype='object', name=0)"
            ]
          },
          "execution_count": 85,
          "metadata": {},
          "output_type": "execute_result"
        }
      ],
      "source": [
        "print(\"List all current features:\")\n",
        "df.columns"
      ]
    },
    {
      "cell_type": "code",
      "execution_count": 86,
      "metadata": {},
      "outputs": [
        {
          "name": "stdout",
          "output_type": "stream",
          "text": [
            "Display the number of records and features:\n"
          ]
        },
        {
          "data": {
            "text/plain": [
              "(151, 35)"
            ]
          },
          "execution_count": 86,
          "metadata": {},
          "output_type": "execute_result"
        }
      ],
      "source": [
        "print(\"Display the number of records and features:\")\n",
        "df.shape"
      ]
    },
    {
      "attachments": {},
      "cell_type": "markdown",
      "metadata": {
        "id": "Gwd7qbXv904-"
      },
      "source": [
        "### 1.2 Checking for Missing Values"
      ]
    },
    {
      "attachments": {},
      "cell_type": "markdown",
      "metadata": {
        "id": "pPZxdPzo_rYP"
      },
      "source": [
        "Now, we check which features has no missing values.\n",
        "\n",
        "From, here we can see that there are missing value on Account Bio, Location, Screenshot, etc."
      ]
    },
    {
      "cell_type": "code",
      "execution_count": 87,
      "metadata": {
        "colab": {
          "base_uri": "https://localhost:8080/"
        },
        "id": "wcJuKgqnnBk7",
        "outputId": "fc0782e1-e730-463d-d9fa-2e806b39bd8d"
      },
      "outputs": [
        {
          "name": "stdout",
          "output_type": "stream",
          "text": [
            "Check for missing values:\n"
          ]
        },
        {
          "data": {
            "text/plain": [
              "0\n",
              "ID                         0\n",
              "Timestamp                  0\n",
              "Tweet URL                  0\n",
              "Group                      0\n",
              "Collector                  0\n",
              "Category                   0\n",
              "Topic                      0\n",
              "Keywords                   0\n",
              "Account handle             0\n",
              "Account name               0\n",
              "Account bio               25\n",
              "Account type               1\n",
              "Joined                     0\n",
              "Following                  0\n",
              "Followers                  0\n",
              "Location                  52\n",
              "Tweet                      0\n",
              "Tweet Translated           0\n",
              "Tweet Type                 0\n",
              "Date posted                0\n",
              "Screenshot               101\n",
              "Content type               0\n",
              "Likes                      0\n",
              "Replies                    0\n",
              "Retweets                   0\n",
              "Quote Tweets              49\n",
              "Views                    151\n",
              "Rating                   150\n",
              "Reasoning                  0\n",
              "Remarks                   32\n",
              "Thread/Tweet Language      0\n",
              "Add columns here         151\n",
              "Add columns here         151\n",
              "Reviewer                 151\n",
              "Review                   151\n",
              "dtype: int64"
            ]
          },
          "execution_count": 87,
          "metadata": {},
          "output_type": "execute_result"
        }
      ],
      "source": [
        "print(\"Check for missing values:\")\n",
        "df.isnull().sum()"
      ]
    },
    {
      "attachments": {},
      "cell_type": "markdown",
      "metadata": {},
      "source": [
        "Upon checking, the collectors deemed that the only necessary features for this project are as follows:\n",
        "\n",
        "> `['ID', 'Timestamp', 'Tweet URL', 'Group', 'Keywords',\n",
        "    'Account handle', 'Account name', 'Account bio', 'Account type', \n",
        "    'Tweet', 'Tweet Translated', 'Tweet Type', 'Date posted',\n",
        "    'Content type', 'Reasoning', 'Thread/Tweet Language',]`\n",
        "\n",
        "From the previous output, we can verify that all of these features have no missing value."
      ]
    },
    {
      "cell_type": "code",
      "execution_count": 88,
      "metadata": {
        "colab": {
          "base_uri": "https://localhost:8080/"
        },
        "id": "_iamLkwGnX6Y",
        "outputId": "f83c5f12-f43e-40de-ce4b-bc26d8ca6791"
      },
      "outputs": [
        {
          "name": "stdout",
          "output_type": "stream",
          "text": [
            "Dataset summary:\n"
          ]
        },
        {
          "data": {
            "text/html": [
              "<style type=\"text/css\">\n",
              "</style>\n",
              "<table id=\"T_025c9\">\n",
              "  <thead>\n",
              "    <tr>\n",
              "      <th class=\"index_name level0\" >0</th>\n",
              "      <th id=\"T_025c9_level0_col0\" class=\"col_heading level0 col0\" >ID</th>\n",
              "      <th id=\"T_025c9_level0_col1\" class=\"col_heading level0 col1\" >Timestamp</th>\n",
              "      <th id=\"T_025c9_level0_col2\" class=\"col_heading level0 col2\" >Tweet URL</th>\n",
              "      <th id=\"T_025c9_level0_col3\" class=\"col_heading level0 col3\" >Group</th>\n",
              "      <th id=\"T_025c9_level0_col4\" class=\"col_heading level0 col4\" >Keywords</th>\n",
              "      <th id=\"T_025c9_level0_col5\" class=\"col_heading level0 col5\" >Account handle</th>\n",
              "      <th id=\"T_025c9_level0_col6\" class=\"col_heading level0 col6\" >Account name</th>\n",
              "      <th id=\"T_025c9_level0_col7\" class=\"col_heading level0 col7\" >Account bio</th>\n",
              "      <th id=\"T_025c9_level0_col8\" class=\"col_heading level0 col8\" >Account type</th>\n",
              "      <th id=\"T_025c9_level0_col9\" class=\"col_heading level0 col9\" >Tweet</th>\n",
              "      <th id=\"T_025c9_level0_col10\" class=\"col_heading level0 col10\" >Tweet Translated</th>\n",
              "      <th id=\"T_025c9_level0_col11\" class=\"col_heading level0 col11\" >Tweet Type</th>\n",
              "      <th id=\"T_025c9_level0_col12\" class=\"col_heading level0 col12\" >Date posted</th>\n",
              "      <th id=\"T_025c9_level0_col13\" class=\"col_heading level0 col13\" >Content type</th>\n",
              "      <th id=\"T_025c9_level0_col14\" class=\"col_heading level0 col14\" >Reasoning</th>\n",
              "      <th id=\"T_025c9_level0_col15\" class=\"col_heading level0 col15\" >Thread/Tweet Language</th>\n",
              "    </tr>\n",
              "  </thead>\n",
              "  <tbody>\n",
              "    <tr>\n",
              "      <th id=\"T_025c9_level0_row0\" class=\"row_heading level0 row0\" >count</th>\n",
              "      <td id=\"T_025c9_row0_col0\" class=\"data row0 col0\" >151</td>\n",
              "      <td id=\"T_025c9_row0_col1\" class=\"data row0 col1\" >151</td>\n",
              "      <td id=\"T_025c9_row0_col2\" class=\"data row0 col2\" >151</td>\n",
              "      <td id=\"T_025c9_row0_col3\" class=\"data row0 col3\" >151</td>\n",
              "      <td id=\"T_025c9_row0_col4\" class=\"data row0 col4\" >151</td>\n",
              "      <td id=\"T_025c9_row0_col5\" class=\"data row0 col5\" >151</td>\n",
              "      <td id=\"T_025c9_row0_col6\" class=\"data row0 col6\" >151</td>\n",
              "      <td id=\"T_025c9_row0_col7\" class=\"data row0 col7\" >126</td>\n",
              "      <td id=\"T_025c9_row0_col8\" class=\"data row0 col8\" >150</td>\n",
              "      <td id=\"T_025c9_row0_col9\" class=\"data row0 col9\" >151</td>\n",
              "      <td id=\"T_025c9_row0_col10\" class=\"data row0 col10\" >151</td>\n",
              "      <td id=\"T_025c9_row0_col11\" class=\"data row0 col11\" >151</td>\n",
              "      <td id=\"T_025c9_row0_col12\" class=\"data row0 col12\" >151</td>\n",
              "      <td id=\"T_025c9_row0_col13\" class=\"data row0 col13\" >151</td>\n",
              "      <td id=\"T_025c9_row0_col14\" class=\"data row0 col14\" >151</td>\n",
              "      <td id=\"T_025c9_row0_col15\" class=\"data row0 col15\" >151</td>\n",
              "    </tr>\n",
              "    <tr>\n",
              "      <th id=\"T_025c9_level0_row1\" class=\"row_heading level0 row1\" >unique</th>\n",
              "      <td id=\"T_025c9_row1_col0\" class=\"data row1 col0\" >151</td>\n",
              "      <td id=\"T_025c9_row1_col1\" class=\"data row1 col1\" >132</td>\n",
              "      <td id=\"T_025c9_row1_col2\" class=\"data row1 col2\" >151</td>\n",
              "      <td id=\"T_025c9_row1_col3\" class=\"data row1 col3\" >1</td>\n",
              "      <td id=\"T_025c9_row1_col4\" class=\"data row1 col4\" >21</td>\n",
              "      <td id=\"T_025c9_row1_col5\" class=\"data row1 col5\" >140</td>\n",
              "      <td id=\"T_025c9_row1_col6\" class=\"data row1 col6\" >138</td>\n",
              "      <td id=\"T_025c9_row1_col7\" class=\"data row1 col7\" >113</td>\n",
              "      <td id=\"T_025c9_row1_col8\" class=\"data row1 col8\" >3</td>\n",
              "      <td id=\"T_025c9_row1_col9\" class=\"data row1 col9\" >151</td>\n",
              "      <td id=\"T_025c9_row1_col10\" class=\"data row1 col10\" >151</td>\n",
              "      <td id=\"T_025c9_row1_col11\" class=\"data row1 col11\" >10</td>\n",
              "      <td id=\"T_025c9_row1_col12\" class=\"data row1 col12\" >150</td>\n",
              "      <td id=\"T_025c9_row1_col13\" class=\"data row1 col13\" >4</td>\n",
              "      <td id=\"T_025c9_row1_col14\" class=\"data row1 col14\" >119</td>\n",
              "      <td id=\"T_025c9_row1_col15\" class=\"data row1 col15\" >3</td>\n",
              "    </tr>\n",
              "    <tr>\n",
              "      <th id=\"T_025c9_level0_row2\" class=\"row_heading level0 row2\" >top</th>\n",
              "      <td id=\"T_025c9_row2_col0\" class=\"data row2 col0\" >28-1</td>\n",
              "      <td id=\"T_025c9_row2_col1\" class=\"data row2 col1\" >1/03/2023 02:28:22</td>\n",
              "      <td id=\"T_025c9_row2_col2\" class=\"data row2 col2\" >https://twitter.com/ggnelhsa/status/1430131446719549442</td>\n",
              "      <td id=\"T_025c9_row2_col3\" class=\"data row2 col3\" >28</td>\n",
              "      <td id=\"T_025c9_row2_col4\" class=\"data row2 col4\" >\"covid\" \"vaccine\" \"magnet\" \"implant\" \"kutsara\" \"spoon\" \"barya\" \"coin\" \"microchip\" \"metal\" \"track\" \"robot\"</td>\n",
              "      <td id=\"T_025c9_row2_col5\" class=\"data row2 col5\" >@ven_cuenca</td>\n",
              "      <td id=\"T_025c9_row2_col6\" class=\"data row2 col6\" >Ven cuenca</td>\n",
              "      <td id=\"T_025c9_row2_col7\" class=\"data row2 col7\" >Registered Psychiatric Nurse UK, loves poetry, music and women, free spirit</td>\n",
              "      <td id=\"T_025c9_row2_col8\" class=\"data row2 col8\" >Anonymous</td>\n",
              "      <td id=\"T_025c9_row2_col9\" class=\"data row2 col9\" >Gagi astig ng vaccine ko astra yung akin eh dinikit ko yung kutsara sa pinasukan ng karayom aba dumikit HAHAHA! May magnet ata 😂\n",
              "</td>\n",
              "      <td id=\"T_025c9_row2_col10\" class=\"data row2 col10\" >My vaccine was so cool, mine was astra, I placed the spoon where the needle went in, but it stuck HAHAHA! It has a magnet 😂</td>\n",
              "      <td id=\"T_025c9_row2_col11\" class=\"data row2 col11\" >Text, Reply</td>\n",
              "      <td id=\"T_025c9_row2_col12\" class=\"data row2 col12\" >26/12/22 04:42</td>\n",
              "      <td id=\"T_025c9_row2_col13\" class=\"data row2 col13\" >Emotional</td>\n",
              "      <td id=\"T_025c9_row2_col14\" class=\"data row2 col14\" >Claims that SinoVac only contains water. This is false as shown in the product information.\n",
              "\n",
              "https://www.moh.gov.sg/docs/librariesprovider5/vaccination-matter/annex-2---sinovac-vaccination-information-sheet-170621.pdf </td>\n",
              "      <td id=\"T_025c9_row2_col15\" class=\"data row2 col15\" >Foreign</td>\n",
              "    </tr>\n",
              "    <tr>\n",
              "      <th id=\"T_025c9_level0_row3\" class=\"row_heading level0 row3\" >freq</th>\n",
              "      <td id=\"T_025c9_row3_col0\" class=\"data row3 col0\" >1</td>\n",
              "      <td id=\"T_025c9_row3_col1\" class=\"data row3 col1\" >7</td>\n",
              "      <td id=\"T_025c9_row3_col2\" class=\"data row3 col2\" >1</td>\n",
              "      <td id=\"T_025c9_row3_col3\" class=\"data row3 col3\" >151</td>\n",
              "      <td id=\"T_025c9_row3_col4\" class=\"data row3 col4\" >41</td>\n",
              "      <td id=\"T_025c9_row3_col5\" class=\"data row3 col5\" >4</td>\n",
              "      <td id=\"T_025c9_row3_col6\" class=\"data row3 col6\" >4</td>\n",
              "      <td id=\"T_025c9_row3_col7\" class=\"data row3 col7\" >4</td>\n",
              "      <td id=\"T_025c9_row3_col8\" class=\"data row3 col8\" >110</td>\n",
              "      <td id=\"T_025c9_row3_col9\" class=\"data row3 col9\" >1</td>\n",
              "      <td id=\"T_025c9_row3_col10\" class=\"data row3 col10\" >1</td>\n",
              "      <td id=\"T_025c9_row3_col11\" class=\"data row3 col11\" >67</td>\n",
              "      <td id=\"T_025c9_row3_col12\" class=\"data row3 col12\" >2</td>\n",
              "      <td id=\"T_025c9_row3_col13\" class=\"data row3 col13\" >82</td>\n",
              "      <td id=\"T_025c9_row3_col14\" class=\"data row3 col14\" >13</td>\n",
              "      <td id=\"T_025c9_row3_col15\" class=\"data row3 col15\" >78</td>\n",
              "    </tr>\n",
              "  </tbody>\n",
              "</table>\n"
            ],
            "text/plain": [
              "<pandas.io.formats.style.Styler at 0x21d18d14c90>"
            ]
          },
          "execution_count": 88,
          "metadata": {},
          "output_type": "execute_result"
        }
      ],
      "source": [
        "print(\"Dataset summary:\")\n",
        "df_clean = df[['ID', 'Timestamp', 'Tweet URL', 'Group', 'Keywords', \n",
        "         'Account handle', 'Account name', 'Account bio', 'Account type', \n",
        "         'Tweet', 'Tweet Translated', 'Tweet Type', 'Date posted',\n",
        "         'Content type', 'Reasoning', 'Thread/Tweet Language',]]\n",
        "df_clean.describe().style"
      ]
    },
    {
      "attachments": {},
      "cell_type": "markdown",
      "metadata": {
        "id": "UOlD-T6UpoVs"
      },
      "source": [
        "The table shows a simple summary of our clean dataset. Some notable observations are as follows: \n",
        "- ID, Tweet URL, Tweet, and Tweet Translated have unique values.\n",
        "- 82 out of 151 tweets are of Emotional content type.\n",
        "- There are 78 Foreign Tweets. This also implies that the remaining 73 tweets are Filipino Tweets.\n",
        "- Ven Cuenca has four tweets on this dataset."
      ]
    },
    {
      "attachments": {},
      "cell_type": "markdown",
      "metadata": {
        "id": "4ZmCav9n-h21"
      },
      "source": [
        "### 1.3 Ensuring Formatting Cosistency"
      ]
    },
    {
      "attachments": {},
      "cell_type": "markdown",
      "metadata": {},
      "source": [
        "Words"
      ]
    },
    {
      "attachments": {},
      "cell_type": "markdown",
      "metadata": {},
      "source": [
        "## 2 Categorical Data Encoding"
      ]
    },
    {
      "attachments": {},
      "cell_type": "markdown",
      "metadata": {},
      "source": [
        "### 2.1 One Hot Encoding"
      ]
    },
    {
      "attachments": {},
      "cell_type": "markdown",
      "metadata": {},
      "source": [
        "Words"
      ]
    },
    {
      "attachments": {},
      "cell_type": "markdown",
      "metadata": {},
      "source": [
        "### 2.2 Heat Map (Feature Correlation)"
      ]
    },
    {
      "attachments": {},
      "cell_type": "markdown",
      "metadata": {
        "id": "a3PdRkj4_ypd"
      },
      "source": [
        "Words"
      ]
    }
  ],
  "metadata": {
    "colab": {
      "collapsed_sections": [
        "239rBgEr-qqZ",
        "rul9ZvnXnIGH",
        "JgfklOJDqLzN",
        "VD4jntLjnL21"
      ],
      "provenance": [],
      "toc_visible": true
    },
    "kernelspec": {
      "display_name": "Python 3",
      "name": "python3"
    },
    "language_info": {
      "codemirror_mode": {
        "name": "ipython",
        "version": 3
      },
      "file_extension": ".py",
      "mimetype": "text/x-python",
      "name": "python",
      "nbconvert_exporter": "python",
      "pygments_lexer": "ipython3",
      "version": "3.11.3"
    }
  },
  "nbformat": 4,
  "nbformat_minor": 0
}
