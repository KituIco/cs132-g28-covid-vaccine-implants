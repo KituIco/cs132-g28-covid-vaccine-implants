{
  "cells": [
    {
      "attachments": {},
      "cell_type": "markdown",
      "metadata": {
        "id": "F2-XzKnySqhi"
      },
      "source": [
        "# Preprocessing and Categorical Data Encoding\n",
        "\n",
        "Hello there! In this lesson, we'll learn one of the approaches to modeling in data science: statistical modeling.\n",
        "\n",
        "Here we will mostly use the Stats module in the [Scipy library](https://docs.scipy.org/doc/scipy/reference/stats.html) for performing correlations and statistical tests.\n",
        "\n",
        "Jump ahead to the [Modeling Data: Statistical Modeling](#statistical-modeling) section to get right into the lesson.\n",
        "\n",
        "We'll use the Titanic data as our main data set. "
      ]
    },
    {
      "attachments": {},
      "cell_type": "markdown",
      "metadata": {
        "id": "qa-EK2vPjcJH"
      },
      "source": [
        "### Loading the data"
      ]
    },
    {
      "cell_type": "code",
      "execution_count": 32,
      "metadata": {
        "id": "O_30jbLBUUvI"
      },
      "outputs": [
        {
          "data": {
            "text/html": [
              "<style type=\"text/css\">\n",
              "</style>\n",
              "<table id=\"T_91a27\">\n",
              "  <thead>\n",
              "    <tr>\n",
              "      <th class=\"index_name level0\" >0</th>\n",
              "      <th id=\"T_91a27_level0_col0\" class=\"col_heading level0 col0\" >ID</th>\n",
              "      <th id=\"T_91a27_level0_col1\" class=\"col_heading level0 col1\" >Timestamp</th>\n",
              "      <th id=\"T_91a27_level0_col2\" class=\"col_heading level0 col2\" >Tweet URL</th>\n",
              "      <th id=\"T_91a27_level0_col3\" class=\"col_heading level0 col3\" >Group</th>\n",
              "      <th id=\"T_91a27_level0_col4\" class=\"col_heading level0 col4\" >Topic</th>\n",
              "      <th id=\"T_91a27_level0_col5\" class=\"col_heading level0 col5\" >Keywords</th>\n",
              "      <th id=\"T_91a27_level0_col6\" class=\"col_heading level0 col6\" >Account handle</th>\n",
              "      <th id=\"T_91a27_level0_col7\" class=\"col_heading level0 col7\" >Account name</th>\n",
              "      <th id=\"T_91a27_level0_col8\" class=\"col_heading level0 col8\" >Account type</th>\n",
              "      <th id=\"T_91a27_level0_col9\" class=\"col_heading level0 col9\" >Tweet</th>\n",
              "      <th id=\"T_91a27_level0_col10\" class=\"col_heading level0 col10\" >Tweet Translated</th>\n",
              "      <th id=\"T_91a27_level0_col11\" class=\"col_heading level0 col11\" >Tweet Type</th>\n",
              "      <th id=\"T_91a27_level0_col12\" class=\"col_heading level0 col12\" >Date posted</th>\n",
              "      <th id=\"T_91a27_level0_col13\" class=\"col_heading level0 col13\" >Content type</th>\n",
              "      <th id=\"T_91a27_level0_col14\" class=\"col_heading level0 col14\" >Reasoning</th>\n",
              "      <th id=\"T_91a27_level0_col15\" class=\"col_heading level0 col15\" >Thread/Tweet Language</th>\n",
              "    </tr>\n",
              "  </thead>\n",
              "  <tbody>\n",
              "    <tr>\n",
              "      <th id=\"T_91a27_level0_row0\" class=\"row_heading level0 row0\" >1</th>\n",
              "      <td id=\"T_91a27_row0_col0\" class=\"data row0 col0\" >28-1</td>\n",
              "      <td id=\"T_91a27_row0_col1\" class=\"data row0 col1\" >27/02/2023 13:34:22</td>\n",
              "      <td id=\"T_91a27_row0_col2\" class=\"data row0 col2\" >https://twitter.com/ggnelhsa/status/1430131446719549442</td>\n",
              "      <td id=\"T_91a27_row0_col3\" class=\"data row0 col3\" >28</td>\n",
              "      <td id=\"T_91a27_row0_col4\" class=\"data row0 col4\" >COVID-19 vaccines contain microchip, magnetic objects, and other substances</td>\n",
              "      <td id=\"T_91a27_row0_col5\" class=\"data row0 col5\" >\"vaccine\" \"kutsara\"</td>\n",
              "      <td id=\"T_91a27_row0_col6\" class=\"data row0 col6\" >@ggnelhsa</td>\n",
              "      <td id=\"T_91a27_row0_col7\" class=\"data row0 col7\" >ᴀʙᴏ</td>\n",
              "      <td id=\"T_91a27_row0_col8\" class=\"data row0 col8\" >Anonymous</td>\n",
              "      <td id=\"T_91a27_row0_col9\" class=\"data row0 col9\" >Gagi astig ng vaccine ko astra yung akin eh dinikit ko yung kutsara sa pinasukan ng karayom aba dumikit HAHAHA! May magnet ata 😂\n",
              "</td>\n",
              "      <td id=\"T_91a27_row0_col10\" class=\"data row0 col10\" >My vaccine was so cool, mine was astra, I placed the spoon where the needle went in, but it stuck HAHAHA! It has a magnet 😂</td>\n",
              "      <td id=\"T_91a27_row0_col11\" class=\"data row0 col11\" >Text</td>\n",
              "      <td id=\"T_91a27_row0_col12\" class=\"data row0 col12\" >24/08/21 19:34</td>\n",
              "      <td id=\"T_91a27_row0_col13\" class=\"data row0 col13\" >Emotional</td>\n",
              "      <td id=\"T_91a27_row0_col14\" class=\"data row0 col14\" >Claims that vaccine makes a person magnetic. As checked by Vera Files, vaccines do not make people magnetic.\n",
              "\n",
              "https://verafiles.org/articles/vera-files-fact-check-covid-19-vaccines-do-not-have-magneto </td>\n",
              "      <td id=\"T_91a27_row0_col15\" class=\"data row0 col15\" >Filipino</td>\n",
              "    </tr>\n",
              "    <tr>\n",
              "      <th id=\"T_91a27_level0_row1\" class=\"row_heading level0 row1\" >2</th>\n",
              "      <td id=\"T_91a27_row1_col0\" class=\"data row1 col0\" >28-2</td>\n",
              "      <td id=\"T_91a27_row1_col1\" class=\"data row1 col1\" >27/02/2023 13:40:42</td>\n",
              "      <td id=\"T_91a27_row1_col2\" class=\"data row1 col2\" >https://twitter.com/Jheysi0208/status/1428597590916952067</td>\n",
              "      <td id=\"T_91a27_row1_col3\" class=\"data row1 col3\" >28</td>\n",
              "      <td id=\"T_91a27_row1_col4\" class=\"data row1 col4\" >COVID-19 vaccines contain microchip, magnetic objects, and other substances</td>\n",
              "      <td id=\"T_91a27_row1_col5\" class=\"data row1 col5\" >\"vaccine\" \"spoon\"</td>\n",
              "      <td id=\"T_91a27_row1_col6\" class=\"data row1 col6\" >@Jheysi0208</td>\n",
              "      <td id=\"T_91a27_row1_col7\" class=\"data row1 col7\" >Jheysi | 제이시 | ジェイシー</td>\n",
              "      <td id=\"T_91a27_row1_col8\" class=\"data row1 col8\" >Anonymous</td>\n",
              "      <td id=\"T_91a27_row1_col9\" class=\"data row1 col9\" >1st dose done!!\n",
              "{Image: picture of thei vaccine}\n",
              "\n",
              "Normal naman na sumakit yung arm na hindi mo maitaas ng husto noh? Hahahaha naprapraning akooo :)))\n",
              "\n",
              "Arm is ok now! Di na siya masakit! Pero tinry ko dikitan ng spoon and dumikit siyaaaaaa hhahahahahaha ommgg</td>\n",
              "      <td id=\"T_91a27_row1_col10\" class=\"data row1 col10\" >1st dose done!!\n",
              "{Image: picture of thei vaccine}\n",
              "\n",
              "It's normal for the arm to hurt when I raise it, right? Hahahaha I'm so paranoid :)))\n",
              "\n",
              "Arm is ok now! It doesn't hurt anymore! But when I try to place a spoon, it sticks hahahahahaha ommgg</td>\n",
              "      <td id=\"T_91a27_row1_col11\" class=\"data row1 col11\" >Text, Image</td>\n",
              "      <td id=\"T_91a27_row1_col12\" class=\"data row1 col12\" >20/08/21 13:59</td>\n",
              "      <td id=\"T_91a27_row1_col13\" class=\"data row1 col13\" >Emotional</td>\n",
              "      <td id=\"T_91a27_row1_col14\" class=\"data row1 col14\" >Claims that vaccine makes a person magnetic. As checked by Vera Files, vaccines do not make people magnetic.\n",
              "\n",
              "https://verafiles.org/articles/vera-files-fact-check-covid-19-vaccines-do-not-have-magneto </td>\n",
              "      <td id=\"T_91a27_row1_col15\" class=\"data row1 col15\" >Filipino</td>\n",
              "    </tr>\n",
              "  </tbody>\n",
              "</table>\n"
            ],
            "text/plain": [
              "<pandas.io.formats.style.Styler at 0x11fafa50c50>"
            ]
          },
          "execution_count": 32,
          "metadata": {},
          "output_type": "execute_result"
        }
      ],
      "source": [
        "# Load datasets\n",
        "import pandas as pd\n",
        "import gspread\n",
        "\n",
        "sa = gspread.service_account(filename=\"group-28-dataset-7233caedfe09.json\")\n",
        "sheet = sa.open(\"Dataset - Group 28\")\n",
        "work_sheet = sheet.worksheet(\"Clean Data\")\n",
        "\n",
        "df = pd.DataFrame(work_sheet.get_all_values())\n",
        "\n",
        "new_header = df.iloc[0] \n",
        "df = df[1:] \n",
        "df.columns = new_header \n",
        "\n",
        "df.head(2).style\n",
        "\n"
      ]
    },
    {
      "attachments": {},
      "cell_type": "markdown",
      "metadata": {
        "id": "0g8XuMC8-8k-"
      },
      "source": [
        "Let's now explore the data. There's no single right way of doing this. Every data has its own characteristics. But here are some of the standard steps we can do when exploring the data."
      ]
    },
    {
      "attachments": {},
      "cell_type": "markdown",
      "metadata": {
        "id": "Gwd7qbXv904-"
      },
      "source": [
        "### Checking for Missing Values"
      ]
    },
    {
      "attachments": {},
      "cell_type": "markdown",
      "metadata": {
        "id": "pPZxdPzo_rYP"
      },
      "source": [
        "First, let's check how the data is organized. \n",
        "\n",
        "Training set has 891 samples, while testing set contains 418 samples. But some columns have missing values, such as `Age`."
      ]
    },
    {
      "cell_type": "code",
      "execution_count": 33,
      "metadata": {
        "colab": {
          "base_uri": "https://localhost:8080/"
        },
        "id": "wcJuKgqnnBk7",
        "outputId": "fc0782e1-e730-463d-d9fa-2e806b39bd8d"
      },
      "outputs": [
        {
          "name": "stdout",
          "output_type": "stream",
          "text": [
            "Check Missing Values:\n"
          ]
        },
        {
          "data": {
            "text/plain": [
              "0\n",
              "ID                       0\n",
              "Timestamp                0\n",
              "Tweet URL                0\n",
              "Group                    0\n",
              "Topic                    0\n",
              "Keywords                 0\n",
              "Account handle           0\n",
              "Account name             0\n",
              "Account type             0\n",
              "Tweet                    0\n",
              "Tweet Translated         0\n",
              "Tweet Type               0\n",
              "Date posted              0\n",
              "Content type             0\n",
              "Reasoning                0\n",
              "Thread/Tweet Language    0\n",
              "dtype: int64"
            ]
          },
          "execution_count": 33,
          "metadata": {},
          "output_type": "execute_result"
        }
      ],
      "source": [
        "print(\"Check Missing Values:\")\n",
        "df_copy = df.copy(deep=True) \n",
        "df_copy.isnull().sum()"
      ]
    },
    {
      "cell_type": "code",
      "execution_count": 35,
      "metadata": {
        "colab": {
          "base_uri": "https://localhost:8080/"
        },
        "id": "_iamLkwGnX6Y",
        "outputId": "f83c5f12-f43e-40de-ce4b-bc26d8ca6791"
      },
      "outputs": [
        {
          "name": "stdout",
          "output_type": "stream",
          "text": [
            "Dataset summary:\n"
          ]
        },
        {
          "data": {
            "text/html": [
              "<style type=\"text/css\">\n",
              "</style>\n",
              "<table id=\"T_508f5\">\n",
              "  <thead>\n",
              "    <tr>\n",
              "      <th class=\"index_name level0\" >0</th>\n",
              "      <th id=\"T_508f5_level0_col0\" class=\"col_heading level0 col0\" >ID</th>\n",
              "      <th id=\"T_508f5_level0_col1\" class=\"col_heading level0 col1\" >Timestamp</th>\n",
              "      <th id=\"T_508f5_level0_col2\" class=\"col_heading level0 col2\" >Tweet URL</th>\n",
              "      <th id=\"T_508f5_level0_col3\" class=\"col_heading level0 col3\" >Group</th>\n",
              "      <th id=\"T_508f5_level0_col4\" class=\"col_heading level0 col4\" >Topic</th>\n",
              "      <th id=\"T_508f5_level0_col5\" class=\"col_heading level0 col5\" >Keywords</th>\n",
              "      <th id=\"T_508f5_level0_col6\" class=\"col_heading level0 col6\" >Account handle</th>\n",
              "      <th id=\"T_508f5_level0_col7\" class=\"col_heading level0 col7\" >Account name</th>\n",
              "      <th id=\"T_508f5_level0_col8\" class=\"col_heading level0 col8\" >Account type</th>\n",
              "      <th id=\"T_508f5_level0_col9\" class=\"col_heading level0 col9\" >Tweet</th>\n",
              "      <th id=\"T_508f5_level0_col10\" class=\"col_heading level0 col10\" >Tweet Translated</th>\n",
              "      <th id=\"T_508f5_level0_col11\" class=\"col_heading level0 col11\" >Tweet Type</th>\n",
              "      <th id=\"T_508f5_level0_col12\" class=\"col_heading level0 col12\" >Date posted</th>\n",
              "      <th id=\"T_508f5_level0_col13\" class=\"col_heading level0 col13\" >Content type</th>\n",
              "      <th id=\"T_508f5_level0_col14\" class=\"col_heading level0 col14\" >Reasoning</th>\n",
              "      <th id=\"T_508f5_level0_col15\" class=\"col_heading level0 col15\" >Thread/Tweet Language</th>\n",
              "    </tr>\n",
              "  </thead>\n",
              "  <tbody>\n",
              "    <tr>\n",
              "      <th id=\"T_508f5_level0_row0\" class=\"row_heading level0 row0\" >count</th>\n",
              "      <td id=\"T_508f5_row0_col0\" class=\"data row0 col0\" >151</td>\n",
              "      <td id=\"T_508f5_row0_col1\" class=\"data row0 col1\" >151</td>\n",
              "      <td id=\"T_508f5_row0_col2\" class=\"data row0 col2\" >151</td>\n",
              "      <td id=\"T_508f5_row0_col3\" class=\"data row0 col3\" >151</td>\n",
              "      <td id=\"T_508f5_row0_col4\" class=\"data row0 col4\" >151</td>\n",
              "      <td id=\"T_508f5_row0_col5\" class=\"data row0 col5\" >151</td>\n",
              "      <td id=\"T_508f5_row0_col6\" class=\"data row0 col6\" >151</td>\n",
              "      <td id=\"T_508f5_row0_col7\" class=\"data row0 col7\" >151</td>\n",
              "      <td id=\"T_508f5_row0_col8\" class=\"data row0 col8\" >151</td>\n",
              "      <td id=\"T_508f5_row0_col9\" class=\"data row0 col9\" >151</td>\n",
              "      <td id=\"T_508f5_row0_col10\" class=\"data row0 col10\" >151</td>\n",
              "      <td id=\"T_508f5_row0_col11\" class=\"data row0 col11\" >151</td>\n",
              "      <td id=\"T_508f5_row0_col12\" class=\"data row0 col12\" >151</td>\n",
              "      <td id=\"T_508f5_row0_col13\" class=\"data row0 col13\" >151</td>\n",
              "      <td id=\"T_508f5_row0_col14\" class=\"data row0 col14\" >151</td>\n",
              "      <td id=\"T_508f5_row0_col15\" class=\"data row0 col15\" >151</td>\n",
              "    </tr>\n",
              "    <tr>\n",
              "      <th id=\"T_508f5_level0_row1\" class=\"row_heading level0 row1\" >unique</th>\n",
              "      <td id=\"T_508f5_row1_col0\" class=\"data row1 col0\" >151</td>\n",
              "      <td id=\"T_508f5_row1_col1\" class=\"data row1 col1\" >132</td>\n",
              "      <td id=\"T_508f5_row1_col2\" class=\"data row1 col2\" >151</td>\n",
              "      <td id=\"T_508f5_row1_col3\" class=\"data row1 col3\" >1</td>\n",
              "      <td id=\"T_508f5_row1_col4\" class=\"data row1 col4\" >1</td>\n",
              "      <td id=\"T_508f5_row1_col5\" class=\"data row1 col5\" >21</td>\n",
              "      <td id=\"T_508f5_row1_col6\" class=\"data row1 col6\" >140</td>\n",
              "      <td id=\"T_508f5_row1_col7\" class=\"data row1 col7\" >138</td>\n",
              "      <td id=\"T_508f5_row1_col8\" class=\"data row1 col8\" >4</td>\n",
              "      <td id=\"T_508f5_row1_col9\" class=\"data row1 col9\" >151</td>\n",
              "      <td id=\"T_508f5_row1_col10\" class=\"data row1 col10\" >151</td>\n",
              "      <td id=\"T_508f5_row1_col11\" class=\"data row1 col11\" >10</td>\n",
              "      <td id=\"T_508f5_row1_col12\" class=\"data row1 col12\" >148</td>\n",
              "      <td id=\"T_508f5_row1_col13\" class=\"data row1 col13\" >4</td>\n",
              "      <td id=\"T_508f5_row1_col14\" class=\"data row1 col14\" >119</td>\n",
              "      <td id=\"T_508f5_row1_col15\" class=\"data row1 col15\" >3</td>\n",
              "    </tr>\n",
              "    <tr>\n",
              "      <th id=\"T_508f5_level0_row2\" class=\"row_heading level0 row2\" >top</th>\n",
              "      <td id=\"T_508f5_row2_col0\" class=\"data row2 col0\" >28-1</td>\n",
              "      <td id=\"T_508f5_row2_col1\" class=\"data row2 col1\" >1/03/2023 02:28:22</td>\n",
              "      <td id=\"T_508f5_row2_col2\" class=\"data row2 col2\" >https://twitter.com/ggnelhsa/status/1430131446719549442</td>\n",
              "      <td id=\"T_508f5_row2_col3\" class=\"data row2 col3\" >28</td>\n",
              "      <td id=\"T_508f5_row2_col4\" class=\"data row2 col4\" >COVID-19 vaccines contain microchip, magnetic objects, and other substances</td>\n",
              "      <td id=\"T_508f5_row2_col5\" class=\"data row2 col5\" >\"covid\" \"vaccine\" \"magnet\" \"implant\" \"kutsara\" \"spoon\" \"barya\" \"coin\" \"microchip\" \"metal\" \"track\" \"robot\"</td>\n",
              "      <td id=\"T_508f5_row2_col6\" class=\"data row2 col6\" >@ven_cuenca</td>\n",
              "      <td id=\"T_508f5_row2_col7\" class=\"data row2 col7\" >Ven cuenca</td>\n",
              "      <td id=\"T_508f5_row2_col8\" class=\"data row2 col8\" >Anonymous</td>\n",
              "      <td id=\"T_508f5_row2_col9\" class=\"data row2 col9\" >Gagi astig ng vaccine ko astra yung akin eh dinikit ko yung kutsara sa pinasukan ng karayom aba dumikit HAHAHA! May magnet ata 😂\n",
              "</td>\n",
              "      <td id=\"T_508f5_row2_col10\" class=\"data row2 col10\" >My vaccine was so cool, mine was astra, I placed the spoon where the needle went in, but it stuck HAHAHA! It has a magnet 😂</td>\n",
              "      <td id=\"T_508f5_row2_col11\" class=\"data row2 col11\" >Text, Reply</td>\n",
              "      <td id=\"T_508f5_row2_col12\" class=\"data row2 col12\" >08/12/20 19:14</td>\n",
              "      <td id=\"T_508f5_row2_col13\" class=\"data row2 col13\" >Emotional</td>\n",
              "      <td id=\"T_508f5_row2_col14\" class=\"data row2 col14\" >Claims that SinoVac only contains water. This is false as shown in the product information.\n",
              "\n",
              "https://www.moh.gov.sg/docs/librariesprovider5/vaccination-matter/annex-2---sinovac-vaccination-information-sheet-170621.pdf </td>\n",
              "      <td id=\"T_508f5_row2_col15\" class=\"data row2 col15\" >Foreign</td>\n",
              "    </tr>\n",
              "    <tr>\n",
              "      <th id=\"T_508f5_level0_row3\" class=\"row_heading level0 row3\" >freq</th>\n",
              "      <td id=\"T_508f5_row3_col0\" class=\"data row3 col0\" >1</td>\n",
              "      <td id=\"T_508f5_row3_col1\" class=\"data row3 col1\" >7</td>\n",
              "      <td id=\"T_508f5_row3_col2\" class=\"data row3 col2\" >1</td>\n",
              "      <td id=\"T_508f5_row3_col3\" class=\"data row3 col3\" >151</td>\n",
              "      <td id=\"T_508f5_row3_col4\" class=\"data row3 col4\" >151</td>\n",
              "      <td id=\"T_508f5_row3_col5\" class=\"data row3 col5\" >41</td>\n",
              "      <td id=\"T_508f5_row3_col6\" class=\"data row3 col6\" >4</td>\n",
              "      <td id=\"T_508f5_row3_col7\" class=\"data row3 col7\" >4</td>\n",
              "      <td id=\"T_508f5_row3_col8\" class=\"data row3 col8\" >110</td>\n",
              "      <td id=\"T_508f5_row3_col9\" class=\"data row3 col9\" >1</td>\n",
              "      <td id=\"T_508f5_row3_col10\" class=\"data row3 col10\" >1</td>\n",
              "      <td id=\"T_508f5_row3_col11\" class=\"data row3 col11\" >67</td>\n",
              "      <td id=\"T_508f5_row3_col12\" class=\"data row3 col12\" >2</td>\n",
              "      <td id=\"T_508f5_row3_col13\" class=\"data row3 col13\" >82</td>\n",
              "      <td id=\"T_508f5_row3_col14\" class=\"data row3 col14\" >13</td>\n",
              "      <td id=\"T_508f5_row3_col15\" class=\"data row3 col15\" >78</td>\n",
              "    </tr>\n",
              "  </tbody>\n",
              "</table>\n"
            ],
            "text/plain": [
              "<pandas.io.formats.style.Styler at 0x11fafa73650>"
            ]
          },
          "execution_count": 35,
          "metadata": {},
          "output_type": "execute_result"
        }
      ],
      "source": [
        "print(\"Dataset summary:\")\n",
        "df.describe().style"
      ]
    },
    {
      "attachments": {},
      "cell_type": "markdown",
      "metadata": {
        "id": "UOlD-T6UpoVs"
      },
      "source": [
        "> *What type/s of data are present?*\n",
        "\n",
        "* Categorical (Qualitative): `PassengerId`, `Survived`, `Name`, `Sex`, `Ticket`, `Cabin`, `Embarked`, `Pclass`\n",
        "* Numerical (Quantitative): `Age`, `SibSp`, `Parch`, `Fare`"
      ]
    },
    {
      "attachments": {},
      "cell_type": "markdown",
      "metadata": {
        "id": "4ZmCav9n-h21"
      },
      "source": [
        "### Ensuring Formatting Cosistency"
      ]
    },
    {
      "attachments": {},
      "cell_type": "markdown",
      "metadata": {},
      "source": [
        "Another great way to explore the data is to visualize the features. \n",
        "\n",
        "Let's visualize the numerical features of both the training and testing sets."
      ]
    },
    {
      "attachments": {},
      "cell_type": "markdown",
      "metadata": {},
      "source": [
        "### Visualizing data relationships"
      ]
    },
    {
      "attachments": {},
      "cell_type": "markdown",
      "metadata": {
        "id": "a3PdRkj4_ypd"
      },
      "source": [
        "Another great way to explore the data is to visualize the features. \n",
        "\n",
        "Let's visualize the numerical features of both the training and testing sets."
      ]
    }
  ],
  "metadata": {
    "colab": {
      "collapsed_sections": [
        "239rBgEr-qqZ",
        "rul9ZvnXnIGH",
        "JgfklOJDqLzN",
        "VD4jntLjnL21"
      ],
      "provenance": [],
      "toc_visible": true
    },
    "kernelspec": {
      "display_name": "Python 3",
      "name": "python3"
    },
    "language_info": {
      "codemirror_mode": {
        "name": "ipython",
        "version": 3
      },
      "file_extension": ".py",
      "mimetype": "text/x-python",
      "name": "python",
      "nbconvert_exporter": "python",
      "pygments_lexer": "ipython3",
      "version": "3.11.3"
    }
  },
  "nbformat": 4,
  "nbformat_minor": 0
}
