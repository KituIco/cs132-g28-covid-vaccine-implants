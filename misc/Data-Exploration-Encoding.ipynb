{
  "cells": [
    {
      "attachments": {},
      "cell_type": "markdown",
      "metadata": {
        "id": "F2-XzKnySqhi"
      },
      "source": [
        "# Preprocessing and Data Encoding\n",
        "\n",
        "In this document, we preprocess the dataset to make sure we only have clean data. \n",
        "\n",
        "Towards the end, we are going to perform categorical data encoding."
      ]
    },
    {
      "attachments": {},
      "cell_type": "markdown",
      "metadata": {},
      "source": [
        "## 1 Preprocessing for Clean Data"
      ]
    },
    {
      "attachments": {},
      "cell_type": "markdown",
      "metadata": {
        "id": "qa-EK2vPjcJH"
      },
      "source": [
        "### 1.1 Loading the data"
      ]
    },
    {
      "attachments": {},
      "cell_type": "markdown",
      "metadata": {
        "id": "0g8XuMC8-8k-"
      },
      "source": [
        "First, we load the data from our [dataset](https://docs.google.com/spreadsheets/d/1jzNEJWQMvfK6aJeG28JSXecrLZfjeFOCYp-gtW0Q7LQ/edit#gid=1456408654) which we have made available online. \n",
        "\n",
        "We display the last three records as shown in the output to ensure that we have obtained all data properly."
      ]
    },
    {
      "cell_type": "code",
      "execution_count": 251,
      "metadata": {
        "id": "O_30jbLBUUvI"
      },
      "outputs": [
        {
          "data": {
            "text/html": [
              "<div>\n",
              "<style scoped>\n",
              "    .dataframe tbody tr th:only-of-type {\n",
              "        vertical-align: middle;\n",
              "    }\n",
              "\n",
              "    .dataframe tbody tr th {\n",
              "        vertical-align: top;\n",
              "    }\n",
              "\n",
              "    .dataframe thead th {\n",
              "        text-align: right;\n",
              "    }\n",
              "</style>\n",
              "<table border=\"1\" class=\"dataframe\">\n",
              "  <thead>\n",
              "    <tr style=\"text-align: right;\">\n",
              "      <th></th>\n",
              "      <th>ID</th>\n",
              "      <th>Timestamp</th>\n",
              "      <th>Tweet URL</th>\n",
              "      <th>Group</th>\n",
              "      <th>Collector</th>\n",
              "      <th>Category</th>\n",
              "      <th>Topic</th>\n",
              "      <th>Keywords</th>\n",
              "      <th>Account handle</th>\n",
              "      <th>Account name</th>\n",
              "      <th>...</th>\n",
              "      <th>Quote Tweets</th>\n",
              "      <th>Views</th>\n",
              "      <th>Rating</th>\n",
              "      <th>Reasoning</th>\n",
              "      <th>Remarks</th>\n",
              "      <th>Thread/Tweet Language</th>\n",
              "      <th>Add columns here</th>\n",
              "      <th>Add columns here</th>\n",
              "      <th>Reviewer</th>\n",
              "      <th>Review</th>\n",
              "    </tr>\n",
              "  </thead>\n",
              "  <tbody>\n",
              "    <tr>\n",
              "      <th>149</th>\n",
              "      <td>28-149</td>\n",
              "      <td>18/04/2023 23:47:41</td>\n",
              "      <td>https://twitter.com/fenum9/status/137914056758...</td>\n",
              "      <td>28</td>\n",
              "      <td>Pardiñas, Miguel</td>\n",
              "      <td>HLTH</td>\n",
              "      <td>COVID-19 vaccines contain microchip, magnetic ...</td>\n",
              "      <td>\"covid\" \"vaccine\" \"metal\"</td>\n",
              "      <td>@fenum9</td>\n",
              "      <td>h♤yd$n 🧙‍♂️ 𓅃</td>\n",
              "      <td>...</td>\n",
              "      <td>0</td>\n",
              "      <td>NaN</td>\n",
              "      <td>NaN</td>\n",
              "      <td>Tells that nurse on duty during vaccine appoin...</td>\n",
              "      <td>No location</td>\n",
              "      <td>Foreign</td>\n",
              "      <td>NaN</td>\n",
              "      <td>NaN</td>\n",
              "      <td>NaN</td>\n",
              "      <td>NaN</td>\n",
              "    </tr>\n",
              "    <tr>\n",
              "      <th>150</th>\n",
              "      <td>28-150</td>\n",
              "      <td>18/04/2023 23:54:57</td>\n",
              "      <td>https://twitter.com/Wengsterrr_/status/1371652...</td>\n",
              "      <td>28</td>\n",
              "      <td>Pardiñas, Miguel</td>\n",
              "      <td>HLTH</td>\n",
              "      <td>COVID-19 vaccines contain microchip, magnetic ...</td>\n",
              "      <td>\"bakuna\" \"tubig\"</td>\n",
              "      <td>@Wengsterrr_</td>\n",
              "      <td>𝕃𝕦𝕒𝕟𝕟 𝕃𝕚 👅</td>\n",
              "      <td>...</td>\n",
              "      <td>0</td>\n",
              "      <td>NaN</td>\n",
              "      <td>NaN</td>\n",
              "      <td>Complains why cases went up, and points that p...</td>\n",
              "      <td>Location might be fake</td>\n",
              "      <td>Filipino</td>\n",
              "      <td>NaN</td>\n",
              "      <td>NaN</td>\n",
              "      <td>NaN</td>\n",
              "      <td>NaN</td>\n",
              "    </tr>\n",
              "    <tr>\n",
              "      <th>151</th>\n",
              "      <td>28-151</td>\n",
              "      <td>18/04/2023 23:59:24</td>\n",
              "      <td>https://twitter.com/AdrianSBanal/status/141888...</td>\n",
              "      <td>28</td>\n",
              "      <td>Pardiñas, Miguel</td>\n",
              "      <td>HLTH</td>\n",
              "      <td>COVID-19 vaccines contain microchip, magnetic ...</td>\n",
              "      <td>\"bakuna\" \"tubig\"</td>\n",
              "      <td>@AdrianSBanal</td>\n",
              "      <td>Nabs</td>\n",
              "      <td>...</td>\n",
              "      <td>0</td>\n",
              "      <td>NaN</td>\n",
              "      <td>NaN</td>\n",
              "      <td>Complains that vaccine might not be working, a...</td>\n",
              "      <td>NaN</td>\n",
              "      <td>Filipino</td>\n",
              "      <td>NaN</td>\n",
              "      <td>NaN</td>\n",
              "      <td>NaN</td>\n",
              "      <td>NaN</td>\n",
              "    </tr>\n",
              "  </tbody>\n",
              "</table>\n",
              "<p>3 rows × 35 columns</p>\n",
              "</div>"
            ],
            "text/plain": [
              "0        ID            Timestamp   \n",
              "149  28-149  18/04/2023 23:47:41  \\\n",
              "150  28-150  18/04/2023 23:54:57   \n",
              "151  28-151  18/04/2023 23:59:24   \n",
              "\n",
              "0                                            Tweet URL Group   \n",
              "149  https://twitter.com/fenum9/status/137914056758...    28  \\\n",
              "150  https://twitter.com/Wengsterrr_/status/1371652...    28   \n",
              "151  https://twitter.com/AdrianSBanal/status/141888...    28   \n",
              "\n",
              "0           Collector Category   \n",
              "149  Pardiñas, Miguel     HLTH  \\\n",
              "150  Pardiñas, Miguel     HLTH   \n",
              "151  Pardiñas, Miguel     HLTH   \n",
              "\n",
              "0                                                Topic   \n",
              "149  COVID-19 vaccines contain microchip, magnetic ...  \\\n",
              "150  COVID-19 vaccines contain microchip, magnetic ...   \n",
              "151  COVID-19 vaccines contain microchip, magnetic ...   \n",
              "\n",
              "0                     Keywords Account handle   Account name  ...   \n",
              "149  \"covid\" \"vaccine\" \"metal\"        @fenum9  h♤yd$n 🧙‍♂️ 𓅃  ...  \\\n",
              "150           \"bakuna\" \"tubig\"   @Wengsterrr_     𝕃𝕦𝕒𝕟𝕟 𝕃𝕚 👅  ...   \n",
              "151           \"bakuna\" \"tubig\"  @AdrianSBanal           Nabs  ...   \n",
              "\n",
              "0   Quote Tweets Views Rating   \n",
              "149            0   NaN    NaN  \\\n",
              "150            0   NaN    NaN   \n",
              "151            0   NaN    NaN   \n",
              "\n",
              "0                                            Reasoning   \n",
              "149  Tells that nurse on duty during vaccine appoin...  \\\n",
              "150  Complains why cases went up, and points that p...   \n",
              "151  Complains that vaccine might not be working, a...   \n",
              "\n",
              "0                   Remarks Thread/Tweet Language Add columns here   \n",
              "149             No location               Foreign              NaN  \\\n",
              "150  Location might be fake              Filipino              NaN   \n",
              "151                     NaN              Filipino              NaN   \n",
              "\n",
              "0   Add columns here Reviewer Review  \n",
              "149              NaN      NaN    NaN  \n",
              "150              NaN      NaN    NaN  \n",
              "151              NaN      NaN    NaN  \n",
              "\n",
              "[3 rows x 35 columns]"
            ]
          },
          "execution_count": 251,
          "metadata": {},
          "output_type": "execute_result"
        }
      ],
      "source": [
        "# Load datasets\n",
        "import pandas as pd\n",
        "import gspread\n",
        "import numpy as np\n",
        "\n",
        "sa = gspread.service_account(filename=\"group-28-dataset-7233caedfe09.json\")\n",
        "sheet = sa.open(\"Dataset - Group 28\")\n",
        "work_sheet = sheet.worksheet(\"Fixed Data\")\n",
        "\n",
        "df = pd.DataFrame(work_sheet.get_all_values())\n",
        "\n",
        "new_header = df.iloc[0] \n",
        "df = df[1:152] \n",
        "df.columns = new_header \n",
        "df = df.replace(r'^\\s*$', np.nan, regex=True)\n",
        "\n",
        "df.tail(3)\n"
      ]
    },
    {
      "attachments": {},
      "cell_type": "markdown",
      "metadata": {},
      "source": [
        "Shown here are all the current features of the dataset. \n",
        "\n",
        "This may include features with missing values."
      ]
    },
    {
      "cell_type": "code",
      "execution_count": 252,
      "metadata": {},
      "outputs": [
        {
          "name": "stdout",
          "output_type": "stream",
          "text": [
            "List all current features:\n"
          ]
        },
        {
          "data": {
            "text/plain": [
              "Index(['ID', 'Timestamp', 'Tweet URL', 'Group', 'Collector', 'Category',\n",
              "       'Topic', 'Keywords', 'Account handle', 'Account name', 'Account bio',\n",
              "       'Account type', 'Joined', 'Following', 'Followers', 'Location', 'Tweet',\n",
              "       'Tweet Translated', 'Tweet Type', 'Date posted', 'Screenshot',\n",
              "       'Content type', 'Likes', 'Replies', 'Retweets', 'Quote Tweets', 'Views',\n",
              "       'Rating', 'Reasoning', 'Remarks', 'Thread/Tweet Language',\n",
              "       'Add columns here', 'Add columns here', 'Reviewer', 'Review'],\n",
              "      dtype='object', name=0)"
            ]
          },
          "execution_count": 252,
          "metadata": {},
          "output_type": "execute_result"
        }
      ],
      "source": [
        "print(\"List all current features:\")\n",
        "df.columns"
      ]
    },
    {
      "cell_type": "code",
      "execution_count": 253,
      "metadata": {},
      "outputs": [
        {
          "name": "stdout",
          "output_type": "stream",
          "text": [
            "Display the number of records and features:\n"
          ]
        },
        {
          "data": {
            "text/plain": [
              "(151, 35)"
            ]
          },
          "execution_count": 253,
          "metadata": {},
          "output_type": "execute_result"
        }
      ],
      "source": [
        "print(\"Display the number of records and features:\")\n",
        "df.shape"
      ]
    },
    {
      "attachments": {},
      "cell_type": "markdown",
      "metadata": {
        "id": "Gwd7qbXv904-"
      },
      "source": [
        "### 1.2 Checking for Missing Values"
      ]
    },
    {
      "attachments": {},
      "cell_type": "markdown",
      "metadata": {
        "id": "pPZxdPzo_rYP"
      },
      "source": [
        "Now, we check which features has no missing values.\n",
        "\n",
        "From, here we can see that there are missing value on Account Bio, Location, Screenshot, etc."
      ]
    },
    {
      "cell_type": "code",
      "execution_count": 254,
      "metadata": {
        "colab": {
          "base_uri": "https://localhost:8080/"
        },
        "id": "wcJuKgqnnBk7",
        "outputId": "fc0782e1-e730-463d-d9fa-2e806b39bd8d"
      },
      "outputs": [
        {
          "name": "stdout",
          "output_type": "stream",
          "text": [
            "Check for missing values:\n"
          ]
        },
        {
          "data": {
            "text/plain": [
              "0\n",
              "ID                         0\n",
              "Timestamp                  0\n",
              "Tweet URL                  0\n",
              "Group                      0\n",
              "Collector                  0\n",
              "Category                   0\n",
              "Topic                      0\n",
              "Keywords                   0\n",
              "Account handle             0\n",
              "Account name               0\n",
              "Account bio               25\n",
              "Account type               0\n",
              "Joined                     0\n",
              "Following                  0\n",
              "Followers                  0\n",
              "Location                  52\n",
              "Tweet                      0\n",
              "Tweet Translated           0\n",
              "Tweet Type                 0\n",
              "Date posted                0\n",
              "Screenshot               101\n",
              "Content type               0\n",
              "Likes                      0\n",
              "Replies                    0\n",
              "Retweets                   0\n",
              "Quote Tweets              49\n",
              "Views                    151\n",
              "Rating                   150\n",
              "Reasoning                  0\n",
              "Remarks                   32\n",
              "Thread/Tweet Language      0\n",
              "Add columns here         151\n",
              "Add columns here         151\n",
              "Reviewer                 151\n",
              "Review                   151\n",
              "dtype: int64"
            ]
          },
          "execution_count": 254,
          "metadata": {},
          "output_type": "execute_result"
        }
      ],
      "source": [
        "print(\"Check for missing values:\")\n",
        "df.isnull().sum()"
      ]
    },
    {
      "attachments": {},
      "cell_type": "markdown",
      "metadata": {},
      "source": [
        "Upon checking, the collectors deemed that the only necessary features for this project are as follows:\n",
        "\n",
        "> `['ID', 'Timestamp', 'Tweet URL', 'Group', 'Keywords',\n",
        "    'Account handle', 'Account name', 'Account bio', 'Account type', \n",
        "    'Tweet', 'Tweet Translated', 'Tweet Type', 'Date posted',\n",
        "    'Content type', 'Reasoning', 'Thread/Tweet Language',]`\n",
        "\n",
        "From the previous output, we can verify that all of these features have no missing value."
      ]
    },
    {
      "cell_type": "code",
      "execution_count": 255,
      "metadata": {
        "colab": {
          "base_uri": "https://localhost:8080/"
        },
        "id": "_iamLkwGnX6Y",
        "outputId": "f83c5f12-f43e-40de-ce4b-bc26d8ca6791"
      },
      "outputs": [
        {
          "name": "stdout",
          "output_type": "stream",
          "text": [
            "Dataset summary:\n"
          ]
        },
        {
          "data": {
            "text/html": [
              "<div>\n",
              "<style scoped>\n",
              "    .dataframe tbody tr th:only-of-type {\n",
              "        vertical-align: middle;\n",
              "    }\n",
              "\n",
              "    .dataframe tbody tr th {\n",
              "        vertical-align: top;\n",
              "    }\n",
              "\n",
              "    .dataframe thead th {\n",
              "        text-align: right;\n",
              "    }\n",
              "</style>\n",
              "<table border=\"1\" class=\"dataframe\">\n",
              "  <thead>\n",
              "    <tr style=\"text-align: right;\">\n",
              "      <th></th>\n",
              "      <th>ID</th>\n",
              "      <th>Timestamp</th>\n",
              "      <th>Tweet URL</th>\n",
              "      <th>Group</th>\n",
              "      <th>Keywords</th>\n",
              "      <th>Account handle</th>\n",
              "      <th>Account name</th>\n",
              "      <th>Account bio</th>\n",
              "      <th>Account type</th>\n",
              "      <th>Tweet</th>\n",
              "      <th>Tweet Translated</th>\n",
              "      <th>Tweet Type</th>\n",
              "      <th>Date posted</th>\n",
              "      <th>Content type</th>\n",
              "      <th>Reasoning</th>\n",
              "      <th>Thread/Tweet Language</th>\n",
              "    </tr>\n",
              "  </thead>\n",
              "  <tbody>\n",
              "    <tr>\n",
              "      <th>148</th>\n",
              "      <td>28-148</td>\n",
              "      <td>18/04/2023 23:43:56</td>\n",
              "      <td>https://twitter.com/HatzPurp/status/1385080074...</td>\n",
              "      <td>28</td>\n",
              "      <td>\"covid\" \"vaccine\" \"metal\"</td>\n",
              "      <td>@HatzPurp</td>\n",
              "      <td>Hatz Purp</td>\n",
              "      <td>Versatile</td>\n",
              "      <td>Anonymous</td>\n",
              "      <td>Covid-19 is a man-made Virus released on the p...</td>\n",
              "      <td>Covid-19 is a man-made Virus released on the p...</td>\n",
              "      <td>Text, Reply</td>\n",
              "      <td>22/04/21 11:56</td>\n",
              "      <td>Rational</td>\n",
              "      <td>Says that covid is man-made to make the public...</td>\n",
              "      <td>Foreign</td>\n",
              "    </tr>\n",
              "    <tr>\n",
              "      <th>149</th>\n",
              "      <td>28-149</td>\n",
              "      <td>18/04/2023 23:47:41</td>\n",
              "      <td>https://twitter.com/fenum9/status/137914056758...</td>\n",
              "      <td>28</td>\n",
              "      <td>\"covid\" \"vaccine\" \"metal\"</td>\n",
              "      <td>@fenum9</td>\n",
              "      <td>h♤yd$n 🧙‍♂️ 𓅃</td>\n",
              "      <td>tall glass of yogurt</td>\n",
              "      <td>Anonymous</td>\n",
              "      <td>Was just waiting to get COVID vaccine and the ...</td>\n",
              "      <td>Was just waiting to get COVID vaccine and the ...</td>\n",
              "      <td>Text</td>\n",
              "      <td>6/4/21 2:35</td>\n",
              "      <td>Emotional</td>\n",
              "      <td>Tells that nurse on duty during vaccine appoin...</td>\n",
              "      <td>Foreign</td>\n",
              "    </tr>\n",
              "    <tr>\n",
              "      <th>150</th>\n",
              "      <td>28-150</td>\n",
              "      <td>18/04/2023 23:54:57</td>\n",
              "      <td>https://twitter.com/Wengsterrr_/status/1371652...</td>\n",
              "      <td>28</td>\n",
              "      <td>\"bakuna\" \"tubig\"</td>\n",
              "      <td>@Wengsterrr_</td>\n",
              "      <td>𝕃𝕦𝕒𝕟𝕟 𝕃𝕚 👅</td>\n",
              "      <td>— ɪ’ᴍ ᴀ ᴘᴀʀᴀᴅᴏx.</td>\n",
              "      <td>Anonymous</td>\n",
              "      <td>Kung kelan nagkaroon ng bakuna kontra COVID, t...</td>\n",
              "      <td>When there was a vaccine against COVID, positi...</td>\n",
              "      <td>Text</td>\n",
              "      <td>16/03/21 10:41</td>\n",
              "      <td>Emotional</td>\n",
              "      <td>Complains why cases went up, and points that p...</td>\n",
              "      <td>Filipino</td>\n",
              "    </tr>\n",
              "    <tr>\n",
              "      <th>151</th>\n",
              "      <td>28-151</td>\n",
              "      <td>18/04/2023 23:59:24</td>\n",
              "      <td>https://twitter.com/AdrianSBanal/status/141888...</td>\n",
              "      <td>28</td>\n",
              "      <td>\"bakuna\" \"tubig\"</td>\n",
              "      <td>@AdrianSBanal</td>\n",
              "      <td>Nabs</td>\n",
              "      <td>Malas lang</td>\n",
              "      <td>Anonymous</td>\n",
              "      <td>Taenang bakuna walang epekto tubig baha lang a...</td>\n",
              "      <td>Taenang vaccine has no effect, it's just flood...</td>\n",
              "      <td>Text</td>\n",
              "      <td>24/07/21 19:01</td>\n",
              "      <td>Emotional</td>\n",
              "      <td>Complains that vaccine might not be working, a...</td>\n",
              "      <td>Filipino</td>\n",
              "    </tr>\n",
              "  </tbody>\n",
              "</table>\n",
              "</div>"
            ],
            "text/plain": [
              "0        ID            Timestamp   \n",
              "148  28-148  18/04/2023 23:43:56  \\\n",
              "149  28-149  18/04/2023 23:47:41   \n",
              "150  28-150  18/04/2023 23:54:57   \n",
              "151  28-151  18/04/2023 23:59:24   \n",
              "\n",
              "0                                            Tweet URL Group   \n",
              "148  https://twitter.com/HatzPurp/status/1385080074...    28  \\\n",
              "149  https://twitter.com/fenum9/status/137914056758...    28   \n",
              "150  https://twitter.com/Wengsterrr_/status/1371652...    28   \n",
              "151  https://twitter.com/AdrianSBanal/status/141888...    28   \n",
              "\n",
              "0                     Keywords Account handle   Account name   \n",
              "148  \"covid\" \"vaccine\" \"metal\"      @HatzPurp      Hatz Purp  \\\n",
              "149  \"covid\" \"vaccine\" \"metal\"        @fenum9  h♤yd$n 🧙‍♂️ 𓅃   \n",
              "150           \"bakuna\" \"tubig\"   @Wengsterrr_     𝕃𝕦𝕒𝕟𝕟 𝕃𝕚 👅   \n",
              "151           \"bakuna\" \"tubig\"  @AdrianSBanal           Nabs   \n",
              "\n",
              "0             Account bio Account type   \n",
              "148             Versatile    Anonymous  \\\n",
              "149  tall glass of yogurt    Anonymous   \n",
              "150      — ɪ’ᴍ ᴀ ᴘᴀʀᴀᴅᴏx.    Anonymous   \n",
              "151            Malas lang    Anonymous   \n",
              "\n",
              "0                                                Tweet   \n",
              "148  Covid-19 is a man-made Virus released on the p...  \\\n",
              "149  Was just waiting to get COVID vaccine and the ...   \n",
              "150  Kung kelan nagkaroon ng bakuna kontra COVID, t...   \n",
              "151  Taenang bakuna walang epekto tubig baha lang a...   \n",
              "\n",
              "0                                     Tweet Translated   Tweet Type   \n",
              "148  Covid-19 is a man-made Virus released on the p...  Text, Reply  \\\n",
              "149  Was just waiting to get COVID vaccine and the ...         Text   \n",
              "150  When there was a vaccine against COVID, positi...         Text   \n",
              "151  Taenang vaccine has no effect, it's just flood...         Text   \n",
              "\n",
              "0       Date posted Content type   \n",
              "148  22/04/21 11:56     Rational  \\\n",
              "149     6/4/21 2:35    Emotional   \n",
              "150  16/03/21 10:41    Emotional   \n",
              "151  24/07/21 19:01    Emotional   \n",
              "\n",
              "0                                            Reasoning Thread/Tweet Language  \n",
              "148  Says that covid is man-made to make the public...               Foreign  \n",
              "149  Tells that nurse on duty during vaccine appoin...               Foreign  \n",
              "150  Complains why cases went up, and points that p...              Filipino  \n",
              "151  Complains that vaccine might not be working, a...              Filipino  "
            ]
          },
          "execution_count": 255,
          "metadata": {},
          "output_type": "execute_result"
        }
      ],
      "source": [
        "print(\"Dataset summary:\")\n",
        "df_clean = df[['ID', 'Timestamp', 'Tweet URL', 'Group', 'Keywords', \n",
        "         'Account handle', 'Account name', 'Account bio', 'Account type', \n",
        "         'Tweet', 'Tweet Translated', 'Tweet Type', 'Date posted',\n",
        "         'Content type', 'Reasoning', 'Thread/Tweet Language',]]\n",
        "df_clean.tail(4)"
      ]
    },
    {
      "attachments": {},
      "cell_type": "markdown",
      "metadata": {
        "id": "UOlD-T6UpoVs"
      },
      "source": [
        "The table shows a simple summary of our clean dataset. Some notable observations are as follows: \n",
        "- ID, Tweet URL, Tweet, and Tweet Translated have unique values.\n",
        "- 82 out of 151 tweets are of Emotional content type.\n",
        "- There are 78 Foreign Tweets. This also implies that the remaining 73 tweets are Filipino Tweets.\n",
        "- Ven Cuenca has four tweets on this dataset."
      ]
    },
    {
      "attachments": {},
      "cell_type": "markdown",
      "metadata": {
        "id": "4ZmCav9n-h21"
      },
      "source": [
        "### 1.3 Ensuring Formatting Consistency"
      ]
    },
    {
      "attachments": {},
      "cell_type": "markdown",
      "metadata": {},
      "source": [
        "For this subsection, we will check formatting consistency of some features.\n",
        "\n",
        "For timestamp, we ensured that the data type is datetime. By default, the format of datetime in Pandas is YYYY-MM-DD HH:MM:SS."
      ]
    },
    {
      "cell_type": "code",
      "execution_count": 256,
      "metadata": {},
      "outputs": [
        {
          "data": {
            "text/plain": [
              "1     2023-02-27 13:34:22\n",
              "2     2023-02-27 13:40:42\n",
              "3     2023-03-03 03:23:13\n",
              "4     2023-03-03 03:31:35\n",
              "5     2023-03-03 03:43:09\n",
              "              ...        \n",
              "147   2023-04-18 23:41:34\n",
              "148   2023-04-18 23:43:56\n",
              "149   2023-04-18 23:47:41\n",
              "150   2023-04-18 23:54:57\n",
              "151   2023-04-18 23:59:24\n",
              "Name: Timestamp, Length: 151, dtype: datetime64[ns]"
            ]
          },
          "execution_count": 256,
          "metadata": {},
          "output_type": "execute_result"
        }
      ],
      "source": [
        "df_clean.loc[0:151, \"Timestamp\"] = pd.to_datetime(df_clean[\"Timestamp\"], format='%d/%m/%Y %H:%M:%S').copy()\n",
        "df_clean[\"Timestamp\"].apply(pd.to_datetime)"
      ]
    },
    {
      "attachments": {},
      "cell_type": "markdown",
      "metadata": {},
      "source": [
        "For date posted, we ensured that the data type is datetime. By default, the format of datetime in Pandas is YYYY-MM-DD HH:MM:SS."
      ]
    },
    {
      "cell_type": "code",
      "execution_count": 257,
      "metadata": {},
      "outputs": [
        {
          "data": {
            "text/plain": [
              "1     2021-08-24 19:34:00\n",
              "2     2021-08-20 13:59:00\n",
              "3     2021-08-14 21:35:00\n",
              "4     2021-08-09 20:12:00\n",
              "5     2021-08-04 15:54:00\n",
              "              ...        \n",
              "147   2021-03-02 19:07:00\n",
              "148   2021-04-22 11:56:00\n",
              "149   2021-04-06 02:35:00\n",
              "150   2021-03-16 10:41:00\n",
              "151   2021-07-24 19:01:00\n",
              "Name: Date posted, Length: 151, dtype: datetime64[ns]"
            ]
          },
          "execution_count": 257,
          "metadata": {},
          "output_type": "execute_result"
        }
      ],
      "source": [
        "df_clean.loc[0:151, \"Date posted\"] = pd.to_datetime(df_clean[\"Date posted\"], format='%d/%m/%y %H:%M').copy()\n",
        "df_clean[\"Date posted\"].apply(pd.to_datetime)"
      ]
    },
    {
      "attachments": {},
      "cell_type": "markdown",
      "metadata": {},
      "source": [
        "For account type, we ensured that the values can only be Anonymous, Identified, or Media. \n",
        "\n",
        "However, it can be noticed that the dataset has no entry whose account type is Nedia."
      ]
    },
    {
      "cell_type": "code",
      "execution_count": 258,
      "metadata": {},
      "outputs": [
        {
          "data": {
            "text/plain": [
              "array(['Anonymous', 'Identified'], dtype=object)"
            ]
          },
          "execution_count": 258,
          "metadata": {},
          "output_type": "execute_result"
        }
      ],
      "source": [
        "df_account = df_clean['Account type']\n",
        "df_account.unique()"
      ]
    },
    {
      "attachments": {},
      "cell_type": "markdown",
      "metadata": {},
      "source": [
        "For content type, we ensured that the values can only be Emotional, Rational, or Transactional. "
      ]
    },
    {
      "cell_type": "code",
      "execution_count": 259,
      "metadata": {},
      "outputs": [
        {
          "data": {
            "text/plain": [
              "array(['Emotional', 'Rational', 'Transactional'], dtype=object)"
            ]
          },
          "execution_count": 259,
          "metadata": {},
          "output_type": "execute_result"
        }
      ],
      "source": [
        "df_content = df_clean['Content type']\n",
        "df_content.unique()"
      ]
    },
    {
      "attachments": {},
      "cell_type": "markdown",
      "metadata": {},
      "source": [
        "For thread/tweet language, we ensured that the values can only be Filipino or Foreign. "
      ]
    },
    {
      "cell_type": "code",
      "execution_count": 260,
      "metadata": {},
      "outputs": [
        {
          "data": {
            "text/plain": [
              "array(['Filipino', 'Foreign'], dtype=object)"
            ]
          },
          "execution_count": 260,
          "metadata": {},
          "output_type": "execute_result"
        }
      ],
      "source": [
        "df_language = df_clean['Thread/Tweet Language']\n",
        "df_language.unique()"
      ]
    },
    {
      "attachments": {},
      "cell_type": "markdown",
      "metadata": {},
      "source": [
        "## 2 Categorical Data Encoding"
      ]
    },
    {
      "attachments": {},
      "cell_type": "markdown",
      "metadata": {},
      "source": [
        "### 2.1 One Hot Encoding"
      ]
    },
    {
      "attachments": {},
      "cell_type": "markdown",
      "metadata": {},
      "source": [
        "Words"
      ]
    },
    {
      "attachments": {},
      "cell_type": "markdown",
      "metadata": {},
      "source": [
        "### 2.2 Heat Map (Feature Correlation)"
      ]
    },
    {
      "attachments": {},
      "cell_type": "markdown",
      "metadata": {
        "id": "a3PdRkj4_ypd"
      },
      "source": [
        "Words"
      ]
    }
  ],
  "metadata": {
    "colab": {
      "collapsed_sections": [
        "239rBgEr-qqZ",
        "rul9ZvnXnIGH",
        "JgfklOJDqLzN",
        "VD4jntLjnL21"
      ],
      "provenance": [],
      "toc_visible": true
    },
    "kernelspec": {
      "display_name": "Python 3",
      "name": "python3"
    },
    "language_info": {
      "codemirror_mode": {
        "name": "ipython",
        "version": 3
      },
      "file_extension": ".py",
      "mimetype": "text/x-python",
      "name": "python",
      "nbconvert_exporter": "python",
      "pygments_lexer": "ipython3",
      "version": "3.11.3"
    }
  },
  "nbformat": 4,
  "nbformat_minor": 0
}
