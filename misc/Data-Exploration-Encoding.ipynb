{
  "cells": [
    {
      "attachments": {},
      "cell_type": "markdown",
      "metadata": {
        "id": "F2-XzKnySqhi"
      },
      "source": [
        "# Preprocessing and Data Encoding\n",
        "\n",
        "In this document, we preprocess the dataset to make sure we only have clean data. \n",
        "\n",
        "Towards the end, we are going to perform categorical data encoding."
      ]
    },
    {
      "attachments": {},
      "cell_type": "markdown",
      "metadata": {},
      "source": [
        "## 1 Preprocessing for Clean Data"
      ]
    },
    {
      "attachments": {},
      "cell_type": "markdown",
      "metadata": {
        "id": "qa-EK2vPjcJH"
      },
      "source": [
        "### 1.1 Loading the data"
      ]
    },
    {
      "attachments": {},
      "cell_type": "markdown",
      "metadata": {
        "id": "0g8XuMC8-8k-"
      },
      "source": [
        "First, we load the data from our [dataset](https://docs.google.com/spreadsheets/d/1jzNEJWQMvfK6aJeG28JSXecrLZfjeFOCYp-gtW0Q7LQ/edit#gid=1456408654) which we have made available online. \n",
        "\n",
        "We display the last three records as shown in the output to ensure that we have obtained all data properly."
      ]
    },
    {
      "cell_type": "code",
      "execution_count": 1,
      "metadata": {
        "id": "O_30jbLBUUvI"
      },
      "outputs": [
        {
          "data": {
            "text/html": [
              "<div>\n",
              "<style scoped>\n",
              "    .dataframe tbody tr th:only-of-type {\n",
              "        vertical-align: middle;\n",
              "    }\n",
              "\n",
              "    .dataframe tbody tr th {\n",
              "        vertical-align: top;\n",
              "    }\n",
              "\n",
              "    .dataframe thead th {\n",
              "        text-align: right;\n",
              "    }\n",
              "</style>\n",
              "<table border=\"1\" class=\"dataframe\">\n",
              "  <thead>\n",
              "    <tr style=\"text-align: right;\">\n",
              "      <th></th>\n",
              "      <th>ID</th>\n",
              "      <th>Timestamp</th>\n",
              "      <th>Tweet URL</th>\n",
              "      <th>Group</th>\n",
              "      <th>Collector</th>\n",
              "      <th>Category</th>\n",
              "      <th>Topic</th>\n",
              "      <th>Keywords</th>\n",
              "      <th>Account handle</th>\n",
              "      <th>Account name</th>\n",
              "      <th>...</th>\n",
              "      <th>Quote Tweets</th>\n",
              "      <th>Views</th>\n",
              "      <th>Rating</th>\n",
              "      <th>Reasoning</th>\n",
              "      <th>Remarks</th>\n",
              "      <th>Thread/Tweet Language</th>\n",
              "      <th>Add columns here</th>\n",
              "      <th>Add columns here</th>\n",
              "      <th>Reviewer</th>\n",
              "      <th>Review</th>\n",
              "    </tr>\n",
              "  </thead>\n",
              "  <tbody>\n",
              "    <tr>\n",
              "      <th>149</th>\n",
              "      <td>28-149</td>\n",
              "      <td>18/04/2023 23:47:41</td>\n",
              "      <td>https://twitter.com/fenum9/status/137914056758...</td>\n",
              "      <td>28</td>\n",
              "      <td>Pardiñas, Miguel</td>\n",
              "      <td>HLTH</td>\n",
              "      <td>COVID-19 vaccines contain microchip, magnetic ...</td>\n",
              "      <td>\"covid\" \"vaccine\" \"metal\"</td>\n",
              "      <td>@fenum9</td>\n",
              "      <td>h♤yd$n 🧙‍♂️ 𓅃</td>\n",
              "      <td>...</td>\n",
              "      <td>0</td>\n",
              "      <td>NaN</td>\n",
              "      <td>NaN</td>\n",
              "      <td>Tells that nurse on duty during vaccine appoin...</td>\n",
              "      <td>No location</td>\n",
              "      <td>Foreign</td>\n",
              "      <td>NaN</td>\n",
              "      <td>NaN</td>\n",
              "      <td>NaN</td>\n",
              "      <td>NaN</td>\n",
              "    </tr>\n",
              "    <tr>\n",
              "      <th>150</th>\n",
              "      <td>28-150</td>\n",
              "      <td>18/04/2023 23:54:57</td>\n",
              "      <td>https://twitter.com/Wengsterrr_/status/1371652...</td>\n",
              "      <td>28</td>\n",
              "      <td>Pardiñas, Miguel</td>\n",
              "      <td>HLTH</td>\n",
              "      <td>COVID-19 vaccines contain microchip, magnetic ...</td>\n",
              "      <td>\"bakuna\" \"tubig\"</td>\n",
              "      <td>@Wengsterrr_</td>\n",
              "      <td>𝕃𝕦𝕒𝕟𝕟 𝕃𝕚 👅</td>\n",
              "      <td>...</td>\n",
              "      <td>0</td>\n",
              "      <td>NaN</td>\n",
              "      <td>NaN</td>\n",
              "      <td>Complains why cases went up, and points that p...</td>\n",
              "      <td>Location might be fake</td>\n",
              "      <td>Filipino</td>\n",
              "      <td>NaN</td>\n",
              "      <td>NaN</td>\n",
              "      <td>NaN</td>\n",
              "      <td>NaN</td>\n",
              "    </tr>\n",
              "    <tr>\n",
              "      <th>151</th>\n",
              "      <td>28-151</td>\n",
              "      <td>18/04/2023 23:59:24</td>\n",
              "      <td>https://twitter.com/AdrianSBanal/status/141888...</td>\n",
              "      <td>28</td>\n",
              "      <td>Pardiñas, Miguel</td>\n",
              "      <td>HLTH</td>\n",
              "      <td>COVID-19 vaccines contain microchip, magnetic ...</td>\n",
              "      <td>\"bakuna\" \"tubig\"</td>\n",
              "      <td>@AdrianSBanal</td>\n",
              "      <td>Nabs</td>\n",
              "      <td>...</td>\n",
              "      <td>0</td>\n",
              "      <td>NaN</td>\n",
              "      <td>NaN</td>\n",
              "      <td>Complains that vaccine might not be working, a...</td>\n",
              "      <td>NaN</td>\n",
              "      <td>Filipino</td>\n",
              "      <td>NaN</td>\n",
              "      <td>NaN</td>\n",
              "      <td>NaN</td>\n",
              "      <td>NaN</td>\n",
              "    </tr>\n",
              "  </tbody>\n",
              "</table>\n",
              "<p>3 rows × 35 columns</p>\n",
              "</div>"
            ],
            "text/plain": [
              "0        ID            Timestamp   \n",
              "149  28-149  18/04/2023 23:47:41  \\\n",
              "150  28-150  18/04/2023 23:54:57   \n",
              "151  28-151  18/04/2023 23:59:24   \n",
              "\n",
              "0                                            Tweet URL Group   \n",
              "149  https://twitter.com/fenum9/status/137914056758...    28  \\\n",
              "150  https://twitter.com/Wengsterrr_/status/1371652...    28   \n",
              "151  https://twitter.com/AdrianSBanal/status/141888...    28   \n",
              "\n",
              "0           Collector Category   \n",
              "149  Pardiñas, Miguel     HLTH  \\\n",
              "150  Pardiñas, Miguel     HLTH   \n",
              "151  Pardiñas, Miguel     HLTH   \n",
              "\n",
              "0                                                Topic   \n",
              "149  COVID-19 vaccines contain microchip, magnetic ...  \\\n",
              "150  COVID-19 vaccines contain microchip, magnetic ...   \n",
              "151  COVID-19 vaccines contain microchip, magnetic ...   \n",
              "\n",
              "0                     Keywords Account handle   Account name  ...   \n",
              "149  \"covid\" \"vaccine\" \"metal\"        @fenum9  h♤yd$n 🧙‍♂️ 𓅃  ...  \\\n",
              "150           \"bakuna\" \"tubig\"   @Wengsterrr_     𝕃𝕦𝕒𝕟𝕟 𝕃𝕚 👅  ...   \n",
              "151           \"bakuna\" \"tubig\"  @AdrianSBanal           Nabs  ...   \n",
              "\n",
              "0   Quote Tweets Views Rating   \n",
              "149            0   NaN    NaN  \\\n",
              "150            0   NaN    NaN   \n",
              "151            0   NaN    NaN   \n",
              "\n",
              "0                                            Reasoning   \n",
              "149  Tells that nurse on duty during vaccine appoin...  \\\n",
              "150  Complains why cases went up, and points that p...   \n",
              "151  Complains that vaccine might not be working, a...   \n",
              "\n",
              "0                   Remarks Thread/Tweet Language Add columns here   \n",
              "149             No location               Foreign              NaN  \\\n",
              "150  Location might be fake              Filipino              NaN   \n",
              "151                     NaN              Filipino              NaN   \n",
              "\n",
              "0   Add columns here Reviewer Review  \n",
              "149              NaN      NaN    NaN  \n",
              "150              NaN      NaN    NaN  \n",
              "151              NaN      NaN    NaN  \n",
              "\n",
              "[3 rows x 35 columns]"
            ]
          },
          "execution_count": 1,
          "metadata": {},
          "output_type": "execute_result"
        }
      ],
      "source": [
        "# Load datasets\n",
        "import pandas as pd\n",
        "import gspread\n",
        "import numpy as np\n",
        "\n",
        "import category_encoders as ce\n",
        "import matplotlib.pyplot as plt\n",
        "import seaborn as sns\n",
        "import matplotlib.colors\n",
        "\n",
        "sa = gspread.service_account(filename=\"group-28-dataset-7233caedfe09.json\")\n",
        "sheet = sa.open(\"Dataset - Group 28\")\n",
        "work_sheet = sheet.worksheet(\"Fixed Data\")\n",
        "\n",
        "df = pd.DataFrame(work_sheet.get_all_values())\n",
        "\n",
        "new_header = df.iloc[0] \n",
        "df = df[1:152] \n",
        "df.columns = new_header \n",
        "df = df.replace(r'^\\s*$', np.nan, regex=True)\n",
        "\n",
        "df.tail(3)\n"
      ]
    },
    {
      "attachments": {},
      "cell_type": "markdown",
      "metadata": {},
      "source": [
        "Shown here are all the current features of the dataset. \n",
        "\n",
        "This may include features with missing values."
      ]
    },
    {
      "cell_type": "code",
      "execution_count": 2,
      "metadata": {},
      "outputs": [
        {
          "name": "stdout",
          "output_type": "stream",
          "text": [
            "List all current features:\n"
          ]
        },
        {
          "data": {
            "text/plain": [
              "Index(['ID', 'Timestamp', 'Tweet URL', 'Group', 'Collector', 'Category',\n",
              "       'Topic', 'Keywords', 'Account handle', 'Account name', 'Account bio',\n",
              "       'Account type', 'Joined', 'Following', 'Followers', 'Location', 'Tweet',\n",
              "       'Tweet Translated', 'Tweet Type', 'Date posted', 'Screenshot',\n",
              "       'Content type', 'Likes', 'Replies', 'Retweets', 'Quote Tweets', 'Views',\n",
              "       'Rating', 'Reasoning', 'Remarks', 'Thread/Tweet Language',\n",
              "       'Add columns here', 'Add columns here', 'Reviewer', 'Review'],\n",
              "      dtype='object', name=0)"
            ]
          },
          "execution_count": 2,
          "metadata": {},
          "output_type": "execute_result"
        }
      ],
      "source": [
        "print(\"List all current features:\")\n",
        "df.columns"
      ]
    },
    {
      "cell_type": "code",
      "execution_count": 3,
      "metadata": {},
      "outputs": [
        {
          "name": "stdout",
          "output_type": "stream",
          "text": [
            "Display the number of records and features:\n"
          ]
        },
        {
          "data": {
            "text/plain": [
              "(151, 35)"
            ]
          },
          "execution_count": 3,
          "metadata": {},
          "output_type": "execute_result"
        }
      ],
      "source": [
        "print(\"Display the number of records and features:\")\n",
        "df.shape"
      ]
    },
    {
      "attachments": {},
      "cell_type": "markdown",
      "metadata": {
        "id": "Gwd7qbXv904-"
      },
      "source": [
        "### 1.2 Checking for Missing Values"
      ]
    },
    {
      "attachments": {},
      "cell_type": "markdown",
      "metadata": {
        "id": "pPZxdPzo_rYP"
      },
      "source": [
        "Now, we check which features has no missing values.\n",
        "\n",
        "From, here we can see that there are missing value on Account Bio, Location, Screenshot, etc."
      ]
    },
    {
      "cell_type": "code",
      "execution_count": 4,
      "metadata": {
        "colab": {
          "base_uri": "https://localhost:8080/"
        },
        "id": "wcJuKgqnnBk7",
        "outputId": "fc0782e1-e730-463d-d9fa-2e806b39bd8d"
      },
      "outputs": [
        {
          "name": "stdout",
          "output_type": "stream",
          "text": [
            "Check for features with missing values:\n"
          ]
        },
        {
          "data": {
            "text/plain": [
              "['Account bio',\n",
              " 'Location',\n",
              " 'Screenshot',\n",
              " 'Quote Tweets',\n",
              " 'Views',\n",
              " 'Rating',\n",
              " 'Remarks',\n",
              " 'Add columns here',\n",
              " 'Add columns here',\n",
              " 'Reviewer',\n",
              " 'Review']"
            ]
          },
          "execution_count": 4,
          "metadata": {},
          "output_type": "execute_result"
        }
      ],
      "source": [
        "print(\"Check for features with missing values:\")\n",
        "df.columns[df.isna().any()].tolist()"
      ]
    },
    {
      "attachments": {},
      "cell_type": "markdown",
      "metadata": {},
      "source": [
        "Upon checking, the collectors deemed that the only necessary features for this project are as follows:\n",
        "\n",
        "> `['ID', 'Timestamp', 'Tweet URL', 'Group', 'Keywords',\n",
        "    'Account handle', 'Account name', 'Account bio', 'Account type', \n",
        "    'Tweet', 'Tweet Translated', 'Tweet Type', 'Date posted',\n",
        "    'Content type', 'Reasoning', 'Thread/Tweet Language',]`\n",
        "\n",
        "From the previous output, we can verify that all of these features have no missing value."
      ]
    },
    {
      "cell_type": "code",
      "execution_count": 5,
      "metadata": {
        "colab": {
          "base_uri": "https://localhost:8080/"
        },
        "id": "_iamLkwGnX6Y",
        "outputId": "f83c5f12-f43e-40de-ce4b-bc26d8ca6791"
      },
      "outputs": [
        {
          "name": "stdout",
          "output_type": "stream",
          "text": [
            "Dataset summary:\n"
          ]
        },
        {
          "data": {
            "text/html": [
              "<div>\n",
              "<style scoped>\n",
              "    .dataframe tbody tr th:only-of-type {\n",
              "        vertical-align: middle;\n",
              "    }\n",
              "\n",
              "    .dataframe tbody tr th {\n",
              "        vertical-align: top;\n",
              "    }\n",
              "\n",
              "    .dataframe thead th {\n",
              "        text-align: right;\n",
              "    }\n",
              "</style>\n",
              "<table border=\"1\" class=\"dataframe\">\n",
              "  <thead>\n",
              "    <tr style=\"text-align: right;\">\n",
              "      <th></th>\n",
              "      <th>ID</th>\n",
              "      <th>Timestamp</th>\n",
              "      <th>Tweet URL</th>\n",
              "      <th>Group</th>\n",
              "      <th>Keywords</th>\n",
              "      <th>Account handle</th>\n",
              "      <th>Account name</th>\n",
              "      <th>Account bio</th>\n",
              "      <th>Account type</th>\n",
              "      <th>Tweet</th>\n",
              "      <th>Tweet Translated</th>\n",
              "      <th>Tweet Type</th>\n",
              "      <th>Date posted</th>\n",
              "      <th>Content type</th>\n",
              "      <th>Reasoning</th>\n",
              "      <th>Thread/Tweet Language</th>\n",
              "    </tr>\n",
              "  </thead>\n",
              "  <tbody>\n",
              "    <tr>\n",
              "      <th>148</th>\n",
              "      <td>28-148</td>\n",
              "      <td>18/04/2023 23:43:56</td>\n",
              "      <td>https://twitter.com/HatzPurp/status/1385080074...</td>\n",
              "      <td>28</td>\n",
              "      <td>\"covid\" \"vaccine\" \"metal\"</td>\n",
              "      <td>@HatzPurp</td>\n",
              "      <td>Hatz Purp</td>\n",
              "      <td>Versatile</td>\n",
              "      <td>Anonymous</td>\n",
              "      <td>Covid-19 is a man-made Virus released on the p...</td>\n",
              "      <td>Covid-19 is a man-made Virus released on the p...</td>\n",
              "      <td>Text, Reply</td>\n",
              "      <td>22/04/21 11:56</td>\n",
              "      <td>Rational</td>\n",
              "      <td>Says that covid is man-made to make the public...</td>\n",
              "      <td>Foreign</td>\n",
              "    </tr>\n",
              "    <tr>\n",
              "      <th>149</th>\n",
              "      <td>28-149</td>\n",
              "      <td>18/04/2023 23:47:41</td>\n",
              "      <td>https://twitter.com/fenum9/status/137914056758...</td>\n",
              "      <td>28</td>\n",
              "      <td>\"covid\" \"vaccine\" \"metal\"</td>\n",
              "      <td>@fenum9</td>\n",
              "      <td>h♤yd$n 🧙‍♂️ 𓅃</td>\n",
              "      <td>tall glass of yogurt</td>\n",
              "      <td>Anonymous</td>\n",
              "      <td>Was just waiting to get COVID vaccine and the ...</td>\n",
              "      <td>Was just waiting to get COVID vaccine and the ...</td>\n",
              "      <td>Text</td>\n",
              "      <td>6/4/21 2:35</td>\n",
              "      <td>Emotional</td>\n",
              "      <td>Tells that nurse on duty during vaccine appoin...</td>\n",
              "      <td>Foreign</td>\n",
              "    </tr>\n",
              "    <tr>\n",
              "      <th>150</th>\n",
              "      <td>28-150</td>\n",
              "      <td>18/04/2023 23:54:57</td>\n",
              "      <td>https://twitter.com/Wengsterrr_/status/1371652...</td>\n",
              "      <td>28</td>\n",
              "      <td>\"bakuna\" \"tubig\"</td>\n",
              "      <td>@Wengsterrr_</td>\n",
              "      <td>𝕃𝕦𝕒𝕟𝕟 𝕃𝕚 👅</td>\n",
              "      <td>— ɪ’ᴍ ᴀ ᴘᴀʀᴀᴅᴏx.</td>\n",
              "      <td>Anonymous</td>\n",
              "      <td>Kung kelan nagkaroon ng bakuna kontra COVID, t...</td>\n",
              "      <td>When there was a vaccine against COVID, positi...</td>\n",
              "      <td>Text</td>\n",
              "      <td>16/03/21 10:41</td>\n",
              "      <td>Emotional</td>\n",
              "      <td>Complains why cases went up, and points that p...</td>\n",
              "      <td>Filipino</td>\n",
              "    </tr>\n",
              "    <tr>\n",
              "      <th>151</th>\n",
              "      <td>28-151</td>\n",
              "      <td>18/04/2023 23:59:24</td>\n",
              "      <td>https://twitter.com/AdrianSBanal/status/141888...</td>\n",
              "      <td>28</td>\n",
              "      <td>\"bakuna\" \"tubig\"</td>\n",
              "      <td>@AdrianSBanal</td>\n",
              "      <td>Nabs</td>\n",
              "      <td>Malas lang</td>\n",
              "      <td>Anonymous</td>\n",
              "      <td>Taenang bakuna walang epekto tubig baha lang a...</td>\n",
              "      <td>Taenang vaccine has no effect, it's just flood...</td>\n",
              "      <td>Text</td>\n",
              "      <td>24/07/21 19:01</td>\n",
              "      <td>Emotional</td>\n",
              "      <td>Complains that vaccine might not be working, a...</td>\n",
              "      <td>Filipino</td>\n",
              "    </tr>\n",
              "  </tbody>\n",
              "</table>\n",
              "</div>"
            ],
            "text/plain": [
              "0        ID            Timestamp   \n",
              "148  28-148  18/04/2023 23:43:56  \\\n",
              "149  28-149  18/04/2023 23:47:41   \n",
              "150  28-150  18/04/2023 23:54:57   \n",
              "151  28-151  18/04/2023 23:59:24   \n",
              "\n",
              "0                                            Tweet URL Group   \n",
              "148  https://twitter.com/HatzPurp/status/1385080074...    28  \\\n",
              "149  https://twitter.com/fenum9/status/137914056758...    28   \n",
              "150  https://twitter.com/Wengsterrr_/status/1371652...    28   \n",
              "151  https://twitter.com/AdrianSBanal/status/141888...    28   \n",
              "\n",
              "0                     Keywords Account handle   Account name   \n",
              "148  \"covid\" \"vaccine\" \"metal\"      @HatzPurp      Hatz Purp  \\\n",
              "149  \"covid\" \"vaccine\" \"metal\"        @fenum9  h♤yd$n 🧙‍♂️ 𓅃   \n",
              "150           \"bakuna\" \"tubig\"   @Wengsterrr_     𝕃𝕦𝕒𝕟𝕟 𝕃𝕚 👅   \n",
              "151           \"bakuna\" \"tubig\"  @AdrianSBanal           Nabs   \n",
              "\n",
              "0             Account bio Account type   \n",
              "148             Versatile    Anonymous  \\\n",
              "149  tall glass of yogurt    Anonymous   \n",
              "150      — ɪ’ᴍ ᴀ ᴘᴀʀᴀᴅᴏx.    Anonymous   \n",
              "151            Malas lang    Anonymous   \n",
              "\n",
              "0                                                Tweet   \n",
              "148  Covid-19 is a man-made Virus released on the p...  \\\n",
              "149  Was just waiting to get COVID vaccine and the ...   \n",
              "150  Kung kelan nagkaroon ng bakuna kontra COVID, t...   \n",
              "151  Taenang bakuna walang epekto tubig baha lang a...   \n",
              "\n",
              "0                                     Tweet Translated   Tweet Type   \n",
              "148  Covid-19 is a man-made Virus released on the p...  Text, Reply  \\\n",
              "149  Was just waiting to get COVID vaccine and the ...         Text   \n",
              "150  When there was a vaccine against COVID, positi...         Text   \n",
              "151  Taenang vaccine has no effect, it's just flood...         Text   \n",
              "\n",
              "0       Date posted Content type   \n",
              "148  22/04/21 11:56     Rational  \\\n",
              "149     6/4/21 2:35    Emotional   \n",
              "150  16/03/21 10:41    Emotional   \n",
              "151  24/07/21 19:01    Emotional   \n",
              "\n",
              "0                                            Reasoning Thread/Tweet Language  \n",
              "148  Says that covid is man-made to make the public...               Foreign  \n",
              "149  Tells that nurse on duty during vaccine appoin...               Foreign  \n",
              "150  Complains why cases went up, and points that p...              Filipino  \n",
              "151  Complains that vaccine might not be working, a...              Filipino  "
            ]
          },
          "execution_count": 5,
          "metadata": {},
          "output_type": "execute_result"
        }
      ],
      "source": [
        "print(\"Dataset summary:\")\n",
        "df_clean = df[['ID', 'Timestamp', 'Tweet URL', 'Group', 'Keywords', \n",
        "         'Account handle', 'Account name', 'Account bio', 'Account type', \n",
        "         'Tweet', 'Tweet Translated', 'Tweet Type', 'Date posted',\n",
        "         'Content type', 'Reasoning', 'Thread/Tweet Language',]]\n",
        "df_clean.tail(4)"
      ]
    },
    {
      "attachments": {},
      "cell_type": "markdown",
      "metadata": {
        "id": "UOlD-T6UpoVs"
      },
      "source": [
        "The table shows a simple summary of our clean dataset. Some notable observations are as follows: \n",
        "- ID, Tweet URL, Tweet, and Tweet Translated have unique values.\n",
        "- 82 out of 151 tweets are of Emotional content type.\n",
        "- There are 78 Foreign Tweets. This also implies that the remaining 73 tweets are Filipino Tweets.\n",
        "- Ven Cuenca has four tweets on this dataset."
      ]
    },
    {
      "attachments": {},
      "cell_type": "markdown",
      "metadata": {
        "id": "4ZmCav9n-h21"
      },
      "source": [
        "### 1.3 Ensuring Formatting Consistency"
      ]
    },
    {
      "attachments": {},
      "cell_type": "markdown",
      "metadata": {},
      "source": [
        "For this subsection, we will check formatting consistency of some features.\n",
        "\n",
        "For timestamp, we ensured that the data type is datetime. By default, the format of datetime in Pandas is YYYY-MM-DD HH:MM:SS."
      ]
    },
    {
      "cell_type": "code",
      "execution_count": 6,
      "metadata": {},
      "outputs": [
        {
          "data": {
            "text/plain": [
              "1     2023-02-27 13:34:22\n",
              "2     2023-02-27 13:40:42\n",
              "3     2023-03-03 03:23:13\n",
              "4     2023-03-03 03:31:35\n",
              "5     2023-03-03 03:43:09\n",
              "              ...        \n",
              "147   2023-04-18 23:41:34\n",
              "148   2023-04-18 23:43:56\n",
              "149   2023-04-18 23:47:41\n",
              "150   2023-04-18 23:54:57\n",
              "151   2023-04-18 23:59:24\n",
              "Name: Timestamp, Length: 151, dtype: datetime64[ns]"
            ]
          },
          "execution_count": 6,
          "metadata": {},
          "output_type": "execute_result"
        }
      ],
      "source": [
        "df_clean.loc[0:151, \"Timestamp\"] = pd.to_datetime(df_clean[\"Timestamp\"], format='%d/%m/%Y %H:%M:%S').copy()\n",
        "df_clean[\"Timestamp\"].apply(pd.to_datetime)"
      ]
    },
    {
      "attachments": {},
      "cell_type": "markdown",
      "metadata": {},
      "source": [
        "For date posted, we ensured that the data type is datetime. By default, the format of datetime in Pandas is YYYY-MM-DD HH:MM:SS."
      ]
    },
    {
      "cell_type": "code",
      "execution_count": 7,
      "metadata": {},
      "outputs": [
        {
          "data": {
            "text/plain": [
              "1     2021-08-24 19:34:00\n",
              "2     2021-08-20 13:59:00\n",
              "3     2021-08-14 21:35:00\n",
              "4     2021-08-09 20:12:00\n",
              "5     2021-08-04 15:54:00\n",
              "              ...        \n",
              "147   2021-03-02 19:07:00\n",
              "148   2021-04-22 11:56:00\n",
              "149   2021-04-06 02:35:00\n",
              "150   2021-03-16 10:41:00\n",
              "151   2021-07-24 19:01:00\n",
              "Name: Date posted, Length: 151, dtype: datetime64[ns]"
            ]
          },
          "execution_count": 7,
          "metadata": {},
          "output_type": "execute_result"
        }
      ],
      "source": [
        "df_clean.loc[0:151, \"Date posted\"] = pd.to_datetime(df_clean[\"Date posted\"], format='%d/%m/%y %H:%M').copy()\n",
        "df_clean[\"Date posted\"].apply(pd.to_datetime)"
      ]
    },
    {
      "attachments": {},
      "cell_type": "markdown",
      "metadata": {},
      "source": [
        "For account type, we ensured that the values can only be Anonymous, Identified, or Media. \n",
        "\n",
        "However, it can be noticed that the dataset has no entry whose account type is Media."
      ]
    },
    {
      "cell_type": "code",
      "execution_count": 8,
      "metadata": {},
      "outputs": [
        {
          "data": {
            "text/plain": [
              "array(['Anonymous', 'Identified'], dtype=object)"
            ]
          },
          "execution_count": 8,
          "metadata": {},
          "output_type": "execute_result"
        }
      ],
      "source": [
        "df_account = df_clean['Account type']\n",
        "df_account.unique()"
      ]
    },
    {
      "attachments": {},
      "cell_type": "markdown",
      "metadata": {},
      "source": [
        "For content type, we ensured that the values can only be Emotional, Rational, or Transactional. "
      ]
    },
    {
      "cell_type": "code",
      "execution_count": 9,
      "metadata": {},
      "outputs": [
        {
          "data": {
            "text/plain": [
              "array(['Emotional', 'Rational', 'Transactional'], dtype=object)"
            ]
          },
          "execution_count": 9,
          "metadata": {},
          "output_type": "execute_result"
        }
      ],
      "source": [
        "df_content = df_clean['Content type']\n",
        "df_content.unique()"
      ]
    },
    {
      "attachments": {},
      "cell_type": "markdown",
      "metadata": {},
      "source": [
        "For thread/tweet language, we ensured that the values can only be Filipino or Foreign. "
      ]
    },
    {
      "cell_type": "code",
      "execution_count": 10,
      "metadata": {},
      "outputs": [
        {
          "data": {
            "text/plain": [
              "array(['Filipino', 'Foreign'], dtype=object)"
            ]
          },
          "execution_count": 10,
          "metadata": {},
          "output_type": "execute_result"
        }
      ],
      "source": [
        "df_language = df_clean['Thread/Tweet Language']\n",
        "df_language.unique()"
      ]
    },
    {
      "attachments": {},
      "cell_type": "markdown",
      "metadata": {},
      "source": [
        "### 1.4 Translating Tweets"
      ]
    },
    {
      "attachments": {},
      "cell_type": "markdown",
      "metadata": {},
      "source": [
        "For the natural language processing stage, we need to translate all tweets to English. These ensures consistency in the language of tweets.\n",
        "\n",
        "We used google translator to translate the tweets. Even so, we still manually checked every tweet to see if the translations are accurate."
      ]
    },
    {
      "cell_type": "code",
      "execution_count": 11,
      "metadata": {},
      "outputs": [
        {
          "data": {
            "text/html": [
              "<style type=\"text/css\">\n",
              "</style>\n",
              "<table id=\"T_5c520\">\n",
              "  <thead>\n",
              "    <tr>\n",
              "      <th class=\"index_name level0\" >0</th>\n",
              "      <th id=\"T_5c520_level0_col0\" class=\"col_heading level0 col0\" >Tweet</th>\n",
              "      <th id=\"T_5c520_level0_col1\" class=\"col_heading level0 col1\" >Tweet Translated</th>\n",
              "    </tr>\n",
              "  </thead>\n",
              "  <tbody>\n",
              "    <tr>\n",
              "      <th id=\"T_5c520_level0_row0\" class=\"row_heading level0 row0\" >1</th>\n",
              "      <td id=\"T_5c520_row0_col0\" class=\"data row0 col0\" >Gagi astig ng vaccine ko astra yung akin eh dinikit ko yung kutsara sa pinasukan ng karayom aba dumikit HAHAHA! May magnet ata 😂\n",
              "</td>\n",
              "      <td id=\"T_5c520_row0_col1\" class=\"data row0 col1\" >My vaccine was so cool, mine was astra, I placed the spoon where the needle went in, but it stuck HAHAHA! It has a magnet 😂</td>\n",
              "    </tr>\n",
              "    <tr>\n",
              "      <th id=\"T_5c520_level0_row1\" class=\"row_heading level0 row1\" >2</th>\n",
              "      <td id=\"T_5c520_row1_col0\" class=\"data row1 col0\" >1st dose done!!\n",
              "{Image: picture of the vaccine}\n",
              "\n",
              "Normal naman na sumakit yung arm na hindi mo maitaas ng husto noh? Hahahaha naprapraning akooo :)))\n",
              "\n",
              "Arm is ok now! Di na siya masakit! Pero tinry ko dikitan ng spoon and dumikit siyaaaaaa hhahahahahaha ommgg</td>\n",
              "      <td id=\"T_5c520_row1_col1\" class=\"data row1 col1\" >1st dose done!!\n",
              "{Image: picture of the vaccine}\n",
              "\n",
              "It's normal for the arm to hurt when I raise it, right? Hahahaha I'm so paranoid :)))\n",
              "\n",
              "Arm is ok now! It doesn't hurt anymore! But when I try to place a spoon, it sticks hahahahahaha ommgg</td>\n",
              "    </tr>\n",
              "    <tr>\n",
              "      <th id=\"T_5c520_level0_row2\" class=\"row_heading level0 row2\" >3</th>\n",
              "      <td id=\"T_5c520_row2_col0\" class=\"data row2 col0\" >Triny naming dikitan ng piso ung bakuna ko hahahha shet. May magnet yarn???\n",
              "Tuwang-tuwa mga bata.</td>\n",
              "      <td id=\"T_5c520_row2_col1\" class=\"data row2 col1\" >I tried placing a peso coin on my vaccine hahahha shet. It has magnet???\n",
              "Children were very happy.</td>\n",
              "    </tr>\n",
              "    <tr>\n",
              "      <th id=\"T_5c520_level0_row3\" class=\"row_heading level0 row3\" >4</th>\n",
              "      <td id=\"T_5c520_row3_col0\" class=\"data row3 col0\" >.yung kakiLaLa namin dito na mudra, nakwento nya xamen n ung junakis daw nya nagpaturok n... isa paLang tpos daw ung kutsara nadikit daw s braso nya... sooo magnetic n ung braso nya... di nmn din nsbi kung anong gmot yun... ⊙▂⊙</td>\n",
              "      <td id=\"T_5c520_row3_col1\" class=\"data row3 col1\" >\n",
              ".The one whom we call mudra, told us about their child getting vaccinated... One shot and a spoon already sticks on their arm... their arm has become magnetic... The name of the medicine was not mentioned... ⊙▂⊙</td>\n",
              "    </tr>\n",
              "    <tr>\n",
              "      <th id=\"T_5c520_level0_row4\" class=\"row_heading level0 row4\" >5</th>\n",
              "      <td id=\"T_5c520_row4_col0\" class=\"data row4 col0\" >Pwede naman daw lagyan ng kutsara yung arm. Pag dumikit totoo pong nabakunahan. CHAR! GOD SAVE US. Nkklk.</td>\n",
              "      <td id=\"T_5c520_row4_col1\" class=\"data row4 col1\" >They said you can place a spoon on the arm. When it sticks, it indicates one has been vaccinated. CHAR! GOD SAVE US. Nkklk.</td>\n",
              "    </tr>\n",
              "    <tr>\n",
              "      <th id=\"T_5c520_level0_row5\" class=\"row_heading level0 row5\" >6</th>\n",
              "      <td id=\"T_5c520_row5_col0\" class=\"data row5 col0\" >Hahaha may nakita kasi akong video dati na dinikit niya yung spoon kung saan siya tinurukan tas ayun tinry ko kung totoo at ayun, dumikit nga ahhaha parang magnet ganon..di ko alam if dapat ako ma amaze or matakot ehh hahaahaha</td>\n",
              "      <td id=\"T_5c520_row5_col1\" class=\"data row5 col1\" >Hahaha I saw a video before where he stuck the spoon where he was injected so I'm wondering if it's true and well, it stuck ahhaha like a magnet.. I don't know if I should be amazed or scared hahahaha</td>\n",
              "    </tr>\n",
              "    <tr>\n",
              "      <th id=\"T_5c520_level0_row6\" class=\"row_heading level0 row6\" >7</th>\n",
              "      <td id=\"T_5c520_row6_col0\" class=\"data row6 col0\" >Mass vaccination para kumita si bill gates and big pharma Di mo alam laman ng vaccine niya, idea ng isang taong gusto I depopulate ang mundo</td>\n",
              "      <td id=\"T_5c520_row6_col1\" class=\"data row6 col1\" >Mass vaccination was made to generate profit for bill gates and big pharma You don't know what the vaccine contains, it's the idea of ​​someone who wants to depopulate the world</td>\n",
              "    </tr>\n",
              "    <tr>\n",
              "      <th id=\"T_5c520_level0_row7\" class=\"row_heading level0 row7\" >8</th>\n",
              "      <td id=\"T_5c520_row7_col0\" class=\"data row7 col0\" >Tama ba pag esperimentohan mga tao? Kung okay lng senyo xa mauna na kayo, kasama nrin pamilya nyo.. Lol 😊.. D2 sa Italy madami na ayaw mg PA vaccine kc Alam na ang laman 🤣.. Madami d2 nag ka sakit puro nag PA vaccine, like bergamo #THETRUTHSETSUSFREE</td>\n",
              "      <td id=\"T_5c520_row7_col1\" class=\"data row7 col1\" >Is it right to experiment people? If it's okay, sir, you can go first, with your family.. Lol 😊.. In Italy, there are many people who don't want the PA vaccine, because you already know what's going on 🤣.. Many people get sick just because of the PA vaccine, like bergamo #THETRUTHSETSUSFREE</td>\n",
              "    </tr>\n",
              "    <tr>\n",
              "      <th id=\"T_5c520_level0_row8\" class=\"row_heading level0 row8\" >9</th>\n",
              "      <td id=\"T_5c520_row8_col0\" class=\"data row8 col0\" >Lahat ng vaccines. Lason ang laman. \n",
              "\n",
              "Alam niyo po ba yun, Nature's Way to Health?</td>\n",
              "      <td id=\"T_5c520_row8_col1\" class=\"data row8 col1\" >All vaccines. Contains poison.\n",
              "\n",
              "Do you know that, Nature's Way to Health?</td>\n",
              "    </tr>\n",
              "    <tr>\n",
              "      <th id=\"T_5c520_level0_row9\" class=\"row_heading level0 row9\" >10</th>\n",
              "      <td id=\"T_5c520_row9_col0\" class=\"data row9 col0\" >Saline lang laman ng vaccine if ginawa yan ng 🐶🇨🇳‼️</td>\n",
              "      <td id=\"T_5c520_row9_col1\" class=\"data row9 col1\" >The contents of the vaccine are only saline if it was done by 🐶🇨🇳‼️</td>\n",
              "    </tr>\n",
              "  </tbody>\n",
              "</table>\n"
            ],
            "text/plain": [
              "<pandas.io.formats.style.Styler at 0x27ca2e8f290>"
            ]
          },
          "execution_count": 11,
          "metadata": {},
          "output_type": "execute_result"
        }
      ],
      "source": [
        "df_tweets_trans = df[['Tweet', 'Tweet Translated',]]\n",
        "df_tweets_trans.head(10).style"
      ]
    },
    {
      "attachments": {},
      "cell_type": "markdown",
      "metadata": {},
      "source": [
        "## 2 Categorical Data Encoding"
      ]
    },
    {
      "attachments": {},
      "cell_type": "markdown",
      "metadata": {},
      "source": [
        "### 2.1 One Hot Encoding"
      ]
    },
    {
      "attachments": {},
      "cell_type": "markdown",
      "metadata": {},
      "source": [
        "For categorical data encoding, we used One Hot Encoding method since the features to encode are nominal (categories lack inherent order).\n",
        "\n",
        "For each category of a feature, a new binary feature is created. Here, 0 represents the absence and 1 represents the presence of that value.\n",
        "\n",
        "The first feature we have implemented one hot encoding is for the Account type. The output shows the encoded table for Account type."
      ]
    },
    {
      "cell_type": "code",
      "execution_count": 12,
      "metadata": {},
      "outputs": [
        {
          "data": {
            "text/html": [
              "<div>\n",
              "<style scoped>\n",
              "    .dataframe tbody tr th:only-of-type {\n",
              "        vertical-align: middle;\n",
              "    }\n",
              "\n",
              "    .dataframe tbody tr th {\n",
              "        vertical-align: top;\n",
              "    }\n",
              "\n",
              "    .dataframe thead th {\n",
              "        text-align: right;\n",
              "    }\n",
              "</style>\n",
              "<table border=\"1\" class=\"dataframe\">\n",
              "  <thead>\n",
              "    <tr style=\"text-align: right;\">\n",
              "      <th></th>\n",
              "      <th>Account type_Anonymous</th>\n",
              "      <th>Account type_Identified</th>\n",
              "    </tr>\n",
              "  </thead>\n",
              "  <tbody>\n",
              "    <tr>\n",
              "      <th>1</th>\n",
              "      <td>1.0</td>\n",
              "      <td>0.0</td>\n",
              "    </tr>\n",
              "    <tr>\n",
              "      <th>2</th>\n",
              "      <td>1.0</td>\n",
              "      <td>0.0</td>\n",
              "    </tr>\n",
              "    <tr>\n",
              "      <th>3</th>\n",
              "      <td>1.0</td>\n",
              "      <td>0.0</td>\n",
              "    </tr>\n",
              "    <tr>\n",
              "      <th>4</th>\n",
              "      <td>1.0</td>\n",
              "      <td>0.0</td>\n",
              "    </tr>\n",
              "    <tr>\n",
              "      <th>5</th>\n",
              "      <td>0.0</td>\n",
              "      <td>1.0</td>\n",
              "    </tr>\n",
              "    <tr>\n",
              "      <th>...</th>\n",
              "      <td>...</td>\n",
              "      <td>...</td>\n",
              "    </tr>\n",
              "    <tr>\n",
              "      <th>147</th>\n",
              "      <td>1.0</td>\n",
              "      <td>0.0</td>\n",
              "    </tr>\n",
              "    <tr>\n",
              "      <th>148</th>\n",
              "      <td>1.0</td>\n",
              "      <td>0.0</td>\n",
              "    </tr>\n",
              "    <tr>\n",
              "      <th>149</th>\n",
              "      <td>1.0</td>\n",
              "      <td>0.0</td>\n",
              "    </tr>\n",
              "    <tr>\n",
              "      <th>150</th>\n",
              "      <td>1.0</td>\n",
              "      <td>0.0</td>\n",
              "    </tr>\n",
              "    <tr>\n",
              "      <th>151</th>\n",
              "      <td>1.0</td>\n",
              "      <td>0.0</td>\n",
              "    </tr>\n",
              "  </tbody>\n",
              "</table>\n",
              "<p>151 rows × 2 columns</p>\n",
              "</div>"
            ],
            "text/plain": [
              "     Account type_Anonymous  Account type_Identified\n",
              "1                       1.0                      0.0\n",
              "2                       1.0                      0.0\n",
              "3                       1.0                      0.0\n",
              "4                       1.0                      0.0\n",
              "5                       0.0                      1.0\n",
              "..                      ...                      ...\n",
              "147                     1.0                      0.0\n",
              "148                     1.0                      0.0\n",
              "149                     1.0                      0.0\n",
              "150                     1.0                      0.0\n",
              "151                     1.0                      0.0\n",
              "\n",
              "[151 rows x 2 columns]"
            ]
          },
          "execution_count": 12,
          "metadata": {},
          "output_type": "execute_result"
        }
      ],
      "source": [
        "account_encoder = ce.OneHotEncoder(cols='Account type',handle_unknown='return_nan',return_df=True,use_cat_names=True)\n",
        "account_encoded = account_encoder.fit_transform(df_account)\n",
        "account_encoded"
      ]
    },
    {
      "attachments": {},
      "cell_type": "markdown",
      "metadata": {},
      "source": [
        "Another feature that needs categorical data encoding is Content type. The output shows the encoded table for Content type."
      ]
    },
    {
      "cell_type": "code",
      "execution_count": 13,
      "metadata": {},
      "outputs": [
        {
          "data": {
            "text/html": [
              "<div>\n",
              "<style scoped>\n",
              "    .dataframe tbody tr th:only-of-type {\n",
              "        vertical-align: middle;\n",
              "    }\n",
              "\n",
              "    .dataframe tbody tr th {\n",
              "        vertical-align: top;\n",
              "    }\n",
              "\n",
              "    .dataframe thead th {\n",
              "        text-align: right;\n",
              "    }\n",
              "</style>\n",
              "<table border=\"1\" class=\"dataframe\">\n",
              "  <thead>\n",
              "    <tr style=\"text-align: right;\">\n",
              "      <th></th>\n",
              "      <th>Content type_Emotional</th>\n",
              "      <th>Content type_Rational</th>\n",
              "      <th>Content type_Transactional</th>\n",
              "    </tr>\n",
              "  </thead>\n",
              "  <tbody>\n",
              "    <tr>\n",
              "      <th>1</th>\n",
              "      <td>1.0</td>\n",
              "      <td>0.0</td>\n",
              "      <td>0.0</td>\n",
              "    </tr>\n",
              "    <tr>\n",
              "      <th>2</th>\n",
              "      <td>1.0</td>\n",
              "      <td>0.0</td>\n",
              "      <td>0.0</td>\n",
              "    </tr>\n",
              "    <tr>\n",
              "      <th>3</th>\n",
              "      <td>1.0</td>\n",
              "      <td>0.0</td>\n",
              "      <td>0.0</td>\n",
              "    </tr>\n",
              "    <tr>\n",
              "      <th>4</th>\n",
              "      <td>1.0</td>\n",
              "      <td>0.0</td>\n",
              "      <td>0.0</td>\n",
              "    </tr>\n",
              "    <tr>\n",
              "      <th>5</th>\n",
              "      <td>1.0</td>\n",
              "      <td>0.0</td>\n",
              "      <td>0.0</td>\n",
              "    </tr>\n",
              "    <tr>\n",
              "      <th>...</th>\n",
              "      <td>...</td>\n",
              "      <td>...</td>\n",
              "      <td>...</td>\n",
              "    </tr>\n",
              "    <tr>\n",
              "      <th>147</th>\n",
              "      <td>1.0</td>\n",
              "      <td>0.0</td>\n",
              "      <td>0.0</td>\n",
              "    </tr>\n",
              "    <tr>\n",
              "      <th>148</th>\n",
              "      <td>0.0</td>\n",
              "      <td>1.0</td>\n",
              "      <td>0.0</td>\n",
              "    </tr>\n",
              "    <tr>\n",
              "      <th>149</th>\n",
              "      <td>1.0</td>\n",
              "      <td>0.0</td>\n",
              "      <td>0.0</td>\n",
              "    </tr>\n",
              "    <tr>\n",
              "      <th>150</th>\n",
              "      <td>1.0</td>\n",
              "      <td>0.0</td>\n",
              "      <td>0.0</td>\n",
              "    </tr>\n",
              "    <tr>\n",
              "      <th>151</th>\n",
              "      <td>1.0</td>\n",
              "      <td>0.0</td>\n",
              "      <td>0.0</td>\n",
              "    </tr>\n",
              "  </tbody>\n",
              "</table>\n",
              "<p>151 rows × 3 columns</p>\n",
              "</div>"
            ],
            "text/plain": [
              "     Content type_Emotional  Content type_Rational  Content type_Transactional\n",
              "1                       1.0                    0.0                         0.0\n",
              "2                       1.0                    0.0                         0.0\n",
              "3                       1.0                    0.0                         0.0\n",
              "4                       1.0                    0.0                         0.0\n",
              "5                       1.0                    0.0                         0.0\n",
              "..                      ...                    ...                         ...\n",
              "147                     1.0                    0.0                         0.0\n",
              "148                     0.0                    1.0                         0.0\n",
              "149                     1.0                    0.0                         0.0\n",
              "150                     1.0                    0.0                         0.0\n",
              "151                     1.0                    0.0                         0.0\n",
              "\n",
              "[151 rows x 3 columns]"
            ]
          },
          "execution_count": 13,
          "metadata": {},
          "output_type": "execute_result"
        }
      ],
      "source": [
        "content_encoder = ce.OneHotEncoder(cols='Content type',handle_unknown='return_nan',return_df=True,use_cat_names=True)\n",
        "content_encoded = content_encoder.fit_transform(df_content)\n",
        "content_encoded"
      ]
    },
    {
      "attachments": {},
      "cell_type": "markdown",
      "metadata": {},
      "source": [
        "Lastly, we also have implemented one hot encoding on Thread/Tweet Language. The output shows the encoded table for Thread/Tweet Language.\n"
      ]
    },
    {
      "cell_type": "code",
      "execution_count": 14,
      "metadata": {},
      "outputs": [
        {
          "data": {
            "text/html": [
              "<div>\n",
              "<style scoped>\n",
              "    .dataframe tbody tr th:only-of-type {\n",
              "        vertical-align: middle;\n",
              "    }\n",
              "\n",
              "    .dataframe tbody tr th {\n",
              "        vertical-align: top;\n",
              "    }\n",
              "\n",
              "    .dataframe thead th {\n",
              "        text-align: right;\n",
              "    }\n",
              "</style>\n",
              "<table border=\"1\" class=\"dataframe\">\n",
              "  <thead>\n",
              "    <tr style=\"text-align: right;\">\n",
              "      <th></th>\n",
              "      <th>Thread/Tweet Language_Filipino</th>\n",
              "      <th>Thread/Tweet Language_Foreign</th>\n",
              "    </tr>\n",
              "  </thead>\n",
              "  <tbody>\n",
              "    <tr>\n",
              "      <th>1</th>\n",
              "      <td>1.0</td>\n",
              "      <td>0.0</td>\n",
              "    </tr>\n",
              "    <tr>\n",
              "      <th>2</th>\n",
              "      <td>1.0</td>\n",
              "      <td>0.0</td>\n",
              "    </tr>\n",
              "    <tr>\n",
              "      <th>3</th>\n",
              "      <td>1.0</td>\n",
              "      <td>0.0</td>\n",
              "    </tr>\n",
              "    <tr>\n",
              "      <th>4</th>\n",
              "      <td>1.0</td>\n",
              "      <td>0.0</td>\n",
              "    </tr>\n",
              "    <tr>\n",
              "      <th>5</th>\n",
              "      <td>1.0</td>\n",
              "      <td>0.0</td>\n",
              "    </tr>\n",
              "    <tr>\n",
              "      <th>...</th>\n",
              "      <td>...</td>\n",
              "      <td>...</td>\n",
              "    </tr>\n",
              "    <tr>\n",
              "      <th>147</th>\n",
              "      <td>0.0</td>\n",
              "      <td>1.0</td>\n",
              "    </tr>\n",
              "    <tr>\n",
              "      <th>148</th>\n",
              "      <td>0.0</td>\n",
              "      <td>1.0</td>\n",
              "    </tr>\n",
              "    <tr>\n",
              "      <th>149</th>\n",
              "      <td>0.0</td>\n",
              "      <td>1.0</td>\n",
              "    </tr>\n",
              "    <tr>\n",
              "      <th>150</th>\n",
              "      <td>1.0</td>\n",
              "      <td>0.0</td>\n",
              "    </tr>\n",
              "    <tr>\n",
              "      <th>151</th>\n",
              "      <td>1.0</td>\n",
              "      <td>0.0</td>\n",
              "    </tr>\n",
              "  </tbody>\n",
              "</table>\n",
              "<p>151 rows × 2 columns</p>\n",
              "</div>"
            ],
            "text/plain": [
              "     Thread/Tweet Language_Filipino  Thread/Tweet Language_Foreign\n",
              "1                               1.0                            0.0\n",
              "2                               1.0                            0.0\n",
              "3                               1.0                            0.0\n",
              "4                               1.0                            0.0\n",
              "5                               1.0                            0.0\n",
              "..                              ...                            ...\n",
              "147                             0.0                            1.0\n",
              "148                             0.0                            1.0\n",
              "149                             0.0                            1.0\n",
              "150                             1.0                            0.0\n",
              "151                             1.0                            0.0\n",
              "\n",
              "[151 rows x 2 columns]"
            ]
          },
          "execution_count": 14,
          "metadata": {},
          "output_type": "execute_result"
        }
      ],
      "source": [
        "language_encoder = ce.OneHotEncoder(cols='Thread/Tweet Language',handle_unknown='return_nan',return_df=True,use_cat_names=True)\n",
        "language_encoded = language_encoder.fit_transform(df_language)\n",
        "language_encoded"
      ]
    },
    {
      "attachments": {},
      "cell_type": "markdown",
      "metadata": {},
      "source": [
        "### 2.2 Heat Map (Feature Correlation)"
      ]
    },
    {
      "attachments": {},
      "cell_type": "markdown",
      "metadata": {
        "id": "a3PdRkj4_ypd"
      },
      "source": [
        "Using a heat map visualization, we can see the correlation among the categories of Content type feature and Language feature,"
      ]
    },
    {
      "cell_type": "code",
      "execution_count": 223,
      "metadata": {},
      "outputs": [
        {
          "data": {
            "image/png": "[encoded data removed]",
            "text/plain": [
              "<Figure size 1300x600 with 3 Axes>"
            ]
          },
          "metadata": {},
          "output_type": "display_data"
        }
      ],
      "source": [
        "heat_map = pd.DataFrame({\n",
        "    'Emotional' : content_encoded['Content type_Emotional'],\n",
        "    'Rational' : content_encoded['Content type_Rational'],\n",
        "    'Transactional' : content_encoded['Content type_Transactional'],\n",
        "    'Filipino' : language_encoded['Thread/Tweet Language_Filipino'],\n",
        "    'Foreign' : language_encoded['Thread/Tweet Language_Foreign'],\n",
        "})\n",
        "\n",
        "custom_cmap = matplotlib.colors.LinearSegmentedColormap.from_list(\"custom\", ['brown', 'white', 'orange'])\n",
        "fig, ax = plt.subplots(figsize=(13,6))\n",
        "\n",
        "ax2 = fig.add_axes([0, 1, 1.2, 0])\n",
        "ax2.spines['bottom'].set_color('white')\n",
        "ax2.spines['top'].set_color('white') \n",
        "ax2.tick_params(colors='white')\n",
        "ax2.tick_params(colors='white')\n",
        "\n",
        "sns.heatmap(heat_map.astype(float).corr(), cmap=custom_cmap, cbar_kws={'label': 'Correlation'}, \n",
        "            linecolor='white', annot=True, linewidths=1, vmax=1.0, square=True, ax=ax)\n",
        "ax.set(xlabel='Content and Language Categories', ylabel='Content and Language Categories')\n",
        "ax.set_title('Content and Language Correlation', size=18, y=1.06)\n",
        "ax.yaxis.labelpad = 20\n",
        "ax.xaxis.labelpad = 12\n",
        "\n",
        "plt.show()"
      ]
    },
    {
      "attachments": {},
      "cell_type": "markdown",
      "metadata": {},
      "source": [
        "In the plot, we can observe the following from our dataset:\n",
        "- there is a moderate positive correlation between Emotional tweets and Filipino tweets, with a value of 0.34\n",
        "- there is a moderate positive correlation between Rational tweets and Foreign tweets, with a value of 0.33\n",
        "- there is a moderate negative correlation between Emotional tweets and Foreign tweets, with a value of -0.34\n",
        "- there is a moderate negative correlation between Rational tweets and Filipino tweets, with a value of -0.33\n",
        "- the Transactional tweets have weak linear relationships among all other categories"
      ]
    }
  ],
  "metadata": {
    "colab": {
      "collapsed_sections": [
        "239rBgEr-qqZ",
        "rul9ZvnXnIGH",
        "JgfklOJDqLzN",
        "VD4jntLjnL21"
      ],
      "provenance": [],
      "toc_visible": true
    },
    "kernelspec": {
      "display_name": "Python 3",
      "name": "python3"
    },
    "language_info": {
      "codemirror_mode": {
        "name": "ipython",
        "version": 3
      },
      "file_extension": ".py",
      "mimetype": "text/x-python",
      "name": "python",
      "nbconvert_exporter": "python",
      "pygments_lexer": "ipython3",
      "version": "3.11.3"
    }
  },
  "nbformat": 4,
  "nbformat_minor": 0
}
