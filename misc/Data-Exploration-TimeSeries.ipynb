{
  "cells": [
    {
      "attachments": {},
      "cell_type": "markdown",
      "metadata": {
        "id": "F2-XzKnySqhi"
      },
      "source": [
        "# Time Series Analysis\n",
        "\n",
        "In this document, we perform Time Series Analysis after obtaining the data."
      ]
    },
    {
      "attachments": {},
      "cell_type": "markdown",
      "metadata": {},
      "source": [
        "## 1 Obtaining the Data"
      ]
    },
    {
      "attachments": {},
      "cell_type": "markdown",
      "metadata": {
        "id": "qa-EK2vPjcJH"
      },
      "source": [
        "### 1.1 Loading the data"
      ]
    },
    {
      "attachments": {},
      "cell_type": "markdown",
      "metadata": {
        "id": "0g8XuMC8-8k-"
      },
      "source": [
        "First, we load the data from our [dataset](https://docs.google.com/spreadsheets/d/1jzNEJWQMvfK6aJeG28JSXecrLZfjeFOCYp-gtW0Q7LQ/edit#gid=1456408654) which we have made available online. \n",
        "\n",
        "We display the last three records as shown in the output to ensure that we have obtained all data properly."
      ]
    },
    {
      "cell_type": "code",
      "execution_count": 183,
      "metadata": {
        "id": "O_30jbLBUUvI"
      },
      "outputs": [
        {
          "data": {
            "text/html": [
              "<div>\n",
              "<style scoped>\n",
              "    .dataframe tbody tr th:only-of-type {\n",
              "        vertical-align: middle;\n",
              "    }\n",
              "\n",
              "    .dataframe tbody tr th {\n",
              "        vertical-align: top;\n",
              "    }\n",
              "\n",
              "    .dataframe thead th {\n",
              "        text-align: right;\n",
              "    }\n",
              "</style>\n",
              "<table border=\"1\" class=\"dataframe\">\n",
              "  <thead>\n",
              "    <tr style=\"text-align: right;\">\n",
              "      <th></th>\n",
              "      <th>ID</th>\n",
              "      <th>Timestamp</th>\n",
              "      <th>Tweet URL</th>\n",
              "      <th>Group</th>\n",
              "      <th>Collector</th>\n",
              "      <th>Category</th>\n",
              "      <th>Topic</th>\n",
              "      <th>Keywords</th>\n",
              "      <th>Account handle</th>\n",
              "      <th>Account name</th>\n",
              "      <th>...</th>\n",
              "      <th>Quote Tweets</th>\n",
              "      <th>Views</th>\n",
              "      <th>Rating</th>\n",
              "      <th>Reasoning</th>\n",
              "      <th>Remarks</th>\n",
              "      <th>Thread/Tweet Language</th>\n",
              "      <th>Add columns here</th>\n",
              "      <th>Add columns here</th>\n",
              "      <th>Reviewer</th>\n",
              "      <th>Review</th>\n",
              "    </tr>\n",
              "  </thead>\n",
              "  <tbody>\n",
              "    <tr>\n",
              "      <th>149</th>\n",
              "      <td>28-149</td>\n",
              "      <td>18/04/2023 23:47:41</td>\n",
              "      <td>https://twitter.com/fenum9/status/137914056758...</td>\n",
              "      <td>28</td>\n",
              "      <td>Pardiñas, Miguel</td>\n",
              "      <td>HLTH</td>\n",
              "      <td>COVID-19 vaccines contain microchip, magnetic ...</td>\n",
              "      <td>\"covid\" \"vaccine\" \"metal\"</td>\n",
              "      <td>@fenum9</td>\n",
              "      <td>h♤yd$n 🧙‍♂️ 𓅃</td>\n",
              "      <td>...</td>\n",
              "      <td>0</td>\n",
              "      <td>NaN</td>\n",
              "      <td>NaN</td>\n",
              "      <td>Tells that nurse on duty during vaccine appoin...</td>\n",
              "      <td>No location</td>\n",
              "      <td>Foreign</td>\n",
              "      <td>NaN</td>\n",
              "      <td>NaN</td>\n",
              "      <td>NaN</td>\n",
              "      <td>NaN</td>\n",
              "    </tr>\n",
              "    <tr>\n",
              "      <th>150</th>\n",
              "      <td>28-150</td>\n",
              "      <td>18/04/2023 23:54:57</td>\n",
              "      <td>https://twitter.com/Wengsterrr_/status/1371652...</td>\n",
              "      <td>28</td>\n",
              "      <td>Pardiñas, Miguel</td>\n",
              "      <td>HLTH</td>\n",
              "      <td>COVID-19 vaccines contain microchip, magnetic ...</td>\n",
              "      <td>\"bakuna\" \"tubig\"</td>\n",
              "      <td>@Wengsterrr_</td>\n",
              "      <td>𝕃𝕦𝕒𝕟𝕟 𝕃𝕚 👅</td>\n",
              "      <td>...</td>\n",
              "      <td>0</td>\n",
              "      <td>NaN</td>\n",
              "      <td>NaN</td>\n",
              "      <td>Complains why cases went up, and points that p...</td>\n",
              "      <td>Location might be fake</td>\n",
              "      <td>Filipino</td>\n",
              "      <td>NaN</td>\n",
              "      <td>NaN</td>\n",
              "      <td>NaN</td>\n",
              "      <td>NaN</td>\n",
              "    </tr>\n",
              "    <tr>\n",
              "      <th>151</th>\n",
              "      <td>28-151</td>\n",
              "      <td>18/04/2023 23:59:24</td>\n",
              "      <td>https://twitter.com/AdrianSBanal/status/141888...</td>\n",
              "      <td>28</td>\n",
              "      <td>Pardiñas, Miguel</td>\n",
              "      <td>HLTH</td>\n",
              "      <td>COVID-19 vaccines contain microchip, magnetic ...</td>\n",
              "      <td>\"bakuna\" \"tubig\"</td>\n",
              "      <td>@AdrianSBanal</td>\n",
              "      <td>Nabs</td>\n",
              "      <td>...</td>\n",
              "      <td>0</td>\n",
              "      <td>NaN</td>\n",
              "      <td>NaN</td>\n",
              "      <td>Complains that vaccine might not be working, a...</td>\n",
              "      <td>NaN</td>\n",
              "      <td>Filipino</td>\n",
              "      <td>NaN</td>\n",
              "      <td>NaN</td>\n",
              "      <td>NaN</td>\n",
              "      <td>NaN</td>\n",
              "    </tr>\n",
              "  </tbody>\n",
              "</table>\n",
              "<p>3 rows × 35 columns</p>\n",
              "</div>"
            ],
            "text/plain": [
              "0        ID            Timestamp   \n",
              "149  28-149  18/04/2023 23:47:41  \\\n",
              "150  28-150  18/04/2023 23:54:57   \n",
              "151  28-151  18/04/2023 23:59:24   \n",
              "\n",
              "0                                            Tweet URL Group   \n",
              "149  https://twitter.com/fenum9/status/137914056758...    28  \\\n",
              "150  https://twitter.com/Wengsterrr_/status/1371652...    28   \n",
              "151  https://twitter.com/AdrianSBanal/status/141888...    28   \n",
              "\n",
              "0           Collector Category   \n",
              "149  Pardiñas, Miguel     HLTH  \\\n",
              "150  Pardiñas, Miguel     HLTH   \n",
              "151  Pardiñas, Miguel     HLTH   \n",
              "\n",
              "0                                                Topic   \n",
              "149  COVID-19 vaccines contain microchip, magnetic ...  \\\n",
              "150  COVID-19 vaccines contain microchip, magnetic ...   \n",
              "151  COVID-19 vaccines contain microchip, magnetic ...   \n",
              "\n",
              "0                     Keywords Account handle   Account name  ...   \n",
              "149  \"covid\" \"vaccine\" \"metal\"        @fenum9  h♤yd$n 🧙‍♂️ 𓅃  ...  \\\n",
              "150           \"bakuna\" \"tubig\"   @Wengsterrr_     𝕃𝕦𝕒𝕟𝕟 𝕃𝕚 👅  ...   \n",
              "151           \"bakuna\" \"tubig\"  @AdrianSBanal           Nabs  ...   \n",
              "\n",
              "0   Quote Tweets Views Rating   \n",
              "149            0   NaN    NaN  \\\n",
              "150            0   NaN    NaN   \n",
              "151            0   NaN    NaN   \n",
              "\n",
              "0                                            Reasoning   \n",
              "149  Tells that nurse on duty during vaccine appoin...  \\\n",
              "150  Complains why cases went up, and points that p...   \n",
              "151  Complains that vaccine might not be working, a...   \n",
              "\n",
              "0                   Remarks Thread/Tweet Language Add columns here   \n",
              "149             No location               Foreign              NaN  \\\n",
              "150  Location might be fake              Filipino              NaN   \n",
              "151                     NaN              Filipino              NaN   \n",
              "\n",
              "0   Add columns here Reviewer Review  \n",
              "149              NaN      NaN    NaN  \n",
              "150              NaN      NaN    NaN  \n",
              "151              NaN      NaN    NaN  \n",
              "\n",
              "[3 rows x 35 columns]"
            ]
          },
          "execution_count": 183,
          "metadata": {},
          "output_type": "execute_result"
        }
      ],
      "source": [
        "# Load datasets\n",
        "import pandas as pd\n",
        "import gspread\n",
        "import numpy as np\n",
        "\n",
        "import matplotlib.pyplot as plt\n",
        "import seaborn as sns\n",
        "\n",
        "\n",
        "sa = gspread.service_account(filename=\"group-28-dataset-7233caedfe09.json\")\n",
        "sheet = sa.open(\"Dataset - Group 28\")\n",
        "work_sheet = sheet.worksheet(\"Fixed Data\")\n",
        "\n",
        "df = pd.DataFrame(work_sheet.get_all_values())\n",
        "\n",
        "new_header = df.iloc[0] \n",
        "df = df[1:152] \n",
        "df.columns = new_header \n",
        "df = df.replace(r'^\\s*$', np.nan, regex=True)\n",
        "\n",
        "df.tail(3)\n"
      ]
    },
    {
      "attachments": {},
      "cell_type": "markdown",
      "metadata": {},
      "source": [
        "Shown here are all the current features of the dataset. \n",
        "\n",
        "This may include features with missing values."
      ]
    },
    {
      "cell_type": "code",
      "execution_count": 184,
      "metadata": {},
      "outputs": [
        {
          "name": "stdout",
          "output_type": "stream",
          "text": [
            "List all current features:\n"
          ]
        },
        {
          "data": {
            "text/plain": [
              "Index(['ID', 'Timestamp', 'Tweet URL', 'Group', 'Collector', 'Category',\n",
              "       'Topic', 'Keywords', 'Account handle', 'Account name', 'Account bio',\n",
              "       'Account type', 'Joined', 'Following', 'Followers', 'Location', 'Tweet',\n",
              "       'Tweet Translated', 'Tweet Type', 'Date posted', 'Screenshot',\n",
              "       'Content type', 'Likes', 'Replies', 'Retweets', 'Quote Tweets', 'Views',\n",
              "       'Rating', 'Reasoning', 'Remarks', 'Thread/Tweet Language',\n",
              "       'Add columns here', 'Add columns here', 'Reviewer', 'Review'],\n",
              "      dtype='object', name=0)"
            ]
          },
          "execution_count": 184,
          "metadata": {},
          "output_type": "execute_result"
        }
      ],
      "source": [
        "print(\"List all current features:\")\n",
        "df.columns"
      ]
    },
    {
      "cell_type": "code",
      "execution_count": 185,
      "metadata": {},
      "outputs": [
        {
          "name": "stdout",
          "output_type": "stream",
          "text": [
            "Display the number of records and features:\n"
          ]
        },
        {
          "data": {
            "text/plain": [
              "(151, 35)"
            ]
          },
          "execution_count": 185,
          "metadata": {},
          "output_type": "execute_result"
        }
      ],
      "source": [
        "print(\"Display the number of records and features:\")\n",
        "df.shape"
      ]
    },
    {
      "attachments": {},
      "cell_type": "markdown",
      "metadata": {
        "id": "Gwd7qbXv904-"
      },
      "source": [
        "### 1.2 Checking for Missing Values"
      ]
    },
    {
      "attachments": {},
      "cell_type": "markdown",
      "metadata": {
        "id": "pPZxdPzo_rYP"
      },
      "source": [
        "Now, we check which features has no missing values.\n",
        "\n",
        "From, here we can see that there are missing value on Account Bio, Location, Screenshot, etc."
      ]
    },
    {
      "cell_type": "code",
      "execution_count": 186,
      "metadata": {
        "colab": {
          "base_uri": "https://localhost:8080/"
        },
        "id": "wcJuKgqnnBk7",
        "outputId": "fc0782e1-e730-463d-d9fa-2e806b39bd8d"
      },
      "outputs": [
        {
          "name": "stdout",
          "output_type": "stream",
          "text": [
            "Check for features with missing values:\n"
          ]
        },
        {
          "data": {
            "text/plain": [
              "['Account bio',\n",
              " 'Location',\n",
              " 'Screenshot',\n",
              " 'Quote Tweets',\n",
              " 'Views',\n",
              " 'Rating',\n",
              " 'Remarks',\n",
              " 'Add columns here',\n",
              " 'Add columns here',\n",
              " 'Reviewer',\n",
              " 'Review']"
            ]
          },
          "execution_count": 186,
          "metadata": {},
          "output_type": "execute_result"
        }
      ],
      "source": [
        "print(\"Check for features with missing values:\")\n",
        "df.columns[df.isna().any()].tolist()"
      ]
    },
    {
      "attachments": {},
      "cell_type": "markdown",
      "metadata": {},
      "source": [
        "Upon checking, the collectors deemed that the only necessary features for this project are as follows:\n",
        "\n",
        "> `['ID', 'Timestamp', 'Tweet URL', 'Group', 'Keywords',\n",
        "    'Account handle', 'Account name', 'Account bio', 'Account type', \n",
        "    'Tweet', 'Tweet Translated', 'Tweet Type', 'Date posted',\n",
        "    'Content type', 'Reasoning', 'Thread/Tweet Language',]`\n",
        "\n",
        "From the previous output, we can verify that all of these features have no missing value."
      ]
    },
    {
      "cell_type": "code",
      "execution_count": 187,
      "metadata": {
        "colab": {
          "base_uri": "https://localhost:8080/"
        },
        "id": "_iamLkwGnX6Y",
        "outputId": "f83c5f12-f43e-40de-ce4b-bc26d8ca6791"
      },
      "outputs": [
        {
          "name": "stdout",
          "output_type": "stream",
          "text": [
            "Dataset summary:\n"
          ]
        },
        {
          "data": {
            "text/html": [
              "<div>\n",
              "<style scoped>\n",
              "    .dataframe tbody tr th:only-of-type {\n",
              "        vertical-align: middle;\n",
              "    }\n",
              "\n",
              "    .dataframe tbody tr th {\n",
              "        vertical-align: top;\n",
              "    }\n",
              "\n",
              "    .dataframe thead th {\n",
              "        text-align: right;\n",
              "    }\n",
              "</style>\n",
              "<table border=\"1\" class=\"dataframe\">\n",
              "  <thead>\n",
              "    <tr style=\"text-align: right;\">\n",
              "      <th></th>\n",
              "      <th>ID</th>\n",
              "      <th>Timestamp</th>\n",
              "      <th>Tweet URL</th>\n",
              "      <th>Group</th>\n",
              "      <th>Keywords</th>\n",
              "      <th>Account handle</th>\n",
              "      <th>Account name</th>\n",
              "      <th>Account bio</th>\n",
              "      <th>Account type</th>\n",
              "      <th>Tweet</th>\n",
              "      <th>Tweet Translated</th>\n",
              "      <th>Tweet Type</th>\n",
              "      <th>Date posted</th>\n",
              "      <th>Content type</th>\n",
              "      <th>Reasoning</th>\n",
              "      <th>Thread/Tweet Language</th>\n",
              "    </tr>\n",
              "  </thead>\n",
              "  <tbody>\n",
              "    <tr>\n",
              "      <th>148</th>\n",
              "      <td>28-148</td>\n",
              "      <td>18/04/2023 23:43:56</td>\n",
              "      <td>https://twitter.com/HatzPurp/status/1385080074...</td>\n",
              "      <td>28</td>\n",
              "      <td>\"covid\" \"vaccine\" \"metal\"</td>\n",
              "      <td>@HatzPurp</td>\n",
              "      <td>Hatz Purp</td>\n",
              "      <td>Versatile</td>\n",
              "      <td>Anonymous</td>\n",
              "      <td>Covid-19 is a man-made Virus released on the p...</td>\n",
              "      <td>Covid-19 is a man-made Virus released on the p...</td>\n",
              "      <td>Text, Reply</td>\n",
              "      <td>22/04/21 11:56</td>\n",
              "      <td>Rational</td>\n",
              "      <td>Says that covid is man-made to make the public...</td>\n",
              "      <td>Foreign</td>\n",
              "    </tr>\n",
              "    <tr>\n",
              "      <th>149</th>\n",
              "      <td>28-149</td>\n",
              "      <td>18/04/2023 23:47:41</td>\n",
              "      <td>https://twitter.com/fenum9/status/137914056758...</td>\n",
              "      <td>28</td>\n",
              "      <td>\"covid\" \"vaccine\" \"metal\"</td>\n",
              "      <td>@fenum9</td>\n",
              "      <td>h♤yd$n 🧙‍♂️ 𓅃</td>\n",
              "      <td>tall glass of yogurt</td>\n",
              "      <td>Anonymous</td>\n",
              "      <td>Was just waiting to get COVID vaccine and the ...</td>\n",
              "      <td>Was just waiting to get COVID vaccine and the ...</td>\n",
              "      <td>Text</td>\n",
              "      <td>6/4/21 2:35</td>\n",
              "      <td>Emotional</td>\n",
              "      <td>Tells that nurse on duty during vaccine appoin...</td>\n",
              "      <td>Foreign</td>\n",
              "    </tr>\n",
              "    <tr>\n",
              "      <th>150</th>\n",
              "      <td>28-150</td>\n",
              "      <td>18/04/2023 23:54:57</td>\n",
              "      <td>https://twitter.com/Wengsterrr_/status/1371652...</td>\n",
              "      <td>28</td>\n",
              "      <td>\"bakuna\" \"tubig\"</td>\n",
              "      <td>@Wengsterrr_</td>\n",
              "      <td>𝕃𝕦𝕒𝕟𝕟 𝕃𝕚 👅</td>\n",
              "      <td>— ɪ’ᴍ ᴀ ᴘᴀʀᴀᴅᴏx.</td>\n",
              "      <td>Anonymous</td>\n",
              "      <td>Kung kelan nagkaroon ng bakuna kontra COVID, t...</td>\n",
              "      <td>When there was a vaccine against COVID, positi...</td>\n",
              "      <td>Text</td>\n",
              "      <td>16/03/21 10:41</td>\n",
              "      <td>Emotional</td>\n",
              "      <td>Complains why cases went up, and points that p...</td>\n",
              "      <td>Filipino</td>\n",
              "    </tr>\n",
              "    <tr>\n",
              "      <th>151</th>\n",
              "      <td>28-151</td>\n",
              "      <td>18/04/2023 23:59:24</td>\n",
              "      <td>https://twitter.com/AdrianSBanal/status/141888...</td>\n",
              "      <td>28</td>\n",
              "      <td>\"bakuna\" \"tubig\"</td>\n",
              "      <td>@AdrianSBanal</td>\n",
              "      <td>Nabs</td>\n",
              "      <td>Malas lang</td>\n",
              "      <td>Anonymous</td>\n",
              "      <td>Taenang bakuna walang epekto tubig baha lang a...</td>\n",
              "      <td>Taenang vaccine has no effect, it's just flood...</td>\n",
              "      <td>Text</td>\n",
              "      <td>24/07/21 19:01</td>\n",
              "      <td>Emotional</td>\n",
              "      <td>Complains that vaccine might not be working, a...</td>\n",
              "      <td>Filipino</td>\n",
              "    </tr>\n",
              "  </tbody>\n",
              "</table>\n",
              "</div>"
            ],
            "text/plain": [
              "0        ID            Timestamp   \n",
              "148  28-148  18/04/2023 23:43:56  \\\n",
              "149  28-149  18/04/2023 23:47:41   \n",
              "150  28-150  18/04/2023 23:54:57   \n",
              "151  28-151  18/04/2023 23:59:24   \n",
              "\n",
              "0                                            Tweet URL Group   \n",
              "148  https://twitter.com/HatzPurp/status/1385080074...    28  \\\n",
              "149  https://twitter.com/fenum9/status/137914056758...    28   \n",
              "150  https://twitter.com/Wengsterrr_/status/1371652...    28   \n",
              "151  https://twitter.com/AdrianSBanal/status/141888...    28   \n",
              "\n",
              "0                     Keywords Account handle   Account name   \n",
              "148  \"covid\" \"vaccine\" \"metal\"      @HatzPurp      Hatz Purp  \\\n",
              "149  \"covid\" \"vaccine\" \"metal\"        @fenum9  h♤yd$n 🧙‍♂️ 𓅃   \n",
              "150           \"bakuna\" \"tubig\"   @Wengsterrr_     𝕃𝕦𝕒𝕟𝕟 𝕃𝕚 👅   \n",
              "151           \"bakuna\" \"tubig\"  @AdrianSBanal           Nabs   \n",
              "\n",
              "0             Account bio Account type   \n",
              "148             Versatile    Anonymous  \\\n",
              "149  tall glass of yogurt    Anonymous   \n",
              "150      — ɪ’ᴍ ᴀ ᴘᴀʀᴀᴅᴏx.    Anonymous   \n",
              "151            Malas lang    Anonymous   \n",
              "\n",
              "0                                                Tweet   \n",
              "148  Covid-19 is a man-made Virus released on the p...  \\\n",
              "149  Was just waiting to get COVID vaccine and the ...   \n",
              "150  Kung kelan nagkaroon ng bakuna kontra COVID, t...   \n",
              "151  Taenang bakuna walang epekto tubig baha lang a...   \n",
              "\n",
              "0                                     Tweet Translated   Tweet Type   \n",
              "148  Covid-19 is a man-made Virus released on the p...  Text, Reply  \\\n",
              "149  Was just waiting to get COVID vaccine and the ...         Text   \n",
              "150  When there was a vaccine against COVID, positi...         Text   \n",
              "151  Taenang vaccine has no effect, it's just flood...         Text   \n",
              "\n",
              "0       Date posted Content type   \n",
              "148  22/04/21 11:56     Rational  \\\n",
              "149     6/4/21 2:35    Emotional   \n",
              "150  16/03/21 10:41    Emotional   \n",
              "151  24/07/21 19:01    Emotional   \n",
              "\n",
              "0                                            Reasoning Thread/Tweet Language  \n",
              "148  Says that covid is man-made to make the public...               Foreign  \n",
              "149  Tells that nurse on duty during vaccine appoin...               Foreign  \n",
              "150  Complains why cases went up, and points that p...              Filipino  \n",
              "151  Complains that vaccine might not be working, a...              Filipino  "
            ]
          },
          "execution_count": 187,
          "metadata": {},
          "output_type": "execute_result"
        }
      ],
      "source": [
        "print(\"Dataset summary:\")\n",
        "df_clean = df[['ID', 'Timestamp', 'Tweet URL', 'Group', 'Keywords', \n",
        "         'Account handle', 'Account name', 'Account bio', 'Account type', \n",
        "         'Tweet', 'Tweet Translated', 'Tweet Type', 'Date posted',\n",
        "         'Content type', 'Reasoning', 'Thread/Tweet Language',]]\n",
        "df_clean.tail(4)"
      ]
    },
    {
      "attachments": {},
      "cell_type": "markdown",
      "metadata": {
        "id": "UOlD-T6UpoVs"
      },
      "source": [
        "The table shows a simple summary of our clean dataset. Some notable observations are as follows: \n",
        "- ID, Tweet URL, Tweet, and Tweet Translated have unique values.\n",
        "- 82 out of 151 tweets are of Emotional content type.\n",
        "- There are 78 Foreign Tweets. This also implies that the remaining 73 tweets are Filipino Tweets.\n",
        "- Ven Cuenca has four tweets on this dataset."
      ]
    },
    {
      "attachments": {},
      "cell_type": "markdown",
      "metadata": {
        "id": "4ZmCav9n-h21"
      },
      "source": [
        "### 1.3 Ensuring Formatting Consistency"
      ]
    },
    {
      "attachments": {},
      "cell_type": "markdown",
      "metadata": {},
      "source": [
        "For this subsection, we will check formatting consistency of some features.\n",
        "\n",
        "For timestamp, we ensured that the data type is datetime. By default, the format of datetime in Pandas is YYYY-MM-DD HH:MM:SS."
      ]
    },
    {
      "cell_type": "code",
      "execution_count": 188,
      "metadata": {},
      "outputs": [
        {
          "data": {
            "text/plain": [
              "1     2023-02-27 13:34:22\n",
              "2     2023-02-27 13:40:42\n",
              "3     2023-03-03 03:23:13\n",
              "4     2023-03-03 03:31:35\n",
              "5     2023-03-03 03:43:09\n",
              "              ...        \n",
              "147   2023-04-18 23:41:34\n",
              "148   2023-04-18 23:43:56\n",
              "149   2023-04-18 23:47:41\n",
              "150   2023-04-18 23:54:57\n",
              "151   2023-04-18 23:59:24\n",
              "Name: Timestamp, Length: 151, dtype: datetime64[ns]"
            ]
          },
          "execution_count": 188,
          "metadata": {},
          "output_type": "execute_result"
        }
      ],
      "source": [
        "df_clean.loc[0:151, \"Timestamp\"] = pd.to_datetime(df_clean[\"Timestamp\"], format='%d/%m/%Y %H:%M:%S').copy()\n",
        "df_clean[\"Timestamp\"].apply(pd.to_datetime)"
      ]
    },
    {
      "attachments": {},
      "cell_type": "markdown",
      "metadata": {},
      "source": [
        "For date posted, we ensured that the data type is datetime. By default, the format of datetime in Pandas is YYYY-MM-DD HH:MM:SS."
      ]
    },
    {
      "cell_type": "code",
      "execution_count": 189,
      "metadata": {},
      "outputs": [
        {
          "data": {
            "text/plain": [
              "1     2021-08-24 19:34:00\n",
              "2     2021-08-20 13:59:00\n",
              "3     2021-08-14 21:35:00\n",
              "4     2021-08-09 20:12:00\n",
              "5     2021-08-04 15:54:00\n",
              "              ...        \n",
              "147   2021-03-02 19:07:00\n",
              "148   2021-04-22 11:56:00\n",
              "149   2021-04-06 02:35:00\n",
              "150   2021-03-16 10:41:00\n",
              "151   2021-07-24 19:01:00\n",
              "Name: Date posted, Length: 151, dtype: datetime64[ns]"
            ]
          },
          "execution_count": 189,
          "metadata": {},
          "output_type": "execute_result"
        }
      ],
      "source": [
        "df_clean.loc[0:151, \"Date posted\"] = pd.to_datetime(df_clean[\"Date posted\"], format='%d/%m/%y %H:%M').copy()\n",
        "df_clean[\"Date posted\"].apply(pd.to_datetime)"
      ]
    },
    {
      "attachments": {},
      "cell_type": "markdown",
      "metadata": {},
      "source": [
        "## 2 Time Series Analysis"
      ]
    },
    {
      "attachments": {},
      "cell_type": "markdown",
      "metadata": {},
      "source": [
        "### 2.1 Feature Generation"
      ]
    },
    {
      "attachments": {},
      "cell_type": "markdown",
      "metadata": {},
      "source": [
        "Creating new Feature"
      ]
    },
    {
      "cell_type": "code",
      "execution_count": 190,
      "metadata": {},
      "outputs": [
        {
          "data": {
            "text/html": [
              "<div>\n",
              "<style scoped>\n",
              "    .dataframe tbody tr th:only-of-type {\n",
              "        vertical-align: middle;\n",
              "    }\n",
              "\n",
              "    .dataframe tbody tr th {\n",
              "        vertical-align: top;\n",
              "    }\n",
              "\n",
              "    .dataframe thead th {\n",
              "        text-align: right;\n",
              "    }\n",
              "</style>\n",
              "<table border=\"1\" class=\"dataframe\">\n",
              "  <thead>\n",
              "    <tr style=\"text-align: right;\">\n",
              "      <th></th>\n",
              "      <th>Date</th>\n",
              "      <th>Count</th>\n",
              "      <th>Filipino_Count</th>\n",
              "      <th>Foreign_Count</th>\n",
              "    </tr>\n",
              "  </thead>\n",
              "  <tbody>\n",
              "    <tr>\n",
              "      <th>1</th>\n",
              "      <td>2021-08-24 19:34:00</td>\n",
              "      <td>1</td>\n",
              "      <td>1</td>\n",
              "      <td>0</td>\n",
              "    </tr>\n",
              "    <tr>\n",
              "      <th>2</th>\n",
              "      <td>2021-08-20 13:59:00</td>\n",
              "      <td>1</td>\n",
              "      <td>1</td>\n",
              "      <td>0</td>\n",
              "    </tr>\n",
              "    <tr>\n",
              "      <th>3</th>\n",
              "      <td>2021-08-14 21:35:00</td>\n",
              "      <td>1</td>\n",
              "      <td>1</td>\n",
              "      <td>0</td>\n",
              "    </tr>\n",
              "    <tr>\n",
              "      <th>4</th>\n",
              "      <td>2021-08-09 20:12:00</td>\n",
              "      <td>1</td>\n",
              "      <td>1</td>\n",
              "      <td>0</td>\n",
              "    </tr>\n",
              "    <tr>\n",
              "      <th>5</th>\n",
              "      <td>2021-08-04 15:54:00</td>\n",
              "      <td>1</td>\n",
              "      <td>1</td>\n",
              "      <td>0</td>\n",
              "    </tr>\n",
              "    <tr>\n",
              "      <th>...</th>\n",
              "      <td>...</td>\n",
              "      <td>...</td>\n",
              "      <td>...</td>\n",
              "      <td>...</td>\n",
              "    </tr>\n",
              "    <tr>\n",
              "      <th>147</th>\n",
              "      <td>2021-03-02 19:07:00</td>\n",
              "      <td>1</td>\n",
              "      <td>0</td>\n",
              "      <td>1</td>\n",
              "    </tr>\n",
              "    <tr>\n",
              "      <th>148</th>\n",
              "      <td>2021-04-22 11:56:00</td>\n",
              "      <td>1</td>\n",
              "      <td>0</td>\n",
              "      <td>1</td>\n",
              "    </tr>\n",
              "    <tr>\n",
              "      <th>149</th>\n",
              "      <td>2021-04-06 02:35:00</td>\n",
              "      <td>1</td>\n",
              "      <td>0</td>\n",
              "      <td>1</td>\n",
              "    </tr>\n",
              "    <tr>\n",
              "      <th>150</th>\n",
              "      <td>2021-03-16 10:41:00</td>\n",
              "      <td>1</td>\n",
              "      <td>1</td>\n",
              "      <td>0</td>\n",
              "    </tr>\n",
              "    <tr>\n",
              "      <th>151</th>\n",
              "      <td>2021-07-24 19:01:00</td>\n",
              "      <td>1</td>\n",
              "      <td>1</td>\n",
              "      <td>0</td>\n",
              "    </tr>\n",
              "  </tbody>\n",
              "</table>\n",
              "<p>151 rows × 4 columns</p>\n",
              "</div>"
            ],
            "text/plain": [
              "                   Date  Count  Filipino_Count  Foreign_Count\n",
              "1   2021-08-24 19:34:00      1               1              0\n",
              "2   2021-08-20 13:59:00      1               1              0\n",
              "3   2021-08-14 21:35:00      1               1              0\n",
              "4   2021-08-09 20:12:00      1               1              0\n",
              "5   2021-08-04 15:54:00      1               1              0\n",
              "..                  ...    ...             ...            ...\n",
              "147 2021-03-02 19:07:00      1               0              1\n",
              "148 2021-04-22 11:56:00      1               0              1\n",
              "149 2021-04-06 02:35:00      1               0              1\n",
              "150 2021-03-16 10:41:00      1               1              0\n",
              "151 2021-07-24 19:01:00      1               1              0\n",
              "\n",
              "[151 rows x 4 columns]"
            ]
          },
          "execution_count": 190,
          "metadata": {},
          "output_type": "execute_result"
        }
      ],
      "source": [
        "df_dates = pd.DataFrame({\"Date\": df_clean[\"Date posted\"].apply(pd.to_datetime), \"Count\":1})\n",
        "df_dates_language = df_dates.assign(\n",
        "                Filipino_Count=df_dates['Count'] * df_clean[\"Thread/Tweet Language\"].eq('Filipino'),\n",
        "                Foreign_Count=df_dates['Count'] * df_clean[\"Thread/Tweet Language\"].eq('Foreign'),)\n",
        "\n",
        "df_dates_language"
      ]
    },
    {
      "attachments": {},
      "cell_type": "markdown",
      "metadata": {},
      "source": [
        "### 2.2 Binning"
      ]
    },
    {
      "attachments": {},
      "cell_type": "markdown",
      "metadata": {},
      "source": [
        "Binning"
      ]
    },
    {
      "cell_type": "code",
      "execution_count": 191,
      "metadata": {},
      "outputs": [
        {
          "data": {
            "text/html": [
              "<style type=\"text/css\">\n",
              "</style>\n",
              "<table id=\"T_d2264\">\n",
              "  <thead>\n",
              "    <tr>\n",
              "      <th class=\"blank level0\" >&nbsp;</th>\n",
              "      <th id=\"T_d2264_level0_col0\" class=\"col_heading level0 col0\" >Count</th>\n",
              "      <th id=\"T_d2264_level0_col1\" class=\"col_heading level0 col1\" >Filipino_Count</th>\n",
              "      <th id=\"T_d2264_level0_col2\" class=\"col_heading level0 col2\" >Foreign_Count</th>\n",
              "    </tr>\n",
              "    <tr>\n",
              "      <th class=\"index_name level0\" >Date</th>\n",
              "      <th class=\"blank col0\" >&nbsp;</th>\n",
              "      <th class=\"blank col1\" >&nbsp;</th>\n",
              "      <th class=\"blank col2\" >&nbsp;</th>\n",
              "    </tr>\n",
              "  </thead>\n",
              "  <tbody>\n",
              "    <tr>\n",
              "      <th id=\"T_d2264_level0_row0\" class=\"row_heading level0 row0\" >2020-01-01 00:00:00</th>\n",
              "      <td id=\"T_d2264_row0_col0\" class=\"data row0 col0\" >1</td>\n",
              "      <td id=\"T_d2264_row0_col1\" class=\"data row0 col1\" >1</td>\n",
              "      <td id=\"T_d2264_row0_col2\" class=\"data row0 col2\" >0</td>\n",
              "    </tr>\n",
              "    <tr>\n",
              "      <th id=\"T_d2264_level0_row1\" class=\"row_heading level0 row1\" >2020-02-01 00:00:00</th>\n",
              "      <td id=\"T_d2264_row1_col0\" class=\"data row1 col0\" >0</td>\n",
              "      <td id=\"T_d2264_row1_col1\" class=\"data row1 col1\" >0</td>\n",
              "      <td id=\"T_d2264_row1_col2\" class=\"data row1 col2\" >0</td>\n",
              "    </tr>\n",
              "    <tr>\n",
              "      <th id=\"T_d2264_level0_row2\" class=\"row_heading level0 row2\" >2020-03-01 00:00:00</th>\n",
              "      <td id=\"T_d2264_row2_col0\" class=\"data row2 col0\" >2</td>\n",
              "      <td id=\"T_d2264_row2_col1\" class=\"data row2 col1\" >0</td>\n",
              "      <td id=\"T_d2264_row2_col2\" class=\"data row2 col2\" >2</td>\n",
              "    </tr>\n",
              "    <tr>\n",
              "      <th id=\"T_d2264_level0_row3\" class=\"row_heading level0 row3\" >2020-04-01 00:00:00</th>\n",
              "      <td id=\"T_d2264_row3_col0\" class=\"data row3 col0\" >4</td>\n",
              "      <td id=\"T_d2264_row3_col1\" class=\"data row3 col1\" >2</td>\n",
              "      <td id=\"T_d2264_row3_col2\" class=\"data row3 col2\" >2</td>\n",
              "    </tr>\n",
              "    <tr>\n",
              "      <th id=\"T_d2264_level0_row4\" class=\"row_heading level0 row4\" >2020-05-01 00:00:00</th>\n",
              "      <td id=\"T_d2264_row4_col0\" class=\"data row4 col0\" >2</td>\n",
              "      <td id=\"T_d2264_row4_col1\" class=\"data row4 col1\" >2</td>\n",
              "      <td id=\"T_d2264_row4_col2\" class=\"data row4 col2\" >0</td>\n",
              "    </tr>\n",
              "    <tr>\n",
              "      <th id=\"T_d2264_level0_row5\" class=\"row_heading level0 row5\" >2020-06-01 00:00:00</th>\n",
              "      <td id=\"T_d2264_row5_col0\" class=\"data row5 col0\" >1</td>\n",
              "      <td id=\"T_d2264_row5_col1\" class=\"data row5 col1\" >0</td>\n",
              "      <td id=\"T_d2264_row5_col2\" class=\"data row5 col2\" >1</td>\n",
              "    </tr>\n",
              "    <tr>\n",
              "      <th id=\"T_d2264_level0_row6\" class=\"row_heading level0 row6\" >2020-07-01 00:00:00</th>\n",
              "      <td id=\"T_d2264_row6_col0\" class=\"data row6 col0\" >2</td>\n",
              "      <td id=\"T_d2264_row6_col1\" class=\"data row6 col1\" >1</td>\n",
              "      <td id=\"T_d2264_row6_col2\" class=\"data row6 col2\" >1</td>\n",
              "    </tr>\n",
              "    <tr>\n",
              "      <th id=\"T_d2264_level0_row7\" class=\"row_heading level0 row7\" >2020-08-01 00:00:00</th>\n",
              "      <td id=\"T_d2264_row7_col0\" class=\"data row7 col0\" >2</td>\n",
              "      <td id=\"T_d2264_row7_col1\" class=\"data row7 col1\" >2</td>\n",
              "      <td id=\"T_d2264_row7_col2\" class=\"data row7 col2\" >0</td>\n",
              "    </tr>\n",
              "    <tr>\n",
              "      <th id=\"T_d2264_level0_row8\" class=\"row_heading level0 row8\" >2020-09-01 00:00:00</th>\n",
              "      <td id=\"T_d2264_row8_col0\" class=\"data row8 col0\" >2</td>\n",
              "      <td id=\"T_d2264_row8_col1\" class=\"data row8 col1\" >2</td>\n",
              "      <td id=\"T_d2264_row8_col2\" class=\"data row8 col2\" >0</td>\n",
              "    </tr>\n",
              "    <tr>\n",
              "      <th id=\"T_d2264_level0_row9\" class=\"row_heading level0 row9\" >2020-10-01 00:00:00</th>\n",
              "      <td id=\"T_d2264_row9_col0\" class=\"data row9 col0\" >2</td>\n",
              "      <td id=\"T_d2264_row9_col1\" class=\"data row9 col1\" >1</td>\n",
              "      <td id=\"T_d2264_row9_col2\" class=\"data row9 col2\" >1</td>\n",
              "    </tr>\n",
              "    <tr>\n",
              "      <th id=\"T_d2264_level0_row10\" class=\"row_heading level0 row10\" >2020-11-01 00:00:00</th>\n",
              "      <td id=\"T_d2264_row10_col0\" class=\"data row10 col0\" >1</td>\n",
              "      <td id=\"T_d2264_row10_col1\" class=\"data row10 col1\" >0</td>\n",
              "      <td id=\"T_d2264_row10_col2\" class=\"data row10 col2\" >1</td>\n",
              "    </tr>\n",
              "    <tr>\n",
              "      <th id=\"T_d2264_level0_row11\" class=\"row_heading level0 row11\" >2020-12-01 00:00:00</th>\n",
              "      <td id=\"T_d2264_row11_col0\" class=\"data row11 col0\" >9</td>\n",
              "      <td id=\"T_d2264_row11_col1\" class=\"data row11 col1\" >5</td>\n",
              "      <td id=\"T_d2264_row11_col2\" class=\"data row11 col2\" >4</td>\n",
              "    </tr>\n",
              "    <tr>\n",
              "      <th id=\"T_d2264_level0_row12\" class=\"row_heading level0 row12\" >2021-01-01 00:00:00</th>\n",
              "      <td id=\"T_d2264_row12_col0\" class=\"data row12 col0\" >3</td>\n",
              "      <td id=\"T_d2264_row12_col1\" class=\"data row12 col1\" >2</td>\n",
              "      <td id=\"T_d2264_row12_col2\" class=\"data row12 col2\" >1</td>\n",
              "    </tr>\n",
              "    <tr>\n",
              "      <th id=\"T_d2264_level0_row13\" class=\"row_heading level0 row13\" >2021-02-01 00:00:00</th>\n",
              "      <td id=\"T_d2264_row13_col0\" class=\"data row13 col0\" >5</td>\n",
              "      <td id=\"T_d2264_row13_col1\" class=\"data row13 col1\" >4</td>\n",
              "      <td id=\"T_d2264_row13_col2\" class=\"data row13 col2\" >1</td>\n",
              "    </tr>\n",
              "    <tr>\n",
              "      <th id=\"T_d2264_level0_row14\" class=\"row_heading level0 row14\" >2021-03-01 00:00:00</th>\n",
              "      <td id=\"T_d2264_row14_col0\" class=\"data row14 col0\" >9</td>\n",
              "      <td id=\"T_d2264_row14_col1\" class=\"data row14 col1\" >6</td>\n",
              "      <td id=\"T_d2264_row14_col2\" class=\"data row14 col2\" >3</td>\n",
              "    </tr>\n",
              "    <tr>\n",
              "      <th id=\"T_d2264_level0_row15\" class=\"row_heading level0 row15\" >2021-04-01 00:00:00</th>\n",
              "      <td id=\"T_d2264_row15_col0\" class=\"data row15 col0\" >12</td>\n",
              "      <td id=\"T_d2264_row15_col1\" class=\"data row15 col1\" >9</td>\n",
              "      <td id=\"T_d2264_row15_col2\" class=\"data row15 col2\" >3</td>\n",
              "    </tr>\n",
              "    <tr>\n",
              "      <th id=\"T_d2264_level0_row16\" class=\"row_heading level0 row16\" >2021-05-01 00:00:00</th>\n",
              "      <td id=\"T_d2264_row16_col0\" class=\"data row16 col0\" >20</td>\n",
              "      <td id=\"T_d2264_row16_col1\" class=\"data row16 col1\" >7</td>\n",
              "      <td id=\"T_d2264_row16_col2\" class=\"data row16 col2\" >13</td>\n",
              "    </tr>\n",
              "    <tr>\n",
              "      <th id=\"T_d2264_level0_row17\" class=\"row_heading level0 row17\" >2021-06-01 00:00:00</th>\n",
              "      <td id=\"T_d2264_row17_col0\" class=\"data row17 col0\" >9</td>\n",
              "      <td id=\"T_d2264_row17_col1\" class=\"data row17 col1\" >5</td>\n",
              "      <td id=\"T_d2264_row17_col2\" class=\"data row17 col2\" >4</td>\n",
              "    </tr>\n",
              "    <tr>\n",
              "      <th id=\"T_d2264_level0_row18\" class=\"row_heading level0 row18\" >2021-07-01 00:00:00</th>\n",
              "      <td id=\"T_d2264_row18_col0\" class=\"data row18 col0\" >10</td>\n",
              "      <td id=\"T_d2264_row18_col1\" class=\"data row18 col1\" >7</td>\n",
              "      <td id=\"T_d2264_row18_col2\" class=\"data row18 col2\" >3</td>\n",
              "    </tr>\n",
              "    <tr>\n",
              "      <th id=\"T_d2264_level0_row19\" class=\"row_heading level0 row19\" >2021-08-01 00:00:00</th>\n",
              "      <td id=\"T_d2264_row19_col0\" class=\"data row19 col0\" >17</td>\n",
              "      <td id=\"T_d2264_row19_col1\" class=\"data row19 col1\" >14</td>\n",
              "      <td id=\"T_d2264_row19_col2\" class=\"data row19 col2\" >3</td>\n",
              "    </tr>\n",
              "    <tr>\n",
              "      <th id=\"T_d2264_level0_row20\" class=\"row_heading level0 row20\" >2021-09-01 00:00:00</th>\n",
              "      <td id=\"T_d2264_row20_col0\" class=\"data row20 col0\" >2</td>\n",
              "      <td id=\"T_d2264_row20_col1\" class=\"data row20 col1\" >1</td>\n",
              "      <td id=\"T_d2264_row20_col2\" class=\"data row20 col2\" >1</td>\n",
              "    </tr>\n",
              "    <tr>\n",
              "      <th id=\"T_d2264_level0_row21\" class=\"row_heading level0 row21\" >2021-10-01 00:00:00</th>\n",
              "      <td id=\"T_d2264_row21_col0\" class=\"data row21 col0\" >1</td>\n",
              "      <td id=\"T_d2264_row21_col1\" class=\"data row21 col1\" >1</td>\n",
              "      <td id=\"T_d2264_row21_col2\" class=\"data row21 col2\" >0</td>\n",
              "    </tr>\n",
              "    <tr>\n",
              "      <th id=\"T_d2264_level0_row22\" class=\"row_heading level0 row22\" >2021-11-01 00:00:00</th>\n",
              "      <td id=\"T_d2264_row22_col0\" class=\"data row22 col0\" >0</td>\n",
              "      <td id=\"T_d2264_row22_col1\" class=\"data row22 col1\" >0</td>\n",
              "      <td id=\"T_d2264_row22_col2\" class=\"data row22 col2\" >0</td>\n",
              "    </tr>\n",
              "    <tr>\n",
              "      <th id=\"T_d2264_level0_row23\" class=\"row_heading level0 row23\" >2021-12-01 00:00:00</th>\n",
              "      <td id=\"T_d2264_row23_col0\" class=\"data row23 col0\" >2</td>\n",
              "      <td id=\"T_d2264_row23_col1\" class=\"data row23 col1\" >0</td>\n",
              "      <td id=\"T_d2264_row23_col2\" class=\"data row23 col2\" >2</td>\n",
              "    </tr>\n",
              "    <tr>\n",
              "      <th id=\"T_d2264_level0_row24\" class=\"row_heading level0 row24\" >2022-01-01 00:00:00</th>\n",
              "      <td id=\"T_d2264_row24_col0\" class=\"data row24 col0\" >1</td>\n",
              "      <td id=\"T_d2264_row24_col1\" class=\"data row24 col1\" >0</td>\n",
              "      <td id=\"T_d2264_row24_col2\" class=\"data row24 col2\" >1</td>\n",
              "    </tr>\n",
              "    <tr>\n",
              "      <th id=\"T_d2264_level0_row25\" class=\"row_heading level0 row25\" >2022-02-01 00:00:00</th>\n",
              "      <td id=\"T_d2264_row25_col0\" class=\"data row25 col0\" >0</td>\n",
              "      <td id=\"T_d2264_row25_col1\" class=\"data row25 col1\" >0</td>\n",
              "      <td id=\"T_d2264_row25_col2\" class=\"data row25 col2\" >0</td>\n",
              "    </tr>\n",
              "    <tr>\n",
              "      <th id=\"T_d2264_level0_row26\" class=\"row_heading level0 row26\" >2022-03-01 00:00:00</th>\n",
              "      <td id=\"T_d2264_row26_col0\" class=\"data row26 col0\" >0</td>\n",
              "      <td id=\"T_d2264_row26_col1\" class=\"data row26 col1\" >0</td>\n",
              "      <td id=\"T_d2264_row26_col2\" class=\"data row26 col2\" >0</td>\n",
              "    </tr>\n",
              "    <tr>\n",
              "      <th id=\"T_d2264_level0_row27\" class=\"row_heading level0 row27\" >2022-04-01 00:00:00</th>\n",
              "      <td id=\"T_d2264_row27_col0\" class=\"data row27 col0\" >1</td>\n",
              "      <td id=\"T_d2264_row27_col1\" class=\"data row27 col1\" >0</td>\n",
              "      <td id=\"T_d2264_row27_col2\" class=\"data row27 col2\" >1</td>\n",
              "    </tr>\n",
              "    <tr>\n",
              "      <th id=\"T_d2264_level0_row28\" class=\"row_heading level0 row28\" >2022-05-01 00:00:00</th>\n",
              "      <td id=\"T_d2264_row28_col0\" class=\"data row28 col0\" >1</td>\n",
              "      <td id=\"T_d2264_row28_col1\" class=\"data row28 col1\" >0</td>\n",
              "      <td id=\"T_d2264_row28_col2\" class=\"data row28 col2\" >1</td>\n",
              "    </tr>\n",
              "    <tr>\n",
              "      <th id=\"T_d2264_level0_row29\" class=\"row_heading level0 row29\" >2022-06-01 00:00:00</th>\n",
              "      <td id=\"T_d2264_row29_col0\" class=\"data row29 col0\" >1</td>\n",
              "      <td id=\"T_d2264_row29_col1\" class=\"data row29 col1\" >0</td>\n",
              "      <td id=\"T_d2264_row29_col2\" class=\"data row29 col2\" >1</td>\n",
              "    </tr>\n",
              "    <tr>\n",
              "      <th id=\"T_d2264_level0_row30\" class=\"row_heading level0 row30\" >2022-07-01 00:00:00</th>\n",
              "      <td id=\"T_d2264_row30_col0\" class=\"data row30 col0\" >0</td>\n",
              "      <td id=\"T_d2264_row30_col1\" class=\"data row30 col1\" >0</td>\n",
              "      <td id=\"T_d2264_row30_col2\" class=\"data row30 col2\" >0</td>\n",
              "    </tr>\n",
              "    <tr>\n",
              "      <th id=\"T_d2264_level0_row31\" class=\"row_heading level0 row31\" >2022-08-01 00:00:00</th>\n",
              "      <td id=\"T_d2264_row31_col0\" class=\"data row31 col0\" >2</td>\n",
              "      <td id=\"T_d2264_row31_col1\" class=\"data row31 col1\" >1</td>\n",
              "      <td id=\"T_d2264_row31_col2\" class=\"data row31 col2\" >1</td>\n",
              "    </tr>\n",
              "    <tr>\n",
              "      <th id=\"T_d2264_level0_row32\" class=\"row_heading level0 row32\" >2022-09-01 00:00:00</th>\n",
              "      <td id=\"T_d2264_row32_col0\" class=\"data row32 col0\" >4</td>\n",
              "      <td id=\"T_d2264_row32_col1\" class=\"data row32 col1\" >0</td>\n",
              "      <td id=\"T_d2264_row32_col2\" class=\"data row32 col2\" >4</td>\n",
              "    </tr>\n",
              "    <tr>\n",
              "      <th id=\"T_d2264_level0_row33\" class=\"row_heading level0 row33\" >2022-10-01 00:00:00</th>\n",
              "      <td id=\"T_d2264_row33_col0\" class=\"data row33 col0\" >2</td>\n",
              "      <td id=\"T_d2264_row33_col1\" class=\"data row33 col1\" >0</td>\n",
              "      <td id=\"T_d2264_row33_col2\" class=\"data row33 col2\" >2</td>\n",
              "    </tr>\n",
              "    <tr>\n",
              "      <th id=\"T_d2264_level0_row34\" class=\"row_heading level0 row34\" >2022-11-01 00:00:00</th>\n",
              "      <td id=\"T_d2264_row34_col0\" class=\"data row34 col0\" >1</td>\n",
              "      <td id=\"T_d2264_row34_col1\" class=\"data row34 col1\" >0</td>\n",
              "      <td id=\"T_d2264_row34_col2\" class=\"data row34 col2\" >1</td>\n",
              "    </tr>\n",
              "    <tr>\n",
              "      <th id=\"T_d2264_level0_row35\" class=\"row_heading level0 row35\" >2022-12-01 00:00:00</th>\n",
              "      <td id=\"T_d2264_row35_col0\" class=\"data row35 col0\" >20</td>\n",
              "      <td id=\"T_d2264_row35_col1\" class=\"data row35 col1\" >0</td>\n",
              "      <td id=\"T_d2264_row35_col2\" class=\"data row35 col2\" >20</td>\n",
              "    </tr>\n",
              "  </tbody>\n",
              "</table>\n"
            ],
            "text/plain": [
              "<pandas.io.formats.style.Styler at 0x2112fcf4cd0>"
            ]
          },
          "execution_count": 191,
          "metadata": {},
          "output_type": "execute_result"
        }
      ],
      "source": [
        "df_bin = df_dates_language.groupby(pd.Grouper(key=\"Date\", freq=\"1MS\")).sum()\n",
        "df_bin.style"
      ]
    },
    {
      "attachments": {},
      "cell_type": "markdown",
      "metadata": {},
      "source": [
        "### 2.3 Interpolation"
      ]
    },
    {
      "cell_type": "code",
      "execution_count": 232,
      "metadata": {},
      "outputs": [
        {
          "data": {
            "text/html": [
              "<div>\n",
              "<style scoped>\n",
              "    .dataframe tbody tr th:only-of-type {\n",
              "        vertical-align: middle;\n",
              "    }\n",
              "\n",
              "    .dataframe tbody tr th {\n",
              "        vertical-align: top;\n",
              "    }\n",
              "\n",
              "    .dataframe thead th {\n",
              "        text-align: right;\n",
              "    }\n",
              "</style>\n",
              "<table border=\"1\" class=\"dataframe\">\n",
              "  <thead>\n",
              "    <tr style=\"text-align: right;\">\n",
              "      <th></th>\n",
              "      <th>Count</th>\n",
              "      <th>Filipino_Count</th>\n",
              "      <th>Foreign_Count</th>\n",
              "    </tr>\n",
              "    <tr>\n",
              "      <th>Date</th>\n",
              "      <th></th>\n",
              "      <th></th>\n",
              "      <th></th>\n",
              "    </tr>\n",
              "  </thead>\n",
              "  <tbody>\n",
              "    <tr>\n",
              "      <th>2020-01-01 00:00:00</th>\n",
              "      <td>1.000000</td>\n",
              "      <td>1.000000</td>\n",
              "      <td>0.000000</td>\n",
              "    </tr>\n",
              "    <tr>\n",
              "      <th>2020-01-01 01:00:00</th>\n",
              "      <td>0.995392</td>\n",
              "      <td>0.999132</td>\n",
              "      <td>-0.003740</td>\n",
              "    </tr>\n",
              "    <tr>\n",
              "      <th>2020-01-01 02:00:00</th>\n",
              "      <td>0.990794</td>\n",
              "      <td>0.998261</td>\n",
              "      <td>-0.007467</td>\n",
              "    </tr>\n",
              "    <tr>\n",
              "      <th>2020-01-01 03:00:00</th>\n",
              "      <td>0.986207</td>\n",
              "      <td>0.997387</td>\n",
              "      <td>-0.011180</td>\n",
              "    </tr>\n",
              "    <tr>\n",
              "      <th>2020-01-01 04:00:00</th>\n",
              "      <td>0.981630</td>\n",
              "      <td>0.996511</td>\n",
              "      <td>-0.014881</td>\n",
              "    </tr>\n",
              "    <tr>\n",
              "      <th>...</th>\n",
              "      <td>...</td>\n",
              "      <td>...</td>\n",
              "      <td>...</td>\n",
              "    </tr>\n",
              "    <tr>\n",
              "      <th>2022-11-30 20:00:00</th>\n",
              "      <td>19.800240</td>\n",
              "      <td>-0.001188</td>\n",
              "      <td>19.801428</td>\n",
              "    </tr>\n",
              "    <tr>\n",
              "      <th>2022-11-30 21:00:00</th>\n",
              "      <td>19.850061</td>\n",
              "      <td>-0.000893</td>\n",
              "      <td>19.850953</td>\n",
              "    </tr>\n",
              "    <tr>\n",
              "      <th>2022-11-30 22:00:00</th>\n",
              "      <td>19.899961</td>\n",
              "      <td>-0.000596</td>\n",
              "      <td>19.900557</td>\n",
              "    </tr>\n",
              "    <tr>\n",
              "      <th>2022-11-30 23:00:00</th>\n",
              "      <td>19.949941</td>\n",
              "      <td>-0.000299</td>\n",
              "      <td>19.950239</td>\n",
              "    </tr>\n",
              "    <tr>\n",
              "      <th>2022-12-01 00:00:00</th>\n",
              "      <td>20.000000</td>\n",
              "      <td>0.000000</td>\n",
              "      <td>20.000000</td>\n",
              "    </tr>\n",
              "  </tbody>\n",
              "</table>\n",
              "<p>25561 rows × 3 columns</p>\n",
              "</div>"
            ],
            "text/plain": [
              "                         Count  Filipino_Count  Foreign_Count\n",
              "Date                                                         \n",
              "2020-01-01 00:00:00   1.000000        1.000000       0.000000\n",
              "2020-01-01 01:00:00   0.995392        0.999132      -0.003740\n",
              "2020-01-01 02:00:00   0.990794        0.998261      -0.007467\n",
              "2020-01-01 03:00:00   0.986207        0.997387      -0.011180\n",
              "2020-01-01 04:00:00   0.981630        0.996511      -0.014881\n",
              "...                        ...             ...            ...\n",
              "2022-11-30 20:00:00  19.800240       -0.001188      19.801428\n",
              "2022-11-30 21:00:00  19.850061       -0.000893      19.850953\n",
              "2022-11-30 22:00:00  19.899961       -0.000596      19.900557\n",
              "2022-11-30 23:00:00  19.949941       -0.000299      19.950239\n",
              "2022-12-01 00:00:00  20.000000        0.000000      20.000000\n",
              "\n",
              "[25561 rows x 3 columns]"
            ]
          },
          "execution_count": 232,
          "metadata": {},
          "output_type": "execute_result"
        }
      ],
      "source": [
        "df_resampled = df_bin.resample('H').mean()\n",
        "df_resampled.interpolate(method='cubic', order=5)\n",
        "df_interpolated = df_resampled.interpolate(method='cubic', order=5)\n",
        "df_interpolated"
      ]
    },
    {
      "attachments": {},
      "cell_type": "markdown",
      "metadata": {},
      "source": [
        "### 2.4 Visualization"
      ]
    },
    {
      "cell_type": "code",
      "execution_count": 233,
      "metadata": {},
      "outputs": [
        {
          "data": {
            "text/plain": [
              "Text(0.5, 1.0, 'Interpolation of the Frequency of Tweets (Hourly)')"
            ]
          },
          "execution_count": 233,
          "metadata": {},
          "output_type": "execute_result"
        },
        {
          "data": {
            "image/png": "[encoded data removed]",
            "text/plain": [
              "<Figure size 800x300 with 1 Axes>"
            ]
          },
          "metadata": {},
          "output_type": "display_data"
        },
        {
          "data": {
            "image/png": "[encoded data removed]",
            "text/plain": [
              "<Figure size 800x300 with 1 Axes>"
            ]
          },
          "metadata": {},
          "output_type": "display_data"
        }
      ],
      "source": [
        "color_dict = {'Count':'brown', 'Filipino_Count':'#FF7720', 'Foreign_Count':'orange'}\n",
        "df_bin.plot(figsize=(8,3), color=[color_dict.get(x, '#333333') for x in df_bin.columns])\n",
        "plt.title(\"Frequency of Tweets (Binning by Months)\")\n",
        "\n",
        "df_interpolated.plot(figsize=(8,3), color=[color_dict.get(x, '#333333') for x in df_interpolated.columns])\n",
        "plt.title(\"Interpolation of the Frequency of Tweets (Hourly)\")"
      ]
    }
  ],
  "metadata": {
    "colab": {
      "collapsed_sections": [
        "239rBgEr-qqZ",
        "rul9ZvnXnIGH",
        "JgfklOJDqLzN",
        "VD4jntLjnL21"
      ],
      "provenance": [],
      "toc_visible": true
    },
    "kernelspec": {
      "display_name": "Python 3",
      "name": "python3"
    },
    "language_info": {
      "codemirror_mode": {
        "name": "ipython",
        "version": 3
      },
      "file_extension": ".py",
      "mimetype": "text/x-python",
      "name": "python",
      "nbconvert_exporter": "python",
      "pygments_lexer": "ipython3",
      "version": "3.11.3"
    }
  },
  "nbformat": 4,
  "nbformat_minor": 0
}
